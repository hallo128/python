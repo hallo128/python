{
 "cells": [
  {
   "cell_type": "markdown",
   "metadata": {},
   "source": [
    "# wordcloud库\n",
    "词云库：根据文本中词语出现的频率绘制词云\n",
    "\n",
    "`conda install wordcloud`\n",
    "\n",
    "wordcloud.WordCloud()：代表一个文本对应的词云\n",
    "\n",
    "可设置：颜色、形状"
   ]
  },
  {
   "cell_type": "code",
   "execution_count": 15,
   "metadata": {},
   "outputs": [],
   "source": [
    "import wordcloud\n",
    "w = wordcloud.WordCloud()   #词云对象\n",
    "# width：宽度，默认400像素\n",
    "# height：高度，默认200像素\n",
    "# min_font_size：最小字号，默认4号\n",
    "# max_font_size：最大字号，默认根据高度自动调节\n",
    "# font_step: 字号改变的间隔\n",
    "# font_path：指定字体文件的路径\n",
    "# max_words: 词云显示的最大词数\n",
    "# stopwords: 词云的排除列表，集合的形式\n",
    "# mask：指定词云形状\n",
    "# background_color：词云的背景颜色"
   ]
  },
  {
   "cell_type": "code",
   "execution_count": 16,
   "metadata": {},
   "outputs": [
    {
     "data": {
      "text/plain": [
       "<wordcloud.wordcloud.WordCloud at 0x7f91a2768b50>"
      ]
     },
     "execution_count": 16,
     "metadata": {},
     "output_type": "execute_result"
    }
   ],
   "source": [
    "#向词云对象w中加载文本\n",
    "w.generate(\"Python and wordcloud\")"
   ]
  },
  {
   "cell_type": "code",
   "execution_count": 17,
   "metadata": {},
   "outputs": [
    {
     "data": {
      "text/plain": [
       "<wordcloud.wordcloud.WordCloud at 0x7f91a2768b50>"
      ]
     },
     "execution_count": 17,
     "metadata": {},
     "output_type": "execute_result"
    }
   ],
   "source": [
    "#将词云对象保存为图片：png或者jpg\n",
    "w.to_file('outfile.png')"
   ]
  },
  {
   "cell_type": "markdown",
   "metadata": {},
   "source": [
    "### 绘制词云的步骤\n",
    "1. 配置词云对象参数\n",
    "2. 加载词云文本\n",
    " - 分割：按空格分割\n",
    " - 统计：单词统计并过滤\n",
    " - 字体：根据统计配置字体\n",
    " - 布局：颜色/尺寸\n",
    "3. 输出词云文件"
   ]
  },
  {
   "cell_type": "markdown",
   "metadata": {},
   "source": [
    "## 中文词云\n",
    "由于wordcloud默认是按空格进行分隔，所以对中文来说的话，需要手动先进行分词"
   ]
  },
  {
   "cell_type": "code",
   "execution_count": 11,
   "metadata": {},
   "outputs": [],
   "source": [
    "import jieba\n",
    "import wordcloud"
   ]
  },
  {
   "cell_type": "code",
   "execution_count": 18,
   "metadata": {},
   "outputs": [
    {
     "data": {
      "text/plain": [
       "'程序语言 是 计算机 能够 理解 的 语言'"
      ]
     },
     "execution_count": 18,
     "metadata": {},
     "output_type": "execute_result"
    }
   ],
   "source": [
    "text = \"程序语言是计算机能够理解的语言\"\n",
    "txt = \" \".join(jieba.lcut(text))\n",
    "txt"
   ]
  },
  {
   "cell_type": "code",
   "execution_count": 24,
   "metadata": {},
   "outputs": [],
   "source": [
    "#--必须指定字体，否则图片不能正常显示\n",
    "w = wordcloud.WordCloud(width = 1000, height = 700, font_path = 'Microsoft Yahei.ttf')    "
   ]
  },
  {
   "cell_type": "code",
   "execution_count": 25,
   "metadata": {},
   "outputs": [
    {
     "data": {
      "text/plain": [
       "<wordcloud.wordcloud.WordCloud at 0x7f91a848a940>"
      ]
     },
     "execution_count": 25,
     "metadata": {},
     "output_type": "execute_result"
    }
   ],
   "source": [
    "w.generate(txt)  #jieba分词后，用空格连接为一个长字符串"
   ]
  },
  {
   "cell_type": "code",
   "execution_count": 26,
   "metadata": {},
   "outputs": [
    {
     "data": {
      "text/plain": [
       "<wordcloud.wordcloud.WordCloud at 0x7f91a848a940>"
      ]
     },
     "execution_count": 26,
     "metadata": {},
     "output_type": "execute_result"
    }
   ],
   "source": [
    "w.to_file('outfile2.png')"
   ]
  },
  {
   "cell_type": "markdown",
   "metadata": {},
   "source": [
    "## 例：政府工作报告\n",
    "\n",
    "原文地址：\n",
    "- https://python123.io/resources/pye/新时代中国特色社会主义.txt\n",
    "- https://python123.io/resources/pye/关于实施乡村振兴战略的意见.txt\n",
    "\n",
    "步骤：\n",
    "1. 读取文件、分词整理\n",
    "2. 输出词云\n",
    "3. 优化迭代\n"
   ]
  },
  {
   "cell_type": "code",
   "execution_count": 27,
   "metadata": {},
   "outputs": [
    {
     "data": {
      "text/plain": [
       "<wordcloud.wordcloud.WordCloud at 0x7f91a27683d0>"
      ]
     },
     "execution_count": 27,
     "metadata": {},
     "output_type": "execute_result"
    }
   ],
   "source": [
    "import jieba\n",
    "import wordcloud\n",
    "\n",
    "# 1.读取文本的内容\n",
    "f = open(\"新时代中国特色社会主义.txt\", 'r', encoding = 'utf-8')\n",
    "t = f.read()\n",
    "f.close()\n",
    "\n",
    "# 2.中文分词\n",
    "ls = jieba.lcut(t)\n",
    "txt = \" \".join(ls)\n",
    "\n",
    "# 3.生成词云对象\n",
    "w = wordcloud.WordCloud(width = 1000, height = 700, \n",
    "                        font_path = 'Microsoft Yahei.ttf',\n",
    "                        background_color = 'white')    \n",
    "w.generate(txt) \n",
    "\n",
    "# 4.保存图片\n",
    "w.to_file('社会主义.png')"
   ]
  },
  {
   "cell_type": "code",
   "execution_count": 34,
   "metadata": {},
   "outputs": [
    {
     "data": {
      "text/plain": [
       "<wordcloud.wordcloud.WordCloud at 0x7f91a8be7cd0>"
      ]
     },
     "execution_count": 34,
     "metadata": {},
     "output_type": "execute_result"
    }
   ],
   "source": [
    "# 优化单词过滤\n",
    "w = wordcloud.WordCloud(width = 1000, height = 700, \n",
    "                        font_path = 'Microsoft Yahei.ttf',\n",
    "                        background_color = 'white',\n",
    "                        stopwords = {'的','是','和','在','以'}   #排除单词\n",
    "                       )    \n",
    "w.generate(txt) \n",
    "\n",
    "# 4.保存图片\n",
    "w.to_file('社会主义.png')"
   ]
  },
  {
   "cell_type": "code",
   "execution_count": null,
   "metadata": {},
   "outputs": [],
   "source": []
  },
  {
   "cell_type": "code",
   "execution_count": 27,
   "metadata": {},
   "outputs": [
    {
     "data": {
      "text/plain": [
       "'程序语言 是 计算机 能够 理解 的 语言'"
      ]
     },
     "execution_count": 27,
     "metadata": {},
     "output_type": "execute_result"
    }
   ],
   "source": [
    "\" \".join(jieba.lcut(text))"
   ]
  },
  {
   "cell_type": "code",
   "execution_count": null,
   "metadata": {},
   "outputs": [],
   "source": []
  }
 ],
 "metadata": {
  "kernelspec": {
   "display_name": "Python [conda env:root] *",
   "language": "python",
   "name": "conda-root-py"
  },
  "language_info": {
   "codemirror_mode": {
    "name": "ipython",
    "version": 3
   },
   "file_extension": ".py",
   "mimetype": "text/x-python",
   "name": "python",
   "nbconvert_exporter": "python",
   "pygments_lexer": "ipython3",
   "version": "3.8.5"
  }
 },
 "nbformat": 4,
 "nbformat_minor": 4
}
