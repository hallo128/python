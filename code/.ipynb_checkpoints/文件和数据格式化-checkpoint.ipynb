{
 "cells": [
  {
   "cell_type": "markdown",
   "metadata": {},
   "source": [
    "# 文件和数据格式化\n",
    "\n",
    "- 文本文件：长字符串\n",
    "\n",
    "- 二进制文件：没有统一字符编码"
   ]
  },
  {
   "cell_type": "code",
   "execution_count": 3,
   "metadata": {},
   "outputs": [
    {
     "name": "stdout",
     "output_type": "stream",
     "text": [
      "\n",
      "\n"
     ]
    }
   ],
   "source": [
    "tf = open(\"hamlet.txt\", 'rt')   #\"rb\"：二进制\n",
    "print(tf.readline())\n",
    "tf.close()"
   ]
  },
  {
   "cell_type": "markdown",
   "metadata": {},
   "source": [
    "文件处理步骤：打开-操作-关闭\n",
    "\n",
    "文件的存储状态 & 文件的占用状态\n",
    "\n",
    "| 读文件函数 | 写文件函数|\n",
    "| :----: | :----:|\n",
    "| a.read(size) | a.write(s)  #字符串\n",
    "| a.readline(size) #读入一行的大小| a.writelines(lines) #字符串列表\n",
    "| a.readlines(hint) #读入所有行，指定读入的行数| a.seek(offset) #0-文件开头，1-当前位置，2-文件结尾"
   ]
  },
  {
   "cell_type": "markdown",
   "metadata": {},
   "source": [
    "## 1.文件打开\n",
    "\n",
    "变量名 = open(<文件名>, <打开模式>)\n",
    "\n",
    "绝对路径与相对路径\n",
    "\n",
    "## 2.文件关闭\n",
    "文件.close()"
   ]
  },
  {
   "cell_type": "markdown",
   "metadata": {},
   "source": [
    "## 3.遍历全文本的方法\n",
    "### （1）一次读入，统一处理\n",
    "弊端：文件体量大，一次性读入耗时处理"
   ]
  },
  {
   "cell_type": "code",
   "execution_count": null,
   "metadata": {},
   "outputs": [],
   "source": [
    "fname = input(\"请输入要打开文件的名称：\")\n",
    "fo = open(fname, 'r')  #只读模式打开\n",
    "txt = fo.read()        #全文读取\n",
    "\n",
    "txt.close()"
   ]
  },
  {
   "cell_type": "markdown",
   "metadata": {},
   "source": [
    "### （2）分批读取"
   ]
  },
  {
   "cell_type": "code",
   "execution_count": null,
   "metadata": {},
   "outputs": [],
   "source": [
    "fname = input(\"请输入要打开文件的名称：\")\n",
    "fo = open(fname, 'r')  #只读模式打开\n",
    "txt = fo.read(2)        #一次性只读2个字符\n",
    "while txt != \"\":\n",
    "    txt = fo.read(2)\n",
    "\n",
    "txt.close()"
   ]
  },
  {
   "cell_type": "markdown",
   "metadata": {},
   "source": [
    "## 4.文件的逐行操作\n",
    "### （1）一次读取"
   ]
  },
  {
   "cell_type": "code",
   "execution_count": null,
   "metadata": {},
   "outputs": [],
   "source": [
    "fname = input(\"请输入要打开文件的名称：\")\n",
    "fo = open(fname, 'r')  #只读模式打开\n",
    "for line in fo.readlines():  #逐行读取\n",
    "    print(line)\n",
    "\n",
    "fo.close()"
   ]
  },
  {
   "cell_type": "markdown",
   "metadata": {},
   "source": [
    "### （2）分行读入，逐行处理"
   ]
  },
  {
   "cell_type": "code",
   "execution_count": null,
   "metadata": {},
   "outputs": [],
   "source": [
    "fname = input(\"请输入要打开文件的名称：\")\n",
    "fo = open(fname, 'r')  #只读模式打开\n",
    "for line in fo:  #逐行读取\n",
    "    print(line)\n",
    "\n",
    "fo.close()"
   ]
  },
  {
   "cell_type": "markdown",
   "metadata": {},
   "source": [
    "## 5.文件写入"
   ]
  },
  {
   "cell_type": "code",
   "execution_count": 6,
   "metadata": {},
   "outputs": [
    {
     "name": "stdout",
     "output_type": "stream",
     "text": [
      "中国美国\n"
     ]
    }
   ],
   "source": [
    "fo = open(\"output.txt\", \"w+\")\n",
    "# 写入的内容\n",
    "ls = [\"中国\", \"美国\"]\n",
    "fo.writelines(ls)   #写入文件\n",
    "# 重置指针位置\n",
    "fo.seek(0)\n",
    "# 查看写入内容\n",
    "for line in fo:\n",
    "    print(line)\n",
    "\n",
    "fo.close()"
   ]
  },
  {
   "cell_type": "markdown",
   "metadata": {},
   "source": [
    "## 例：自动绘制图形\n",
    "数据与功能分离"
   ]
  },
  {
   "cell_type": "markdown",
   "metadata": {},
   "source": [
    "数据：\n",
    "- 存储：存储格式\n",
    "- 表示：数据类型\n",
    "- 操作"
   ]
  },
  {
   "cell_type": "markdown",
   "metadata": {},
   "source": [
    "# 一维数据\n",
    "\n",
    "数据类型：\n",
    "- 有序：列表\n",
    "- 无序：集合"
   ]
  },
  {
   "cell_type": "markdown",
   "metadata": {},
   "source": [
    "## 1.存储方式\n",
    "### （1）符号分隔\n",
    "空格，逗号，特殊字符"
   ]
  },
  {
   "cell_type": "markdown",
   "metadata": {},
   "source": [
    "## 2.数据处理"
   ]
  },
  {
   "cell_type": "code",
   "execution_count": 8,
   "metadata": {},
   "outputs": [
    {
     "data": {
      "text/plain": [
       "['中国美国']"
      ]
     },
     "execution_count": 8,
     "metadata": {},
     "output_type": "execute_result"
    }
   ],
   "source": [
    "# 从空格分隔的文件中读入数据\n",
    "text = open(\"output.txt\").read()\n",
    "\n",
    "ls = text.split()\n",
    "ls"
   ]
  },
  {
   "cell_type": "code",
   "execution_count": 9,
   "metadata": {},
   "outputs": [
    {
     "data": {
      "text/plain": [
       "'中国 美国 日本'"
      ]
     },
     "execution_count": 9,
     "metadata": {},
     "output_type": "execute_result"
    }
   ],
   "source": [
    "# 空格列表写入文件\n",
    "\n",
    "ls = ['中国', '美国', '日本']\n",
    "' '.join(ls)"
   ]
  },
  {
   "cell_type": "code",
   "execution_count": 10,
   "metadata": {},
   "outputs": [],
   "source": [
    "f = open(\"output.txt\", 'w')\n",
    "f.write(' '.join(ls))\n",
    "f.close()"
   ]
  },
  {
   "cell_type": "markdown",
   "metadata": {},
   "source": [
    "# 二维数据\n",
    "\n",
    "数据结构：二维列表"
   ]
  },
  {
   "cell_type": "code",
   "execution_count": 11,
   "metadata": {},
   "outputs": [
    {
     "data": {
      "text/plain": [
       "[[1, 2, 3], [4, 5, 6]]"
      ]
     },
     "execution_count": 11,
     "metadata": {},
     "output_type": "execute_result"
    }
   ],
   "source": [
    "l = [[1,2,3],\n",
    "     [4,5,6]]\n",
    "l"
   ]
  },
  {
   "cell_type": "markdown",
   "metadata": {},
   "source": [
    "CSV: comma-separated values\n",
    "由逗号分隔的数据值\n",
    "\n",
    "csv格式"
   ]
  },
  {
   "cell_type": "markdown",
   "metadata": {},
   "source": [
    "### （1）从cvs格式的文件中读取数据"
   ]
  },
  {
   "cell_type": "code",
   "execution_count": 13,
   "metadata": {},
   "outputs": [],
   "source": [
    "# 从cvs格式的文件中读取数据\n",
    "fo = open('a.csv')\n",
    "ls = []\n",
    "# 按行读取\n",
    "for line in fo:\n",
    "    line = line.replace('\\n', '')  #去除每行的换行符\n",
    "    ls.append(line.split(','))     #按,分隔每一行，再加入列表\n",
    "    \n",
    "fo.close()    "
   ]
  },
  {
   "cell_type": "code",
   "execution_count": 14,
   "metadata": {},
   "outputs": [
    {
     "name": "stdout",
     "output_type": "stream",
     "text": [
      "[['中国', '美国', '日本'], ['北京', '纽约', '东京']]\n"
     ]
    }
   ],
   "source": [
    "print(ls)"
   ]
  },
  {
   "cell_type": "markdown",
   "metadata": {},
   "source": [
    "### （2）将二维数据保存到csv文件中"
   ]
  },
  {
   "cell_type": "code",
   "execution_count": 15,
   "metadata": {},
   "outputs": [
    {
     "data": {
      "text/plain": [
       "[[1, 2, 3], [4, 5, 6]]"
      ]
     },
     "execution_count": 15,
     "metadata": {},
     "output_type": "execute_result"
    }
   ],
   "source": [
    "d = [[1,2,3],\n",
    "     [4,5,6]]\n",
    "d"
   ]
  },
  {
   "cell_type": "code",
   "execution_count": 22,
   "metadata": {},
   "outputs": [
    {
     "data": {
      "text/plain": [
       "[['1', '2', '3'], ['4', '5', '6']]"
      ]
     },
     "execution_count": 22,
     "metadata": {},
     "output_type": "execute_result"
    }
   ],
   "source": [
    "d = [['1','2','3'],\n",
    "     ['4','5','6']]\n",
    "d"
   ]
  },
  {
   "cell_type": "code",
   "execution_count": 23,
   "metadata": {},
   "outputs": [],
   "source": [
    "f = open('b.csv', 'w')\n",
    "for row in d:\n",
    "    f.write(','.join(row) + '\\n')   #每个元素通过,拼接\n",
    "\n",
    "f.close()"
   ]
  },
  {
   "cell_type": "markdown",
   "metadata": {},
   "source": [
    "# 高维数据"
   ]
  },
  {
   "cell_type": "code",
   "execution_count": null,
   "metadata": {},
   "outputs": [],
   "source": []
  },
  {
   "cell_type": "code",
   "execution_count": null,
   "metadata": {},
   "outputs": [],
   "source": []
  },
  {
   "cell_type": "code",
   "execution_count": null,
   "metadata": {},
   "outputs": [],
   "source": []
  },
  {
   "cell_type": "code",
   "execution_count": null,
   "metadata": {},
   "outputs": [],
   "source": []
  },
  {
   "cell_type": "code",
   "execution_count": null,
   "metadata": {},
   "outputs": [],
   "source": []
  },
  {
   "cell_type": "code",
   "execution_count": null,
   "metadata": {},
   "outputs": [],
   "source": []
  }
 ],
 "metadata": {
  "kernelspec": {
   "display_name": "Python 3",
   "language": "python",
   "name": "python3"
  },
  "language_info": {
   "codemirror_mode": {
    "name": "ipython",
    "version": 3
   },
   "file_extension": ".py",
   "mimetype": "text/x-python",
   "name": "python",
   "nbconvert_exporter": "python",
   "pygments_lexer": "ipython3",
   "version": "3.6.0"
  }
 },
 "nbformat": 4,
 "nbformat_minor": 4
}
