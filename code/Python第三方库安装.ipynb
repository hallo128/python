{
 "cells": [
  {
   "cell_type": "markdown",
   "metadata": {},
   "source": [
    "# Python第三方库安装"
   ]
  },
  {
   "cell_type": "markdown",
   "metadata": {},
   "source": [
    "Python社区：https://pipy.org/\n",
    "\n",
    "Python第三方库资源：https://www.cnblogs.com/YangtzeYu/p/7858182.html\n",
    "\n",
    "PyPI使用国内源: https://www.cnblogs.com/sunnydou/p/5801760.html\n",
    "\n",
    "- 阿里云 http://mirrors.aliyun.com/pypi/simple/\n",
    "- 中国科技大学 https://pypi.mirrors.ustc.edu.cn/simple/\n",
    "- 豆瓣(douban) http://pypi.douban.com/simple/\n",
    "- 清华大学 https://pypi.tuna.tsinghua.edu.cn/simple/\n",
    "- 中国科学技术大学 http://pypi.mirrors.ustc.edu.cn/simple/"
   ]
  },
  {
   "cell_type": "markdown",
   "metadata": {},
   "source": [
    "## 1. 安装方法\n",
    "### （1）使用pip命令\n",
    "\n",
    "- pip install <第三方库>：安装\n",
    "- pip install -U <第三方库>：更新\n",
    "- pip uninstall <第三方库>：卸载\n",
    "- pip download <第三方库>：下载但不安装\n",
    "- pip show <第三方库>：列出某一个第三方库的详细信息\n",
    "- pip search <关键词>：通过关键词搜索第三方库\n",
    "- pip list：查看当前系统已经安装的第三方库"
   ]
  },
  {
   "cell_type": "code",
   "execution_count": null,
   "metadata": {},
   "outputs": [],
   "source": []
  },
  {
   "cell_type": "markdown",
   "metadata": {},
   "source": [
    "### （2）集成安装：anaconda"
   ]
  },
  {
   "cell_type": "code",
   "execution_count": null,
   "metadata": {},
   "outputs": [],
   "source": []
  },
  {
   "cell_type": "code",
   "execution_count": null,
   "metadata": {},
   "outputs": [],
   "source": []
  },
  {
   "cell_type": "code",
   "execution_count": null,
   "metadata": {},
   "outputs": [],
   "source": []
  },
  {
   "cell_type": "markdown",
   "metadata": {},
   "source": [
    "### （3）文件安装\n",
    "UCI页面：https://www.lfd.uci.edu/~gohlke/pythonlibs/\n"
   ]
  },
  {
   "cell_type": "code",
   "execution_count": null,
   "metadata": {},
   "outputs": [],
   "source": []
  },
  {
   "cell_type": "markdown",
   "metadata": {},
   "source": [
    "## 第三方库自动安装脚本"
   ]
  },
  {
   "cell_type": "code",
   "execution_count": 2,
   "metadata": {},
   "outputs": [
    {
     "name": "stdout",
     "output_type": "stream",
     "text": [
      "安装成功\n"
     ]
    }
   ],
   "source": [
    "import os\n",
    "libs = ['seaborn']\n",
    "try:\n",
    "    for lib in libs:\n",
    "        os.system(\"pip install \" + lib)\n",
    "    print(\"安装成功\")\n",
    "except:\n",
    "    print(\"安装失败\")"
   ]
  },
  {
   "cell_type": "code",
   "execution_count": null,
   "metadata": {},
   "outputs": [],
   "source": []
  },
  {
   "cell_type": "code",
   "execution_count": null,
   "metadata": {},
   "outputs": [],
   "source": []
  }
 ],
 "metadata": {
  "kernelspec": {
   "display_name": "Python [conda env:root] *",
   "language": "python",
   "name": "conda-root-py"
  },
  "language_info": {
   "codemirror_mode": {
    "name": "ipython",
    "version": 3
   },
   "file_extension": ".py",
   "mimetype": "text/x-python",
   "name": "python",
   "nbconvert_exporter": "python",
   "pygments_lexer": "ipython3",
   "version": "3.8.5"
  }
 },
 "nbformat": 4,
 "nbformat_minor": 4
}
