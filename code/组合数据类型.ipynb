{
 "cells": [
  {
   "cell_type": "markdown",
   "metadata": {},
   "source": [
    "# 组合数据类型"
   ]
  },
  {
   "cell_type": "markdown",
   "metadata": {},
   "source": [
    "## 一、集合"
   ]
  },
  {
   "cell_type": "markdown",
   "metadata": {},
   "source": [
    "### 1.集合定义\n",
    "\n",
    "- 元素唯一，不存在相同元素，不可变数据类型\n",
    "- 元素是无序的\n",
    "- 表示：{}或者set()，逗号分隔"
   ]
  },
  {
   "cell_type": "code",
   "execution_count": 4,
   "metadata": {},
   "outputs": [
    {
     "data": {
      "text/plain": [
       "{123, 'python123', 'python'}"
      ]
     },
     "execution_count": 4,
     "metadata": {},
     "output_type": "execute_result"
    }
   ],
   "source": [
    "A = {\"python\", 123, (\"python123\")}\n",
    "A"
   ]
  },
  {
   "cell_type": "code",
   "execution_count": 2,
   "metadata": {},
   "outputs": [
    {
     "data": {
      "text/plain": [
       "{'1', '2', '3', 'h', 'n', 'o', 'p', 't', 'y'}"
      ]
     },
     "execution_count": 2,
     "metadata": {},
     "output_type": "execute_result"
    }
   ],
   "source": [
    "B = set(\"python123\")\n",
    "B"
   ]
  },
  {
   "cell_type": "markdown",
   "metadata": {},
   "source": [
    "### 2.集合操作符\n",
    "\n",
    "交，并，差，补"
   ]
  },
  {
   "cell_type": "code",
   "execution_count": 5,
   "metadata": {},
   "outputs": [
    {
     "name": "stdout",
     "output_type": "stream",
     "text": [
      "{123, 'y', 'p'} {'1', 'p', '2', '3', 'y'}\n"
     ]
    }
   ],
   "source": [
    "A = {'p', 'y', 123}\n",
    "B = set('pypy123')\n",
    "print(A, B)"
   ]
  },
  {
   "cell_type": "code",
   "execution_count": 6,
   "metadata": {},
   "outputs": [
    {
     "data": {
      "text/plain": [
       "{123}"
      ]
     },
     "execution_count": 6,
     "metadata": {},
     "output_type": "execute_result"
    }
   ],
   "source": [
    "A-B  #差"
   ]
  },
  {
   "cell_type": "code",
   "execution_count": 8,
   "metadata": {},
   "outputs": [
    {
     "data": {
      "text/plain": [
       "{'p', 'y'}"
      ]
     },
     "execution_count": 8,
     "metadata": {},
     "output_type": "execute_result"
    }
   ],
   "source": [
    "A & B  #交"
   ]
  },
  {
   "cell_type": "code",
   "execution_count": 9,
   "metadata": {},
   "outputs": [
    {
     "data": {
      "text/plain": [
       "{123, '1', '2', '3'}"
      ]
     },
     "execution_count": 9,
     "metadata": {},
     "output_type": "execute_result"
    }
   ],
   "source": [
    "A ^ B  # 补"
   ]
  },
  {
   "cell_type": "markdown",
   "metadata": {},
   "source": [
    "### 3.集合处理方法\n",
    "\n",
    "| 方法 | 含义|\n",
    "| :----:|:-----|\n",
    "|s.add(x)   |  若x不在集合s中，就增加到集合\n",
    "|s.discard(x) |移除s中的x元素：若x不在集合中，不报错\n",
    "| s.remove(x)  |移除s中的x元素：若x不在集合中，报错：KeyError \n",
    "| s.clear()    |清除集合中的所有元素\n",
    "| s.pop()      |随机返回s中的一个元素，同时更新s。若s为空，则报错\n",
    "| s.copy()     |返回s的一个副本\n",
    "| len(s)       |返回集合s的元素个数\n",
    "| x in s       |x是否在集合s中：True,False\n",
    "| x not in s | |"
   ]
  },
  {
   "cell_type": "code",
   "execution_count": 10,
   "metadata": {},
   "outputs": [
    {
     "name": "stdout",
     "output_type": "stream",
     "text": [
      "123\n",
      "y\n",
      "p\n"
     ]
    }
   ],
   "source": [
    "A = {'p', 'y', 123}\n",
    "for item in A:\n",
    "    print(item)"
   ]
  },
  {
   "cell_type": "code",
   "execution_count": 13,
   "metadata": {},
   "outputs": [
    {
     "name": "stdout",
     "output_type": "stream",
     "text": [
      "取出之后的A集合为： set()\n"
     ]
    }
   ],
   "source": [
    "try:\n",
    "    while True:\n",
    "        print(A.pop())\n",
    "except:\n",
    "    pass\n",
    "\n",
    "print(\"取出之后的A集合为：\", A)"
   ]
  },
  {
   "cell_type": "markdown",
   "metadata": {},
   "source": [
    "### 4.集合应用场景"
   ]
  },
  {
   "cell_type": "markdown",
   "metadata": {},
   "source": [
    "#### （1）包含关系的比较"
   ]
  },
  {
   "cell_type": "code",
   "execution_count": 15,
   "metadata": {},
   "outputs": [
    {
     "data": {
      "text/plain": [
       "False"
      ]
     },
     "execution_count": 15,
     "metadata": {},
     "output_type": "execute_result"
    }
   ],
   "source": [
    "\"p\" in A"
   ]
  },
  {
   "cell_type": "markdown",
   "metadata": {},
   "source": [
    "#### （2）数据去重\n",
    "\n",
    "原理：集合类型的所有元素不重复"
   ]
  },
  {
   "cell_type": "code",
   "execution_count": 16,
   "metadata": {},
   "outputs": [
    {
     "name": "stdout",
     "output_type": "stream",
     "text": [
      "{123, 'y', 'p'}\n"
     ]
    }
   ],
   "source": [
    "ls = ['p', 'p', 'y', 'y', 123]\n",
    "s = set(ls)\n",
    "print(s)"
   ]
  },
  {
   "cell_type": "code",
   "execution_count": 18,
   "metadata": {},
   "outputs": [
    {
     "data": {
      "text/plain": [
       "[123, 'y', 'p']"
      ]
     },
     "execution_count": 18,
     "metadata": {},
     "output_type": "execute_result"
    }
   ],
   "source": [
    "lt = list(s) # 将集合类型转换为列表类型\n",
    "lt"
   ]
  },
  {
   "cell_type": "markdown",
   "metadata": {},
   "source": [
    "## 二、序列"
   ]
  },
  {
   "cell_type": "markdown",
   "metadata": {},
   "source": [
    "存在顺序\n",
    "\n",
    "- 字符串\n",
    "- 元组\n",
    "- 列表\n",
    "\n",
    "正向递增，反向递减\n",
    "\n",
    "应用场景:\n",
    "1. 遍历"
   ]
  },
  {
   "cell_type": "markdown",
   "metadata": {},
   "source": [
    "### 1.元组类型\n",
    "\n",
    "tuple(), ()\n",
    "\n",
    "每个元素不可更改\n",
    "\n",
    "如：函数返回值"
   ]
  },
  {
   "cell_type": "code",
   "execution_count": 19,
   "metadata": {},
   "outputs": [
    {
     "data": {
      "text/plain": [
       "('cat', 'dog')"
      ]
     },
     "execution_count": 19,
     "metadata": {},
     "output_type": "execute_result"
    }
   ],
   "source": [
    "creature = 'cat','dog'\n",
    "creature"
   ]
  },
  {
   "cell_type": "markdown",
   "metadata": {},
   "source": [
    "### 2.列表类型\n",
    "\n",
    "list(), []"
   ]
  },
  {
   "cell_type": "code",
   "execution_count": 21,
   "metadata": {},
   "outputs": [
    {
     "data": {
      "text/plain": [
       "['cat', 'dog', 'tiger', 1024, 1024]"
      ]
     },
     "execution_count": 21,
     "metadata": {},
     "output_type": "execute_result"
    }
   ],
   "source": [
    "ls = ['cat','dog','tiger',1024]\n",
    "ls.append(1024)\n",
    "ls"
   ]
  },
  {
   "cell_type": "code",
   "execution_count": 23,
   "metadata": {},
   "outputs": [
    {
     "data": {
      "text/plain": [
       "['cat', 'dog', 'tiger', 'human', 'human', 1024, 1024]"
      ]
     },
     "execution_count": 23,
     "metadata": {},
     "output_type": "execute_result"
    }
   ],
   "source": [
    "ls.insert(3, 'human')\n",
    "ls"
   ]
  },
  {
   "cell_type": "code",
   "execution_count": 25,
   "metadata": {},
   "outputs": [
    {
     "data": {
      "text/plain": [
       "['cat', 'dog', 'tiger', 'human', 'human', 1024, 1024]"
      ]
     },
     "execution_count": 25,
     "metadata": {},
     "output_type": "execute_result"
    }
   ],
   "source": [
    "ls.reverse()\n",
    "ls"
   ]
  },
  {
   "cell_type": "markdown",
   "metadata": {},
   "source": [
    "### 例9：基本统计值计算"
   ]
  },
  {
   "cell_type": "code",
   "execution_count": 26,
   "metadata": {},
   "outputs": [
    {
     "name": "stdout",
     "output_type": "stream",
     "text": [
      "输入数字（回车结束）：1\n",
      "输入数字（回车结束）：2\n",
      "输入数字（回车结束）：3\n",
      "输入数字（回车结束）：4\n",
      "输入数字（回车结束）：5\n",
      "输入数字（回车结束）：\n",
      "平均值：3.0，标准差:1.4142135623730951, 中位数:3\n"
     ]
    }
   ],
   "source": [
    "#获取用户不定长度的输入\n",
    "def getNum():\n",
    "    nums = []\n",
    "    iNumStr = input(\"输入数字（回车结束）：\")\n",
    "    \n",
    "    while iNumStr != \"\": \n",
    "        nums.append(eval(iNumStr))\n",
    "        iNumStr = input(\"输入数字（回车结束）：\")\n",
    "    return nums\n",
    "\n",
    "#计算平均数\n",
    "def mean(nums):\n",
    "    s = 0\n",
    "    for i in nums:\n",
    "        s+=i\n",
    "    return s/len(nums)\n",
    "\n",
    "#计算标准差\n",
    "def dev(nums):\n",
    "    m = mean(nums)  #获取平均值\n",
    "    s = 0\n",
    "    for i in nums:\n",
    "        s += (i - m)**2\n",
    "    return pow(s/len(nums), 0.5) #开方\n",
    "\n",
    "#计算中位数\n",
    "def median(nums):\n",
    "    sorted(nums)  #排序\n",
    "    n = len(nums)\n",
    "    if n%2 == 0:  #偶数\n",
    "        return (nums[n/2 - 1] + nums[n/2])/2\n",
    "    else:\n",
    "        return nums[n//2]\n",
    "\n",
    "nums = getNum()    \n",
    "print(\"平均值：{}，标准差:{}, 中位数:{}\".format(mean(nums), dev(nums), median(nums)))"
   ]
  },
  {
   "cell_type": "markdown",
   "metadata": {},
   "source": [
    "## 三、字典\n",
    "\n",
    "映射\n",
    "键值对{key: value}"
   ]
  },
  {
   "cell_type": "code",
   "execution_count": 27,
   "metadata": {},
   "outputs": [
    {
     "data": {
      "text/plain": [
       "'北京'"
      ]
     },
     "execution_count": 27,
     "metadata": {},
     "output_type": "execute_result"
    }
   ],
   "source": [
    "d = {\"中国\":\"北京\", \"法国\":\"巴黎\"}\n",
    "d[\"中国\"]"
   ]
  },
  {
   "cell_type": "code",
   "execution_count": 28,
   "metadata": {},
   "outputs": [
    {
     "data": {
      "text/plain": [
       "True"
      ]
     },
     "execution_count": 28,
     "metadata": {},
     "output_type": "execute_result"
    }
   ],
   "source": [
    "\"中国\" in d"
   ]
  },
  {
   "cell_type": "code",
   "execution_count": 29,
   "metadata": {},
   "outputs": [
    {
     "data": {
      "text/plain": [
       "dict_keys(['中国', '法国'])"
      ]
     },
     "execution_count": 29,
     "metadata": {},
     "output_type": "execute_result"
    }
   ],
   "source": [
    "d.keys()"
   ]
  },
  {
   "cell_type": "code",
   "execution_count": 30,
   "metadata": {},
   "outputs": [
    {
     "data": {
      "text/plain": [
       "dict_values(['北京', '巴黎'])"
      ]
     },
     "execution_count": 30,
     "metadata": {},
     "output_type": "execute_result"
    }
   ],
   "source": [
    "d.values()"
   ]
  },
  {
   "cell_type": "code",
   "execution_count": 35,
   "metadata": {},
   "outputs": [
    {
     "name": "stdout",
     "output_type": "stream",
     "text": [
      "北京\n",
      "不在的默认值\n"
     ]
    }
   ],
   "source": [
    "print(d.get(\"中国\"))\n",
    "print(d.get(\"美国\",\"不在的默认值\"))"
   ]
  },
  {
   "cell_type": "code",
   "execution_count": null,
   "metadata": {},
   "outputs": [],
   "source": []
  },
  {
   "cell_type": "code",
   "execution_count": null,
   "metadata": {},
   "outputs": [],
   "source": []
  },
  {
   "cell_type": "code",
   "execution_count": null,
   "metadata": {},
   "outputs": [],
   "source": []
  },
  {
   "cell_type": "code",
   "execution_count": null,
   "metadata": {},
   "outputs": [],
   "source": []
  }
 ],
 "metadata": {
  "kernelspec": {
   "display_name": "Python 3",
   "language": "python",
   "name": "python3"
  },
  "language_info": {
   "codemirror_mode": {
    "name": "ipython",
    "version": 3
   },
   "file_extension": ".py",
   "mimetype": "text/x-python",
   "name": "python",
   "nbconvert_exporter": "python",
   "pygments_lexer": "ipython3",
   "version": "3.6.0"
  }
 },
 "nbformat": 4,
 "nbformat_minor": 4
}
