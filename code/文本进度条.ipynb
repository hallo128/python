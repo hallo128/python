{
 "cells": [
  {
   "cell_type": "markdown",
   "metadata": {},
   "source": [
    "# 文本进度条"
   ]
  },
  {
   "cell_type": "markdown",
   "metadata": {},
   "source": [
    "涉及数字处理、字符串处理、time库使用"
   ]
  },
  {
   "cell_type": "markdown",
   "metadata": {},
   "source": [
    "## 一、多行字符打印进度"
   ]
  },
  {
   "cell_type": "code",
   "execution_count": 9,
   "metadata": {},
   "outputs": [
    {
     "name": "stdout",
     "output_type": "stream",
     "text": [
      "-------执行开始-------\n",
      " 0 %[->----------]\n",
      "10 %[*->---------]\n",
      "20 %[**->--------]\n",
      "30 %[***->-------]\n",
      "40 %[****->------]\n",
      "50 %[*****->-----]\n",
      "60 %[******->----]\n",
      "70 %[*******->---]\n",
      "80 %[********->--]\n",
      "90 %[*********->-]\n",
      "100%[**********->]\n",
      "-------执行结束-------\n"
     ]
    }
   ],
   "source": [
    "import time\n",
    "scale = 10\n",
    "print(\"-------执行开始-------\")\n",
    "for i in range(scale + 1):\n",
    "    a = \"*\" * i             #已经进行的部分\n",
    "    b = \"-\" * (scale - i)   #未开始部分\n",
    "    c = (i/scale) * 100     #完成比例\n",
    "    print(\"{:^3.0f}%[{}->{}]\".format(c,a,b))\n",
    "    time.sleep(0.01)        #每次刷新0.01秒\n",
    "print(\"-------执行结束-------\")"
   ]
  },
  {
   "cell_type": "markdown",
   "metadata": {},
   "source": [
    "## 二、单行刷新"
   ]
  },
  {
   "cell_type": "markdown",
   "metadata": {},
   "source": [
    "刷新的本质：用后打印的字符覆盖之前的字符\n",
    "\n",
    "关键点：\n",
    "- print()不能换行: end=\"\"\n",
    "- 打印后光标回退到之前位置\\r：如果是行首，则退回行首，反复覆盖"
   ]
  },
  {
   "cell_type": "code",
   "execution_count": 12,
   "metadata": {},
   "outputs": [
    {
     "name": "stdout",
     "output_type": "stream",
     "text": [
      "100%"
     ]
    }
   ],
   "source": [
    "import time\n",
    "for i in range(101):\n",
    "    print(\"\\r{:3}%\".format(i), end=\"\")\n",
    "    time.sleep(0.1)"
   ]
  },
  {
   "cell_type": "markdown",
   "metadata": {},
   "source": [
    "## 三、完整效果"
   ]
  },
  {
   "cell_type": "code",
   "execution_count": 25,
   "metadata": {},
   "outputs": [
    {
     "name": "stdout",
     "output_type": "stream",
     "text": [
      "-----------执行开始----------\n",
      "100%[**************************************************->]5.24s\n",
      "-----------执行结束----------\n"
     ]
    }
   ],
   "source": [
    "import time\n",
    "scale = 50\n",
    "print(\"执行开始\".center(scale//2, \"-\"))\n",
    "start = time.perf_counter()    #开始时刻\n",
    "\n",
    "for i in range(scale + 1):\n",
    "    a = \"*\" * i             #已经进行的部分\n",
    "    b = \"-\" * (scale - i)   #未开始部分\n",
    "    c = (i/scale) * 100     #完成比例\n",
    "    \n",
    "    dur = time.perf_counter() - start #已经消耗的时间\n",
    "    print(\"\\r{:^3.0f}%[{}->{}]{:.2f}s\".format(c,a,b,dur), end=\"\")\n",
    "    time.sleep(0.1)        #每次刷新0.01秒\n",
    "print(\"\\n\" + \"执行结束\".center(scale//2, \"-\"))"
   ]
  },
  {
   "cell_type": "code",
   "execution_count": null,
   "metadata": {},
   "outputs": [],
   "source": []
  },
  {
   "cell_type": "code",
   "execution_count": null,
   "metadata": {},
   "outputs": [],
   "source": []
  }
 ],
 "metadata": {
  "kernelspec": {
   "display_name": "Python 3",
   "language": "python",
   "name": "python3"
  },
  "language_info": {
   "codemirror_mode": {
    "name": "ipython",
    "version": 3
   },
   "file_extension": ".py",
   "mimetype": "text/x-python",
   "name": "python",
   "nbconvert_exporter": "python",
   "pygments_lexer": "ipython3",
   "version": "3.6.0"
  }
 },
 "nbformat": 4,
 "nbformat_minor": 4
}
