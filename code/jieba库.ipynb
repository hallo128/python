{
 "cells": [
  {
   "cell_type": "markdown",
   "metadata": {},
   "source": [
    "# jieba库\n",
    "\n",
    "中文分词第三方库\n",
    "\n",
    "通过中文词库进行分词\n",
    "\n",
    "`pip install jieba`\n",
    "\n",
    "三种模式：\n",
    "- 精确模式\n",
    "- 全模式\n",
    "- 搜索引擎模式"
   ]
  },
  {
   "cell_type": "markdown",
   "metadata": {},
   "source": [
    "### 1 常用函数"
   ]
  },
  {
   "cell_type": "code",
   "execution_count": 7,
   "metadata": {},
   "outputs": [
    {
     "data": {
      "text/plain": [
       "['中国', '是', '一个', '伟大', '的', '国家']"
      ]
     },
     "execution_count": 7,
     "metadata": {},
     "output_type": "execute_result"
    }
   ],
   "source": [
    "import jieba\n",
    "jieba.lcut(\"中国是一个伟大的国家\")   #精确模式，返回列表格式"
   ]
  },
  {
   "cell_type": "code",
   "execution_count": 3,
   "metadata": {},
   "outputs": [
    {
     "data": {
      "text/plain": [
       "['中国', '国是', '一个', '伟大', '的', '国家']"
      ]
     },
     "execution_count": 3,
     "metadata": {},
     "output_type": "execute_result"
    }
   ],
   "source": [
    "jieba.lcut(\"中国是一个伟大的国家\", cut_all = True) #全模式，存在冗余 "
   ]
  },
  {
   "cell_type": "code",
   "execution_count": 6,
   "metadata": {},
   "outputs": [
    {
     "data": {
      "text/plain": [
       "['中华', '华人', '人民', '共和', '共和国', '中华人民共和国', '是', '伟大', '的']"
      ]
     },
     "execution_count": 6,
     "metadata": {},
     "output_type": "execute_result"
    }
   ],
   "source": [
    "jieba.lcut_for_search(\"中华人民共和国是伟大的\")   #搜索引擎模式，存在冗余"
   ]
  },
  {
   "cell_type": "code",
   "execution_count": null,
   "metadata": {},
   "outputs": [],
   "source": [
    "jieba.add_word(\"蟒蛇词典\")   #向分词库中增加新的单词"
   ]
  },
  {
   "cell_type": "markdown",
   "metadata": {},
   "source": [
    "## 例：文本词频统计\n",
    "\n",
    "需求：对一篇文章（中文/英文）统计每个单词出现的频率\n",
    "\n",
    "适用场景：\n",
    "- 政府工作报告\n",
    "- 科研论文\n",
    "- 新闻报道\n",
    "- 词云"
   ]
  },
  {
   "cell_type": "markdown",
   "metadata": {},
   "source": [
    "### 英文：哈姆雷特"
   ]
  },
  {
   "cell_type": "code",
   "execution_count": 10,
   "metadata": {},
   "outputs": [],
   "source": [
    "#获取文本\n",
    "def getText():\n",
    "    # 1.打开文件内容\n",
    "    text = open(\"hamlet.txt\", \"r\").read()    \n",
    "    # 2.将文本全部转换为小写\n",
    "    text = text.lower()\n",
    "    # 去3.除特殊符号：特殊符号替换为空\n",
    "    for ch in '!\"#$%&()*+,-./:;<=>?@[\\\\]^_‘{|}~':\n",
    "        text = text.replace(ch, \" \")\n",
    "    return text    "
   ]
  },
  {
   "cell_type": "code",
   "execution_count": 15,
   "metadata": {},
   "outputs": [],
   "source": [
    "# 获取哈姆雷特文本\n",
    "hamletText = getText()        \n",
    "# 分词：默认按空格进行分隔\n",
    "words = hamletText.split()    \n",
    "# 统计词频\n",
    "counts = {}\n",
    "for word in words:\n",
    "    counts[word] = counts.get(word, 0) + 1   #从未出现默认为0，新增就加1\n",
    "\n",
    "# 将字典类型转换为list\n",
    "items = list(counts.items())\n",
    "\n",
    "# 列表排序\n",
    "items.sort(key = lambda x:x[1], reverse=True)\n",
    "# x[1]: 选取第2个位置的列进行排序\n",
    "# reverse=True：按从大到小排序"
   ]
  },
  {
   "cell_type": "code",
   "execution_count": 18,
   "metadata": {},
   "outputs": [
    {
     "data": {
      "text/plain": [
       "[('the', 1138),\n",
       " ('and', 965),\n",
       " ('to', 754),\n",
       " ('of', 669),\n",
       " ('you', 550),\n",
       " ('i', 542),\n",
       " ('a', 542),\n",
       " ('my', 514),\n",
       " ('hamlet', 462),\n",
       " ('in', 436)]"
      ]
     },
     "execution_count": 18,
     "metadata": {},
     "output_type": "execute_result"
    }
   ],
   "source": [
    "items[:10]"
   ]
  },
  {
   "cell_type": "code",
   "execution_count": 20,
   "metadata": {},
   "outputs": [
    {
     "name": "stdout",
     "output_type": "stream",
     "text": [
      "the:1138\n",
      "and:965\n",
      "to:754\n",
      "of:669\n",
      "you:550\n",
      "i:542\n",
      "a:542\n",
      "my:514\n",
      "hamlet:462\n",
      "in:436\n"
     ]
    }
   ],
   "source": [
    "for i in range(10):\n",
    "    word, count = items[i]\n",
    "    print(\"{}:{}\".format(word, count))"
   ]
  },
  {
   "cell_type": "markdown",
   "metadata": {},
   "source": [
    "### 中文：三国演义"
   ]
  },
  {
   "cell_type": "code",
   "execution_count": 22,
   "metadata": {},
   "outputs": [],
   "source": [
    "import jieba\n",
    "# 1.打开文件内容\n",
    "text = open(\"三国演义.txt\", \"r\", encoding = 'utf-8').read() "
   ]
  },
  {
   "cell_type": "code",
   "execution_count": 23,
   "metadata": {},
   "outputs": [],
   "source": [
    "# 2.使用jieba进行分词\n",
    "words = jieba.lcut(text)"
   ]
  },
  {
   "cell_type": "code",
   "execution_count": 24,
   "metadata": {},
   "outputs": [],
   "source": [
    "# 3.统计词频\n",
    "counts = {}\n",
    "for word in words:\n",
    "    if len(word) == 1:  #如果该词只有一个字，不进行统计，如：在，了，啊...\n",
    "        continue\n",
    "    else:\n",
    "        counts[word] = counts.get(word, 0) + 1   #从未出现默认为0，新增就加1\n",
    "\n",
    "# 将字典类型转换为list\n",
    "items = list(counts.items())\n",
    "\n",
    "# 列表排序\n",
    "items.sort(key = lambda x:x[1], reverse=True)"
   ]
  },
  {
   "cell_type": "code",
   "execution_count": 26,
   "metadata": {},
   "outputs": [
    {
     "data": {
      "text/plain": [
       "[('曹操', 953),\n",
       " ('孔明', 836),\n",
       " ('将军', 772),\n",
       " ('却说', 656),\n",
       " ('玄德', 585),\n",
       " ('关公', 510),\n",
       " ('丞相', 491),\n",
       " ('二人', 469),\n",
       " ('不可', 440),\n",
       " ('荆州', 425),\n",
       " ('玄德曰', 390),\n",
       " ('孔明曰', 390),\n",
       " ('不能', 384),\n",
       " ('如此', 378),\n",
       " ('张飞', 358)]"
      ]
     },
     "execution_count": 26,
     "metadata": {},
     "output_type": "execute_result"
    }
   ],
   "source": [
    "items[:15]"
   ]
  },
  {
   "cell_type": "markdown",
   "metadata": {},
   "source": [
    "### 升级版：人物出场统计\n",
    "\n",
    "排除词库"
   ]
  },
  {
   "cell_type": "code",
   "execution_count": null,
   "metadata": {},
   "outputs": [],
   "source": []
  },
  {
   "cell_type": "code",
   "execution_count": null,
   "metadata": {},
   "outputs": [],
   "source": []
  },
  {
   "cell_type": "code",
   "execution_count": null,
   "metadata": {},
   "outputs": [],
   "source": []
  },
  {
   "cell_type": "code",
   "execution_count": null,
   "metadata": {},
   "outputs": [],
   "source": [
    "#获取当前路径\n",
    "import os\n",
    "os.getcwd()"
   ]
  }
 ],
 "metadata": {
  "kernelspec": {
   "display_name": "Python 3",
   "language": "python",
   "name": "python3"
  },
  "language_info": {
   "codemirror_mode": {
    "name": "ipython",
    "version": 3
   },
   "file_extension": ".py",
   "mimetype": "text/x-python",
   "name": "python",
   "nbconvert_exporter": "python",
   "pygments_lexer": "ipython3",
   "version": "3.6.0"
  }
 },
 "nbformat": 4,
 "nbformat_minor": 4
}
