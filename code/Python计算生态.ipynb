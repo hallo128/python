{
 "cells": [
  {
   "cell_type": "markdown",
   "metadata": {},
   "source": [
    "# Python计算生态"
   ]
  },
  {
   "cell_type": "markdown",
   "metadata": {},
   "source": [
    "## 一、从数据处理到人工智能\n",
    "\n",
    "1. 数据表示：合适的数据结构表示数据\n",
    "2. 数据清洗：归一化、转换、异常处理\n",
    "3. 数据统计：描述性统计（数量、分布、中位数）\n",
    "4. 数据可视化\n",
    "5. 数据挖掘：模型\n",
    "6. 人工智能\n",
    "\n",
    "- 数据分析\n",
    "- 数据可视化\n",
    "- 文本处理\n",
    "- 机器学习"
   ]
  },
  {
   "cell_type": "markdown",
   "metadata": {},
   "source": [
    "### 1.数据分析\n",
    "常用库：\n",
    "- numpy（表达N维数据）\n",
    "- pandas：基于numpy开发，数据结构（series，dataframe）\n",
    "- scipy：工程数学，类似matlab"
   ]
  },
  {
   "cell_type": "markdown",
   "metadata": {},
   "source": [
    "### 2.数据可视化\n",
    "常用库：\n",
    "- matplotlib：二维数据可视化，子库（matplotlib.pyplot)\n",
    "- seaborn：统计类数据可视化功能库\n",
    "- mayavi：三维数据可视化库"
   ]
  },
  {
   "cell_type": "markdown",
   "metadata": {},
   "source": [
    "### 3.文本处理\n",
    "常用库：\n",
    "- PyPDF2：用来处理pdf文件的工具集\n",
    "- NLTK：自然语言文本处理第三方库\n",
    "- Python-docx：创建/修改word文件"
   ]
  },
  {
   "cell_type": "markdown",
   "metadata": {},
   "source": [
    "### 4.机器学习\n",
    "常用库：\n",
    "- scikit-learan：机器学习方法集（聚类、分类、回归、强化学习等）\n",
    "- NLTK：自然语言文本处理第三方库\n",
    "- Python-docx：创建/修改word文件\n",
    "- TensorFlow：机器学习计算框架\n",
    "- MXNet：深度学习计算框架（图像识别）"
   ]
  },
  {
   "cell_type": "markdown",
   "metadata": {},
   "source": [
    "### 雷达图\n",
    "\n",
    "人格兴趣&职业"
   ]
  },
  {
   "cell_type": "markdown",
   "metadata": {},
   "source": [
    "- 目标感\n",
    "- 沉浸训练\n",
    "- 熟练"
   ]
  },
  {
   "cell_type": "markdown",
   "metadata": {},
   "source": [
    "## 二、从Web解析到网络空间\n",
    "\n",
    "- 网络爬虫\n",
    "- Web信息提取\n",
    "- Web网站开发\n",
    "- 网络应用开发\n",
    "\n",
    "网络爬虫库：\n",
    "1. 网络连接：Requests（页面级网络爬虫功能库）\n",
    "2. 网络爬虫框架：Scrapy\n",
    "3. web页面爬取系统：pyspider"
   ]
  },
  {
   "cell_type": "markdown",
   "metadata": {},
   "source": [
    "### 1.web信息提取\n",
    "常用库：\n",
    "- beautiful soup：HTML和XML的解析库\n",
    "- Re：正则表达式解析和处理\n",
    "- Python-Goose：提取文章类型web页面的功能库"
   ]
  },
  {
   "cell_type": "markdown",
   "metadata": {},
   "source": [
    "### 2.web网站开发\n",
    "常用库：\n",
    "- Django：复杂的web应用框架\n",
    "- Pyramid：规模适中的web应用框架\n",
    "- Flask：web应用微框架"
   ]
  },
  {
   "cell_type": "code",
   "execution_count": null,
   "metadata": {},
   "outputs": [],
   "source": []
  },
  {
   "cell_type": "code",
   "execution_count": null,
   "metadata": {},
   "outputs": [],
   "source": []
  },
  {
   "cell_type": "code",
   "execution_count": null,
   "metadata": {},
   "outputs": [],
   "source": []
  },
  {
   "cell_type": "code",
   "execution_count": null,
   "metadata": {},
   "outputs": [],
   "source": []
  }
 ],
 "metadata": {
  "kernelspec": {
   "display_name": "Python [conda env:root] *",
   "language": "python",
   "name": "conda-root-py"
  },
  "language_info": {
   "codemirror_mode": {
    "name": "ipython",
    "version": 3
   },
   "file_extension": ".py",
   "mimetype": "text/x-python",
   "name": "python",
   "nbconvert_exporter": "python",
   "pygments_lexer": "ipython3",
   "version": "3.8.5"
  }
 },
 "nbformat": 4,
 "nbformat_minor": 4
}
