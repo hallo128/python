{
 "cells": [
  {
   "cell_type": "markdown",
   "metadata": {},
   "source": [
    "# time库的使用"
   ]
  },
  {
   "cell_type": "markdown",
   "metadata": {},
   "source": [
    "## 一、time获取当前时间的3种方式"
   ]
  },
  {
   "cell_type": "code",
   "execution_count": 6,
   "metadata": {},
   "outputs": [],
   "source": [
    "import time"
   ]
  },
  {
   "cell_type": "code",
   "execution_count": 7,
   "metadata": {},
   "outputs": [
    {
     "data": {
      "text/plain": [
       "1610602137.321572"
      ]
     },
     "execution_count": 7,
     "metadata": {},
     "output_type": "execute_result"
    }
   ],
   "source": [
    "time.time()     #秒"
   ]
  },
  {
   "cell_type": "code",
   "execution_count": 8,
   "metadata": {},
   "outputs": [
    {
     "data": {
      "text/plain": [
       "'Thu Jan 14 13:29:28 2021'"
      ]
     },
     "execution_count": 8,
     "metadata": {},
     "output_type": "execute_result"
    }
   ],
   "source": [
    "time.ctime()    #可读性"
   ]
  },
  {
   "cell_type": "code",
   "execution_count": 9,
   "metadata": {},
   "outputs": [
    {
     "data": {
      "text/plain": [
       "time.struct_time(tm_year=2021, tm_mon=1, tm_mday=14, tm_hour=5, tm_min=29, tm_sec=49, tm_wday=3, tm_yday=14, tm_isdst=0)"
      ]
     },
     "execution_count": 9,
     "metadata": {},
     "output_type": "execute_result"
    }
   ],
   "source": [
    "time.gmtime()   #时间格式"
   ]
  },
  {
   "cell_type": "markdown",
   "metadata": {},
   "source": [
    "## 二、时间格式化"
   ]
  },
  {
   "cell_type": "markdown",
   "metadata": {},
   "source": [
    "### 1.strftime"
   ]
  },
  {
   "cell_type": "code",
   "execution_count": 12,
   "metadata": {},
   "outputs": [
    {
     "data": {
      "text/plain": [
       "'2021-01-14 05:50:50'"
      ]
     },
     "execution_count": 12,
     "metadata": {},
     "output_type": "execute_result"
    }
   ],
   "source": [
    "t = time.gmtime() \n",
    "time.strftime(\"%Y-%m-%d %H:%M:%S\", t)    # 时间格式 -> str"
   ]
  },
  {
   "cell_type": "markdown",
   "metadata": {},
   "source": [
    "格式化标准：\n",
    "- %y     两位数的年份表示（00-99）\n",
    "- %Y     四位数的年份表示（000-9999）\n",
    "- %m     月份（01-12）\n",
    "- %d     月内中的一天（0-31）\n",
    "- %H     24小时制小时数（0-23）\n",
    "- %I     12小时制小时数（01-12）\n",
    "- %M     分钟数（00=59）\n",
    "- %S     秒（00-59）\n",
    "- %a     本地简化星期名称\n",
    "- %A     本地完整星期名称\n",
    "- %b     本地简化的月份名称\n",
    "- %B     本地完整的月份名称\n",
    "- %c     本地相应的日期表示和时间表示\n",
    "- %j     年内的一天（001-366）\n",
    "- %p     本地A.M.或P.M.的等价符\n",
    "- %U     一年中的星期数（00-53）星期天为星期的开始\n",
    "- %w     星期（0-6），星期天为星期的开始\n",
    "- %W     一年中的星期数（00-53）星期一为星期的开始\n",
    "- %x     本地相应的日期表示\n",
    "- %X     本地相应的时间表示\n",
    "- %Z     当前时区的名称\n",
    "- %%     %号本身 "
   ]
  },
  {
   "cell_type": "markdown",
   "metadata": {},
   "source": [
    "### 2.strptime"
   ]
  },
  {
   "cell_type": "code",
   "execution_count": 13,
   "metadata": {},
   "outputs": [
    {
     "data": {
      "text/plain": [
       "time.struct_time(tm_year=2021, tm_mon=1, tm_mday=14, tm_hour=5, tm_min=50, tm_sec=50, tm_wday=3, tm_yday=14, tm_isdst=-1)"
      ]
     },
     "execution_count": 13,
     "metadata": {},
     "output_type": "execute_result"
    }
   ],
   "source": [
    "timeStr = '2021-01-14 05:50:50'\n",
    "time.strptime(timeStr, \"%Y-%m-%d %H:%M:%S\")  # str -> 时间格式"
   ]
  },
  {
   "cell_type": "markdown",
   "metadata": {},
   "source": [
    "## 三、程序计时"
   ]
  },
  {
   "cell_type": "markdown",
   "metadata": {},
   "source": [
    "### 1.perf_counter()\n",
    "CPU级别的精确时间计数值，单位为秒"
   ]
  },
  {
   "cell_type": "code",
   "execution_count": 15,
   "metadata": {},
   "outputs": [
    {
     "data": {
      "text/plain": [
       "4.212399653624743e-05"
      ]
     },
     "execution_count": 15,
     "metadata": {},
     "output_type": "execute_result"
    }
   ],
   "source": [
    "start = time.perf_counter()\n",
    "# --具体运行执行内容--\n",
    "end = time.perf_counter()\n",
    "end - start"
   ]
  },
  {
   "cell_type": "markdown",
   "metadata": {},
   "source": [
    "### 2.sleep()\n",
    "休眠时间，单位为秒，浮点类型"
   ]
  },
  {
   "cell_type": "code",
   "execution_count": 18,
   "metadata": {},
   "outputs": [],
   "source": [
    "time.sleep(2.3)  #休眠2.3秒"
   ]
  },
  {
   "cell_type": "code",
   "execution_count": null,
   "metadata": {},
   "outputs": [],
   "source": []
  }
 ],
 "metadata": {
  "kernelspec": {
   "display_name": "Python 3",
   "language": "python",
   "name": "python3"
  },
  "language_info": {
   "codemirror_mode": {
    "name": "ipython",
    "version": 3
   },
   "file_extension": ".py",
   "mimetype": "text/x-python",
   "name": "python",
   "nbconvert_exporter": "python",
   "pygments_lexer": "ipython3",
   "version": "3.6.0"
  }
 },
 "nbformat": 4,
 "nbformat_minor": 4
}
