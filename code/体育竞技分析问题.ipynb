{
 "cells": [
  {
   "cell_type": "markdown",
   "metadata": {},
   "source": [
    "# 体育竞技分析问题\n",
    "\n",
    "计算思维：抽象+自动化\n",
    "\n",
    "用计算机模拟N场比赛\n",
    "\n",
    "### 步骤\n",
    "| 步骤编号|内容| 函数| \n",
    "| :----:|:----:|:----:|\n",
    "| 1 | 打印程序的介绍信息 | printInfo()\n",
    "| 2 |获取程序运行参数: proA, proB, n | getInputs()\n",
    "| 3 | 利用球员A，B的能力值，模拟n场比赛 | simNGames()\n",
    "| 4|输出球员A和B获胜的场次和概率| printSummary()"
   ]
  },
  {
   "cell_type": "code",
   "execution_count": null,
   "metadata": {},
   "outputs": [],
   "source": []
  },
  {
   "cell_type": "code",
   "execution_count": null,
   "metadata": {},
   "outputs": [],
   "source": []
  },
  {
   "cell_type": "code",
   "execution_count": null,
   "metadata": {},
   "outputs": [],
   "source": []
  }
 ],
 "metadata": {
  "kernelspec": {
   "display_name": "Python [conda env:root] *",
   "language": "python",
   "name": "conda-root-py"
  },
  "language_info": {
   "codemirror_mode": {
    "name": "ipython",
    "version": 3
   },
   "file_extension": ".py",
   "mimetype": "text/x-python",
   "name": "python",
   "nbconvert_exporter": "python",
   "pygments_lexer": "ipython3",
   "version": "3.8.5"
  }
 },
 "nbformat": 4,
 "nbformat_minor": 4
}
