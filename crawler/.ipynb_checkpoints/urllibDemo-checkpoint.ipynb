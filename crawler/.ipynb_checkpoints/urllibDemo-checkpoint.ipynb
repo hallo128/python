{
 "cells": [
  {
   "cell_type": "code",
   "execution_count": 5,
   "metadata": {
    "collapsed": true
   },
   "outputs": [],
   "source": [
    "# -*- coding: utf-8 -*-"
   ]
  },
  {
   "cell_type": "code",
   "execution_count": 6,
   "metadata": {
    "collapsed": true
   },
   "outputs": [],
   "source": [
    "import urllib\n",
    "import urllib2"
   ]
  },
  {
   "cell_type": "code",
   "execution_count": 7,
   "metadata": {
    "collapsed": false
   },
   "outputs": [],
   "source": [
    "URL_IP = \"http://httpbin.org/ip\""
   ]
  },
  {
   "cell_type": "code",
   "execution_count": 8,
   "metadata": {
    "collapsed": true
   },
   "outputs": [],
   "source": [
    "#创建一个urllib响应的例子\n",
    "def use_sample_urllib2():\n",
    "    response = urllib2.urlopen(URL_IP)\n",
    "    print \">>>>Response Headers:\"\n",
    "\tprint response.info()\n",
    "\tprint \">>>>Response Body:\"\n",
    "\tprint ''.join([line for line in response.readlines()])"
   ]
  },
  {
   "cell_type": "code",
   "execution_count": 9,
   "metadata": {
    "collapsed": false
   },
   "outputs": [
    {
     "name": "stdout",
     "output_type": "stream",
     "text": [
      ">>>>Use_sample_urllib2:\n",
      ">>>>Response Headers:\n",
      "Connection: close\n",
      "Server: meinheld/0.6.1\n",
      "Date: Fri, 11 Aug 2017 15:38:19 GMT\n",
      "Content-Type: application/json\n",
      "Access-Control-Allow-Origin: *\n",
      "Access-Control-Allow-Credentials: true\n",
      "X-Powered-By: Flask\n",
      "X-Processed-Time: 0.000782012939453\n",
      "Content-Length: 33\n",
      "Via: 1.1 vegur\n",
      "\n",
      ">>>>Response Body:\n",
      "{\n",
      "  \"origin\": \"39.128.223.122\"\n",
      "}\n",
      "\n"
     ]
    }
   ],
   "source": [
    "if __name__ == \"__main__\":\n",
    "\tprint \">>>>Use_sample_urllib2:\"\n",
    "\tuse_sample_urllib2()"
   ]
  }
 ],
 "metadata": {
  "kernelspec": {
   "display_name": "Python 2",
   "language": "python",
   "name": "python2"
  },
  "language_info": {
   "codemirror_mode": {
    "name": "ipython",
    "version": 2
   },
   "file_extension": ".py",
   "mimetype": "text/x-python",
   "name": "python",
   "nbconvert_exporter": "python",
   "pygments_lexer": "ipython2",
   "version": "2.7.13"
  }
 },
 "nbformat": 4,
 "nbformat_minor": 2
}
