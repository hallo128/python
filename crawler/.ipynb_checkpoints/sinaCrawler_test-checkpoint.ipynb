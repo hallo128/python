{
 "cells": [
  {
   "cell_type": "code",
   "execution_count": 31,
   "metadata": {
    "collapsed": false
   },
   "outputs": [],
   "source": [
    "import requests\n",
    "import re\n",
    "from bs4 import BeautifulSoup\n",
    "newsurl = 'http://news.sina.com.cn/o/2017-09-06/doc-ifykpzey4646471.shtml'\n",
    "res = requests.get(newsurl)\n",
    "res.encoding = 'utf-8'\n",
    "soup = BeautifulSoup(res.text,'html.parser')"
   ]
  },
  {
   "cell_type": "code",
   "execution_count": 32,
   "metadata": {
    "collapsed": false
   },
   "outputs": [
    {
     "data": {
      "text/plain": [
       "'“不换床单”评测机构回应质疑:有完整音频证据'"
      ]
     },
     "execution_count": 32,
     "metadata": {},
     "output_type": "execute_result"
    }
   ],
   "source": [
    "#标题\n",
    "soup.select('#artibodyTitle')[0].text"
   ]
  },
  {
   "cell_type": "code",
   "execution_count": 33,
   "metadata": {
    "collapsed": false
   },
   "outputs": [
    {
     "data": {
      "text/plain": [
       "'2017年09月06日07:38'"
      ]
     },
     "execution_count": 33,
     "metadata": {},
     "output_type": "execute_result"
    }
   ],
   "source": [
    "#时间\n",
    "timesource=soup.select('.time-source')[0].contents[0].strip()\n",
    "timesource"
   ]
  },
  {
   "cell_type": "code",
   "execution_count": 34,
   "metadata": {
    "collapsed": false
   },
   "outputs": [
    {
     "data": {
      "text/plain": [
       "datetime.datetime(2017, 9, 6, 7, 38)"
      ]
     },
     "execution_count": 34,
     "metadata": {},
     "output_type": "execute_result"
    }
   ],
   "source": [
    "from datetime import datetime \n",
    "dt = datetime.strptime(timesource,'%Y年%m月%d日%H:%M')\n",
    "dt"
   ]
  },
  {
   "cell_type": "code",
   "execution_count": 36,
   "metadata": {
    "collapsed": false
   },
   "outputs": [
    {
     "data": {
      "text/plain": [
       "'澎湃新闻'"
      ]
     },
     "execution_count": 36,
     "metadata": {},
     "output_type": "execute_result"
    }
   ],
   "source": [
    "#来源\n",
    "soup.select('.time-source span a')[0].text"
   ]
  },
  {
   "cell_type": "code",
   "execution_count": 57,
   "metadata": {
    "collapsed": false
   },
   "outputs": [
    {
     "data": {
      "text/plain": [
       "'原标题：“不换床单”评测机构反遭质疑：不权威能否挑战国际酒店集团 由蓝莓评测发布的一篇《五星级酒店，你们为什么不换床单？》几乎让在中国颇具知名度的国际高端酒店品牌们集体跌落“神坛”。不换床单、不刷马桶、连漱口杯都不清洁……种种“劣迹”无疑在“打脸”那些原本标榜着高品质服务的五星酒店们。 9月5日上午，北京市旅游委联合北京旅游行业协会，共同约谈了北京长安街W酒店、北京希尔顿酒店、北京三里屯洲际酒店、北京JW万豪酒店、北京香格里拉饭店负责人；同日，北京市卫生和计划生育监督所透露，卫监部门已对此事展开调查，本周内将检查北京所有五星级酒店。 不过，面都蓝莓评测和中国网民的质疑，被点名的几家高端酒店品牌的反应并不积极。9月5日，澎湃新闻（www.thepaper.cn）联系了被曝光就酒店所属的希尔顿、万豪、洲际、香格里拉等酒店集团，截至记者发稿前，仅洲际酒店一家给予记者正式回复，表态无法核实报道的准确性。 而到了9月5日晚间，一些网络公众号开始将“矛头”指向了发布该测评的“蓝莓评测”，以及蓝莓评测隶属长期做社区和内容的网站——穷游网，评论包括此类网站需要面对商业模式变现的“严峻问题”，因此“挑战国际五星酒店集团的意图不得而知”。 这使得对国际五星酒店提出质疑者本身却遭到了有何“挑战”意图的质疑，对此，9月5日晚，蓝莓评测发布回应称：“不受任何第三方机构和个人的影响”，并表示对五家五星酒店的全部联系过程和测评结果，均保留了完整的音视频证据。 政府机构介入：检查五星酒店 时间的起因是9月4日蓝莓评测仿照国外测评机构的做法，对北京W酒店、北京三里屯洲际酒店、北京希尔顿酒店、北京JW万豪酒店以及北京香格里拉饭店5家五星级酒店做了暗访。 具体的方法是工作人员在酒店客房的床单、被罩、浴缸、马桶和漱口杯等物件上用特殊涂料涂上标记，这些标记在正常光线下看不出来，只有在紫外线灯的照射下才会显形。 第二天，做标记的工作人员退房离开后，另一位工作人员登记入住同一个房间。用紫外线灯照射后，蓝莓评测发现，上述五家五星级酒店全都没有更换床上用品，也全都没有清洁马桶圈和浴缸，北京三里屯洲际酒店、北京希尔顿酒店、北京JW万豪酒店三家酒店甚至连漱口杯都没有清洗。 用紫外线灯照射后，蓝莓评测发现，上述五家五星级酒店全都没有更换床上用品，也全都没有清洁马桶圈和浴缸。 蓝莓评测将该测评结果发布之后，立即引发舆论热议。一天之后，官方机构陆续发声，称就此事展开调查。 北京市旅游发展委员会9月5日午间在官方微博发布，9月5日上午，北京市旅游委联合北京旅游行业协会，共同约谈了北京长安街W酒店、北京希尔顿酒店、北京三里屯洲际酒店、北京JW万豪酒店、北京香格里拉饭店负责人，就媒体报道的不换床单不擦马桶情况进一步了解核实，要求涉事酒店开展自查和整改，正视问题，积极应对，提升管理水平，提高服务质量。北京市旅游委针对暴露出的问题，将加大对星级饭店和经济型酒店服务质量的日常监管力度。 同日，北京市卫生和计划生育监督所对媒体表示，卫监部门已对此事展开调查，本周内将检查北京所有五星级酒店。 上海鼎力律师事务所律师赵山分析，酒店不更换床单被褥其它卫生用品如果不是偶发事件，基本有两种可能：“一是部分酒店员工的行为。对于这种情况 酒店可以依据自己企业管理规章处罚员工。入住的客人可以因为酒店提供的居住条件下降而要求减免价款。二、酒店方面出于节省相关开支而故意不更换。如果这样，酒店就涉嫌价格欺诈，入住的客人可以要求退一赔三。” 酒店回应：无法核实报道准确性，评测机构不权威 但令人玩味的事，当面对如此之大的负面事件时，被点名的几家国外酒店集团的反应却着实令人意想不到：没有诚恳的认错和愿意有则改之、无则加勉的承诺，大多数涉事酒店集团均采取了不予回应的应对态度。 9月5日，澎湃新闻联系了上述五家酒店所属的希尔顿、万豪、洲际、香格里拉等酒店集团，但截止记者发稿前，出洲际一家给予回复外，其他酒店均未给出回复。 唯一给予澎湃新闻回复的北京三里屯通盈中心洲际酒店表示，“目前，我们无法核实该报道的准确性，但我们已经调取了相关录像，也对近期每天客房用品的更换以及布草的清洗数量进行核对。根据我们可抽调的记录表明，我们的客房清洁流程符合品牌标准，每天更换布草数量与客房清洁数量完全吻合。同时，我们也组织客房部的全体员工就客房清洁标准及程序进行再次培训，确保每一位员工对清洁标准及程序严格贯彻执行。今后我们将进行更加严格的自查，杜绝此类事件的发生。” 而其他几家酒店则并未向澎湃新闻给出正式回应。 根据旅游咨询平台品橙旅游发布的关于此事件报道，北京香格里拉饭店的相关人士在回复品橙旅游时并没有对蓝莓评测所质疑的内容给出回复，但却强调，“发出这则新闻的这个评测机构也不属于权威机构，并没有得到外界的认证。” “酒店方面的态度是截然不同的。这也或多或少透露出一些信号。有酒店积极正面回应，体现了对公众知情权的尊重。有酒店纹丝不动，展示的是其傲慢无礼及对中国消费者的漠视。亦有酒店直接质疑检测机构资质，这也或多或少说明了相关检测机构开始触到了酒店的某些痛点。”赵山评价。 不够“权威”能不能“挑战”国际五星酒店集团？ 与这些国际酒店集团指向类似，测评结果公布一天之后，开始有自媒体对测评者“挑战国际五星酒店集团”的意图提出质疑，对酒店机构的评测者开始成为了被质疑的一方。 如某公众号发布了名为《这颗蓝莓，你欠所有五星酒店人一个交代！》一文，该网文的作者先是写了自己在入住被点名的五家酒店时并未感觉服务上有何不妥，随后开始质疑蓝莓评测的不同工作人员两天入住同一间客房是否有可操作性。 并且文章指出：蓝莓评测的帐号主体是寰宇慧旅（北京）科技有限公司，即“穷游网”网的主体。该公众号描述穷游网为：“在去年1月D轮融资后屡屡被传商业化之路艰难”。 文章指出：“对于一家长期做社区和内容的网站，如何实现商业模式变现，如何形成规模化的营收，一直是摆在这家社区型旅游网站面前一个严峻的问题。而蓝莓评测作为该账号旗下一个独立公众平台，此番学习美国‘内幕调查’节目挑战五家国际五星酒店集团的意图亦不得而知。” 该文发布之后，有读者对此公众号的质疑表示认同，认为确实看到服务人员打扫了房间。 但也读者强调，“无论什么原因，只要客人退房了，就应该换床单。”、“（测评）总的来说是对消费者有利的方向发展。”、“旅游行业确实应该有第三方测评”。 蓝莓评测：全过程保留了完整的音频证据 而当质疑者成为被质疑者后，澎湃新闻联系了穷游网CEO肖异，肖异并未否认蓝莓评测的账号主体确为穷游网一事。 9月5日晚，穷游网就与蓝莓评测关系一事向澎湃新闻发布官方回应：“蓝莓评测作为独立的第三方测评机构，有完全独立的选题策划和执行团队，所有的评测文章和视频均由蓝莓评测团队自主完成。不受穷游在内的任何机构和个人影响。” 随后，蓝莓评测又就两批员工连续两天入住同一酒店客房等细节发布声明。声明中透露，入住北京希尔顿酒店时可以通过酒店官方手机客户端完成选择房号并办理入住，而其他四家酒店则是提前致电了酒店，提出了入住指定客房的要求，并均得到满足。 “以上五家酒店的全部联系过程和测评过程，蓝莓评测均保留了完整的音频证据。”蓝莓评测表示。 面对公众质疑，中外酒店集团态度截然不同 事实上，国际酒店集团面对中国媒体和公众质疑之声选择不回应的“传统”由来已久。早在去年4月，国际酒店集团们被曝光以营改增为借口上调价格时，面对中国媒体的质疑，大多数国际酒店集团也曾一致采取不理睬、不回应、不改正的态度。直至，国家发改委和各地方政府多部门就此事提出批评并约谈其相关负责人后，这些国际酒店集团才默默地撤销了涨价计划。 而针对此番蓝莓评测引发的负面事件，国际酒店集团所采取的应对策略也大多与其过去态度如出一辙。 与国际酒店集团在中国应对负面质疑反应形成鲜明对比的，是中国本土酒店集团的态度。2016年，如家和颐酒店女子遇袭事件曝光之后后，如家掌门人孙坚曾率管理层当众鞠躬道歉，并由此得到了公众的谅解。 “如果事件被证实，这些酒店应该拿出勇气和智慧去直接面对，虽然痛苦，但是要为自己的错误买单，别遮遮掩掩，强词夺理。如果事件是歪曲事实、移花接木甚至是应了那个著名词汇‘别有用心’，也应该还相关酒店一个公道，这种风气严重破坏了商业伦理。” 品橙旅游首席分析师周易水说，“不管事件本身的真相如何，但确实给高端酒店提了个醒，有则改之，无则加勉。” 无独有偶，在国际高端酒店不换床单的消息引发热议的同时，另一则有关国际高端酒店的新闻也在近日“刷爆朋友圈”，那就是第一家进驻中国的希尔顿品牌酒店——位于上海静安区华山路的上海希尔顿酒店，该酒店将于2018年1月1日撤牌。 1988年上海希尔顿开业时，曾受到过所有酒店都没有享受过的高规格待遇，此后，也在无数人心中成为了高大上的代表。其撤牌的消息公布后自然掀起了一股怀旧之风。 澎湃新闻记者从权威渠道获悉，在洋品牌希尔顿撤牌之后，该酒店很可能会变身为一座中国本土的高端酒店品牌。 在人们为近期酒店业的种种怀旧和负面新闻唏嘘不已的同时，或许更应该欣喜的是：当中国本土的高端酒店品牌能够代替国际品牌；当本土的第三方测评机构有胆量“挑战”国外顶尖品牌，这正意味着一个全新的时代已经开启。'"
      ]
     },
     "execution_count": 57,
     "metadata": {},
     "output_type": "execute_result"
    }
   ],
   "source": [
    "#内文\n",
    "' '.join([p.text.strip() for p in soup.select('#artibody p')[:-1]])"
   ]
  },
  {
   "cell_type": "code",
   "execution_count": 61,
   "metadata": {
    "collapsed": false
   },
   "outputs": [
    {
     "data": {
      "text/plain": [
       "'张建利'"
      ]
     },
     "execution_count": 61,
     "metadata": {},
     "output_type": "execute_result"
    }
   ],
   "source": [
    "#编辑\n",
    "soup.select('.article-editor')[0].text.lstrip('责任编辑：').strip()"
   ]
  },
  {
   "cell_type": "code",
   "execution_count": null,
   "metadata": {
    "collapsed": true
   },
   "outputs": [],
   "source": [
    "#评论数"
   ]
  },
  {
   "cell_type": "code",
   "execution_count": 75,
   "metadata": {
    "collapsed": false
   },
   "outputs": [],
   "source": [
    "import requests\n",
    "#comments = requests.get('http://comment5.news.sina.com.cn/page/info?version=1&format=js&channel=gn&newsid=comos-fykpzey4646471&group=&compress=0&ie=utf-8&oe=utf-8&page=1&page_size=20&jsvar=loader_1504670781442_94660133')\n",
    "#comments.text.strip('var loader_1504670781442_94660133=')"
   ]
  },
  {
   "cell_type": "code",
   "execution_count": 72,
   "metadata": {
    "collapsed": false
   },
   "outputs": [
    {
     "data": {
      "text/plain": [
       "'{\"result\": {\"status\": {\"msg\": \"\", \"code\": 0}, \"count\": {\"qreply\": 70, \"total\": 82, \"show\": 12}, \"replydict\": {\"59AF6EC0-7CA0D558-E23C5755-936-867\": [{\"comment_imgs\": \"\", \"parent_mid\": \"0\", \"news_mid_source\": \"0\", \"rank\": \"2\", \"mid\": \"59AF5709-DEAFC8A2-C414785B-936-9CE\", \"vote\": \"0\", \"uid\": \"3289675867\", \"area\": \"\\\\u5c71\\\\u4e1c\\\\u5a01\\\\u6d77\", \"channel_source\": \"\", \"content\": \"\\\\u6709\\\\u6cd5\\\\u5f8b\\\\u6761\\\\u6587\\\\u53ef\\\\u4f9d\\\\u5417\\\\uff1f\\\\u5982\\\\u679c\\\\u6ca1\\\\u6709\\\\uff0c\\\\u6293\\\\u7d27\\\\u7acb\\\\u6cd5\\\\uff0c\\\\u6d0b\\\\u4eba\\\\u5f00\\\\u7684\\\\u9152\\\\u5e97\\\\u5c31\\\\u662f\\\\u94bb\\\\u6cd5\\\\u5f8b\\\\u7684\\\\u7a7a\\\\u5b50\", \"nick\": \"\\\\u4e0d\\\\u4f1a\\\\u98de\\\\u7684\\\\u9752\\\\u86d9_72221\", \"ip\": \"222.175.200.162\", \"parent_nick\": \"\", \"config\": \"wb_verified=0&wb_screen_name=\\\\u4e0d\\\\u4f1a\\\\u98de\\\\u7684\\\\u9752\\\\u86d9_72221&area=\\\\u5c71\\\\u4e1c\\\\u5a01\\\\u6d77&wb_user_id=3289675867&followers_count=22&client_port=0&wb_profile_img=http%3A%2F%2Ftvax4.sinaimg.cn%2Fdefault%2Fimages%2Fdefault_avatar_male_50.gif&wb_time=1504663305\", \"channel\": \"gn\", \"comment_mid\": \"4822003426018603008\", \"status\": \"M_PASS\", \"newsid_source\": \"\", \"parent\": \"\", \"parent_profile_img\": \"\", \"news_mid\": \"4821973494739636224\", \"newsid\": \"comos-fykpzey4646471\", \"parent_uid\": \"0\", \"thread_mid\": \"0\", \"thread\": \"\", \"level\": \"0\", \"against\": \"0\", \"usertype\": \"\", \"length\": \"33\", \"profile_img\": \"http://tvax4.sinaimg.cn/default/images/default_avatar_male_50.gif\", \"time\": \"2017-09-06 10:01:44\", \"agree\": \"2\"}], \"59AF61BD-7A8E3181-254DE70-936-867\": [{\"comment_imgs\": \"\", \"parent_mid\": \"0\", \"news_mid_source\": \"0\", \"rank\": \"7\", \"mid\": \"59AF521C-CBA1B504-704413FA-936-97B\", \"vote\": \"0\", \"uid\": \"1883509754\", \"area\": \"\\\\u65b0\\\\u52a0\\\\u5761\", \"channel_source\": \"\", \"content\": \"\\\\u4e0d\\\\u6362\\\\u5e8a\\\\u5355\\\\uff0c\\\\u53c8\\\\u4e0d\\\\u80fd\\\\u8ba9\\\\u4e0b\\\\u4e00\\\\u4e2a\\\\u5ba2\\\\u4eba\\\\u770b\\\\u51fa\\\\u6765\\\\uff0c\\\\u96be\\\\u5ea6\\\\u8fd8\\\\u662f\\\\u5f88\\\\u9ad8\\\\u7684\\\\u3002\", \"nick\": \"alvd\", \"ip\": \"203.161.181.4\", \"parent_nick\": \"\", \"config\": \"wb_verified=0&wb_screen_name=alvd&area=\\\\u65b0\\\\u52a0\\\\u5761&wb_user_id=1883509754&followers_count=11&client_port=0&wb_profile_img=http%3A%2F%2Ftva3.sinaimg.cn%2Fcrop.0.0.180.180.50%2F704413fajw1e8qgp5bmzyj2050050aa8.jpg&wb_time=1504662044\", \"channel\": \"gn\", \"comment_mid\": \"4821998138163081216\", \"status\": \"M_PASS\", \"newsid_source\": \"\", \"parent\": \"\", \"parent_profile_img\": \"\", \"news_mid\": \"4821973494739636224\", \"newsid\": \"comos-fykpzey4646471\", \"parent_uid\": \"0\", \"thread_mid\": \"0\", \"thread\": \"\", \"level\": \"0\", \"against\": \"0\", \"usertype\": \"\", \"length\": \"26\", \"profile_img\": \"http://tva3.sinaimg.cn/crop.0.0.180.180.50/704413fajw1e8qgp5bmzyj2050050aa8.jpg\", \"time\": \"2017-09-06 09:40:44\", \"agree\": \"7\"}]}, \"language\": \"ch\", \"encoding\": \"utf-8\", \"top\": [], \"cmntlist\": [{\"comment_imgs\": \"\", \"parent_mid\": \"4822003426018603008\", \"news_mid_source\": \"0\", \"rank\": \"0\", \"mid\": \"59AF6EC0-7CA0D558-E23C5755-936-867\", \"vote\": \"0\", \"uid\": \"3795605333\", \"area\": \"\\\\u6d59\\\\u6c5f\", \"channel_source\": \"\", \"content\": \"\\\\u767d\\\\u75f4\\\\uff0c\\\\u6295\\\\u8d44\\\\u4eba\\\\u662f\\\\u5916\\\\u56fd\\\\u4eba\\\\uff0c\\\\u7ba1\\\\u7406\\\\u3001\\\\u5de5\\\\u4f5c\\\\u7684\\\\u90fd\\\\u662f\\\\u4e2d\\\\u56fd\\\\u4eba\\\\uff01\\\\u8bf7\\\\u95ee\\\\u4f60\\\\u662f\\\\u5982\\\\u4f55\\\\u754c\\\\u5b9a\\\\u8d23\\\\u4efb\\\\u7684\\\\uff1f\", \"nick\": \"\\\\u6c34\\\\u6b66\\\\u5929\\\\u5730\", \"ip\": \"124.160.213.88\", \"parent_nick\": \"\\\\u4e0d\\\\u4f1a\\\\u98de\\\\u7684\\\\u9752\\\\u86d9_72221\", \"config\": \"wb_verified=0&wb_screen_name=\\\\u6c34\\\\u6b66\\\\u5929\\\\u5730&SOFT_TYPE=Build/MXB48T) Chrome/53.0.2785.97 Safari/537.36&area=\\\\u6d59\\\\u6c5f&wb_user_id=3795605333&followers_count=11&wb_profile_img=http%3A%2F%2Ftvax2.sinaimg.cn%2Fdefault%2Fimages%2Fdefault_avatar_male_50.gif&OS_TYPE=14&wb_time=1504669376&p_nick=\\\\u4e0d\\\\u4f1a\\\\u98de\\\\u7684\\\\u9752\\\\u86d9_72221&p_uid=3289675867\", \"channel\": \"gn\", \"comment_mid\": \"4822028893744345088\", \"status\": \"M_PASS\", \"newsid_source\": \"\", \"parent\": \"59AF5709-DEAFC8A2-C414785B-936-9CE\", \"parent_profile_img\": \"http://tvax4.sinaimg.cn/default/images/default_avatar_male_50.gif\", \"news_mid\": \"4821973494739636224\", \"newsid\": \"comos-fykpzey4646471\", \"parent_uid\": \"3289675867\", \"thread_mid\": \"4822003426018603008\", \"thread\": \"59AF5709-DEAFC8A2-C414785B-936-9CE\", \"level\": \"1\", \"against\": \"0\", \"usertype\": \"wap\", \"length\": \"35\", \"profile_img\": \"http://tvax2.sinaimg.cn/default/images/default_avatar_male_50.gif\", \"time\": \"2017-09-06 11:42:50\", \"agree\": \"0\"}, {\"comment_imgs\": \"\", \"parent_mid\": \"4821998138163081216\", \"news_mid_source\": \"0\", \"rank\": \"1\", \"mid\": \"59AF61BD-7A8E3181-254DE70-936-867\", \"vote\": \"0\", \"uid\": \"39116400\", \"area\": \"\\\\u5409\\\\u6797\\\\u901a\\\\u5316\", \"channel_source\": \"\", \"content\": \"\\\\u8fd9\\\\u624d\\\\u662f\\\\u7cbe\\\\u9ad3\\\\uff01\", \"nick\": \"daxueyingchun\", \"ip\": \"122.142.49.129\", \"parent_nick\": \"alvd\", \"config\": \"wb_verified=0&wb_screen_name=daxueyingchun&area=\\\\u5409\\\\u6797\\\\u901a\\\\u5316&wb_user_id=39116400&followers_count=140&client_port=0&wb_profile_img=http%3A%2F%2Ftva1.sinaimg.cn%2Fcrop.23.0.469.469.50%2F0254de70jw1f6n9g7vkmaj20f30d3ae5.jpg&wb_time=1504666045&p_nick=alvd&p_uid=1883509754\", \"channel\": \"gn\", \"comment_mid\": \"4822014921544708096\", \"status\": \"M_PASS\", \"newsid_source\": \"\", \"parent\": \"59AF521C-CBA1B504-704413FA-936-97B\", \"parent_profile_img\": \"http://tva3.sinaimg.cn/crop.0.0.180.180.50/704413fajw1e8qgp5bmzyj2050050aa8.jpg\", \"news_mid\": \"4821973494739636224\", \"newsid\": \"comos-fykpzey4646471\", \"parent_uid\": \"1883509754\", \"thread_mid\": \"4821998138163081216\", \"thread\": \"59AF521C-CBA1B504-704413FA-936-97B\", \"level\": \"1\", \"against\": \"0\", \"usertype\": \"\", \"length\": \"6\", \"profile_img\": \"http://tva1.sinaimg.cn/crop.23.0.469.469.50/0254de70jw1f6n9g7vkmaj20f30d3ae5.jpg\", \"time\": \"2017-09-06 10:47:24\", \"agree\": \"1\"}, {\"comment_imgs\": \"\", \"parent_mid\": \"0\", \"news_mid_source\": \"0\", \"rank\": \"4\", \"mid\": \"59AF5F0C-E98458C-AE74DA45-936-900\", \"vote\": \"0\", \"uid\": \"2926893637\", \"area\": \"\\\\u5e7f\\\\u4e1c\\\\u5e7f\\\\u5dde\", \"channel_source\": \"\", \"content\": \"\\\\u8fd9\\\\u4ef6\\\\u4e8b\\\\u6211\\\\u7edd\\\\u5bf9\\\\u76f8\\\\u4fe1\\\\u84dd\\\\u8393\\\\uff01\", \"nick\": \"\\\\u624b\\\\u673a\\\\u7528\\\\u62372926893637\", \"ip\": \"14.152.69.140\", \"parent_nick\": \"\", \"config\": \"wb_verified=0&wb_screen_name=\\\\u624b\\\\u673a\\\\u7528\\\\u62372926893637&from=ucweb&SOFT_TYPE=Build/HUAWEIVIE-AL10) Chrome/40.0.2214.89 UCBrowser/11.6.4.950 Safari/537.36&area=\\\\u5e7f\\\\u4e1c\\\\u5e7f\\\\u5dde&wb_user_id=2926893637&followers_count=4&wb_profile_img=http%3A%2F%2Ftvax2.sinaimg.cn%2Fdefault%2Fimages%2Fdefault_avatar_male_50.gif&OS_TYPE=14&wb_time=1504665356\", \"channel\": \"gn\", \"comment_mid\": \"4822012032411643904\", \"status\": \"M_PASS\", \"newsid_source\": \"\", \"parent\": \"\", \"parent_profile_img\": \"\", \"news_mid\": \"4821973494739636224\", \"newsid\": \"comos-fykpzey4646471\", \"parent_uid\": \"0\", \"thread_mid\": \"0\", \"thread\": \"\", \"level\": \"0\", \"against\": \"0\", \"usertype\": \"wap\", \"length\": \"11\", \"profile_img\": \"http://tvax2.sinaimg.cn/default/images/default_avatar_male_50.gif\", \"time\": \"2017-09-06 10:35:56\", \"agree\": \"4\"}, {\"comment_imgs\": \"\", \"parent_mid\": \"0\", \"news_mid_source\": \"0\", \"rank\": \"0\", \"mid\": \"59AF5A84-AC105C1B-7175439B-936-887\", \"vote\": \"0\", \"uid\": \"1903510427\", \"area\": \"\\\\u5317\\\\u4eac\\\\u6d77\\\\u6dc0\", \"channel_source\": \"\", \"content\": \"\\\\u9152\\\\u5e97\\\\u8d3c\\\\u558a\\\\u6349\\\\u8d3c!\", \"nick\": \"\\\\u6211\\\\u662f\\\\u9c7c\\\\u9c7c\\\\u554a\", \"ip\": \"172.16.92.27\", \"parent_nick\": \"\", \"config\": \"wb_verified=0&wb_screen_name=\\\\u6211\\\\u662f\\\\u9c7c\\\\u9c7c\\\\u554a&from=ucweb&SOFT_TYPE=Build/NRD90M) Chrome/40.0.2214.89 UCBrowser/11.6.8.952 Safari/537.36&area=\\\\u5317\\\\u4eac\\\\u6d77\\\\u6dc0&wb_user_id=1903510427&followers_count=2&wb_profile_img=http%3A%2F%2Ftvax4.sinaimg.cn%2Fdefault%2Fimages%2Fdefault_avatar_male_50.gif&OS_TYPE=14&wb_time=1504664196\", \"channel\": \"gn\", \"comment_mid\": \"4822007166029148160\", \"status\": \"M_PASS\", \"newsid_source\": \"\", \"parent\": \"\", \"parent_profile_img\": \"\", \"news_mid\": \"4821973494739636224\", \"newsid\": \"comos-fykpzey4646471\", \"parent_uid\": \"0\", \"thread_mid\": \"0\", \"thread\": \"\", \"level\": \"0\", \"against\": \"0\", \"usertype\": \"wap\", \"length\": \"7\", \"profile_img\": \"http://tvax4.sinaimg.cn/default/images/default_avatar_male_50.gif\", \"time\": \"2017-09-06 10:16:36\", \"agree\": \"0\"}, {\"comment_imgs\": \"\", \"parent_mid\": \"0\", \"news_mid_source\": \"0\", \"rank\": \"2\", \"mid\": \"59AF5709-DEAFC8A2-C414785B-936-9CE\", \"vote\": \"0\", \"uid\": \"3289675867\", \"area\": \"\\\\u5c71\\\\u4e1c\\\\u5a01\\\\u6d77\", \"channel_source\": \"\", \"content\": \"\\\\u6709\\\\u6cd5\\\\u5f8b\\\\u6761\\\\u6587\\\\u53ef\\\\u4f9d\\\\u5417\\\\uff1f\\\\u5982\\\\u679c\\\\u6ca1\\\\u6709\\\\uff0c\\\\u6293\\\\u7d27\\\\u7acb\\\\u6cd5\\\\uff0c\\\\u6d0b\\\\u4eba\\\\u5f00\\\\u7684\\\\u9152\\\\u5e97\\\\u5c31\\\\u662f\\\\u94bb\\\\u6cd5\\\\u5f8b\\\\u7684\\\\u7a7a\\\\u5b50\", \"nick\": \"\\\\u4e0d\\\\u4f1a\\\\u98de\\\\u7684\\\\u9752\\\\u86d9_72221\", \"ip\": \"222.175.200.162\", \"parent_nick\": \"\", \"config\": \"wb_verified=0&wb_screen_name=\\\\u4e0d\\\\u4f1a\\\\u98de\\\\u7684\\\\u9752\\\\u86d9_72221&area=\\\\u5c71\\\\u4e1c\\\\u5a01\\\\u6d77&wb_user_id=3289675867&followers_count=22&client_port=0&wb_profile_img=http%3A%2F%2Ftvax4.sinaimg.cn%2Fdefault%2Fimages%2Fdefault_avatar_male_50.gif&wb_time=1504663305\", \"channel\": \"gn\", \"comment_mid\": \"4822003426018603008\", \"status\": \"M_PASS\", \"newsid_source\": \"\", \"parent\": \"\", \"parent_profile_img\": \"\", \"news_mid\": \"4821973494739636224\", \"newsid\": \"comos-fykpzey4646471\", \"parent_uid\": \"0\", \"thread_mid\": \"0\", \"thread\": \"\", \"level\": \"0\", \"against\": \"0\", \"usertype\": \"\", \"length\": \"33\", \"profile_img\": \"http://tvax4.sinaimg.cn/default/images/default_avatar_male_50.gif\", \"time\": \"2017-09-06 10:01:44\", \"agree\": \"2\"}, {\"comment_imgs\": \"\", \"parent_mid\": \"0\", \"news_mid_source\": \"0\", \"rank\": \"6\", \"mid\": \"59AF549B-6FCF9482-57D24321-936-8C8\", \"vote\": \"0\", \"uid\": \"1473397537\", \"area\": \"\\\\u5317\\\\u4eac\", \"channel_source\": \"\", \"content\": \"\\\\u63d0\\\\u5021\\\\u5927\\\\u5bb6\\\\u5165\\\\u4f4f\\\\u4e94\\\\u661f\\\\u9152\\\\u5e97\\\\u540e\\\\u79bb\\\\u5e97\\\\u7684\\\\u540c\\\\u65f6\\\\uff0c\\\\u6709\\\\u610f\\\\u628a\\\\u5e8a\\\\u5957\\\\u5f04\\\\u810f\\\\uff0c\\\\u8fd9\\\\u6837\\\\u4ed6\\\\u4eec\\\\u5c31\\\\u5fc5\\\\u987b\\\\u6362\\\\u4e86\", \"nick\": \"\\\\u68ee\\\\u6797\\\\u4e4b\\\\u738bBJ\", \"ip\": \"111.207.148.130\", \"parent_nick\": \"\", \"config\": \"wb_verified=0&wb_screen_name=\\\\u68ee\\\\u6797\\\\u4e4b\\\\u738bBJ&area=\\\\u5317\\\\u4eac&wb_user_id=1473397537&followers_count=94&client_port=0&wb_profile_img=http%3A%2F%2Ftva2.sinaimg.cn%2Fcrop.0.0.180.180.50%2F57d24321jw1e8qgp5bmzyj2050050aa8.jpg&wb_time=1504662683\", \"channel\": \"gn\", \"comment_mid\": \"4822000820105916416\", \"status\": \"M_PASS\", \"newsid_source\": \"\", \"parent\": \"\", \"parent_profile_img\": \"\", \"news_mid\": \"4821973494739636224\", \"newsid\": \"comos-fykpzey4646471\", \"parent_uid\": \"0\", \"thread_mid\": \"0\", \"thread\": \"\", \"level\": \"0\", \"against\": \"0\", \"usertype\": \"\", \"length\": \"34\", \"profile_img\": \"http://tva2.sinaimg.cn/crop.0.0.180.180.50/57d24321jw1e8qgp5bmzyj2050050aa8.jpg\", \"time\": \"2017-09-06 09:51:23\", \"agree\": \"6\"}, {\"comment_imgs\": \"\", \"parent_mid\": \"0\", \"news_mid_source\": \"0\", \"rank\": \"7\", \"mid\": \"59AF521C-CBA1B504-704413FA-936-97B\", \"vote\": \"0\", \"uid\": \"1883509754\", \"area\": \"\\\\u65b0\\\\u52a0\\\\u5761\", \"channel_source\": \"\", \"content\": \"\\\\u4e0d\\\\u6362\\\\u5e8a\\\\u5355\\\\uff0c\\\\u53c8\\\\u4e0d\\\\u80fd\\\\u8ba9\\\\u4e0b\\\\u4e00\\\\u4e2a\\\\u5ba2\\\\u4eba\\\\u770b\\\\u51fa\\\\u6765\\\\uff0c\\\\u96be\\\\u5ea6\\\\u8fd8\\\\u662f\\\\u5f88\\\\u9ad8\\\\u7684\\\\u3002\", \"nick\": \"alvd\", \"ip\": \"203.161.181.4\", \"parent_nick\": \"\", \"config\": \"wb_verified=0&wb_screen_name=alvd&area=\\\\u65b0\\\\u52a0\\\\u5761&wb_user_id=1883509754&followers_count=11&client_port=0&wb_profile_img=http%3A%2F%2Ftva3.sinaimg.cn%2Fcrop.0.0.180.180.50%2F704413fajw1e8qgp5bmzyj2050050aa8.jpg&wb_time=1504662044\", \"channel\": \"gn\", \"comment_mid\": \"4821998138163081216\", \"status\": \"M_PASS\", \"newsid_source\": \"\", \"parent\": \"\", \"parent_profile_img\": \"\", \"news_mid\": \"4821973494739636224\", \"newsid\": \"comos-fykpzey4646471\", \"parent_uid\": \"0\", \"thread_mid\": \"0\", \"thread\": \"\", \"level\": \"0\", \"against\": \"0\", \"usertype\": \"\", \"length\": \"26\", \"profile_img\": \"http://tva3.sinaimg.cn/crop.0.0.180.180.50/704413fajw1e8qgp5bmzyj2050050aa8.jpg\", \"time\": \"2017-09-06 09:40:44\", \"agree\": \"7\"}, {\"comment_imgs\": \"\", \"parent_mid\": \"0\", \"news_mid_source\": \"0\", \"rank\": \"4\", \"mid\": \"59AF5067-8BD48FF2-593C56B5-936-8C9\", \"vote\": \"0\", \"uid\": \"1497126581\", \"area\": \"\\\\u5409\\\\u6797\\\\u957f\\\\u6625\", \"channel_source\": \"\", \"content\": \"\\\\u653f\\\\u5e9c\\\\u76f8\\\\u5173\\\\u90e8\\\\u95e8\\\\u6ca1\\\\u6709\\\\u76d1\\\\u7ba1\\\\u804c\\\\u8d23\\\\u4e48\\\\uff1f\", \"nick\": \"\\\\u8fe6\\\\u697c\\\\u9640\", \"ip\": \"139.212.143.242\", \"parent_nick\": \"\", \"config\": \"wb_verified=0&wb_screen_name=\\\\u8fe6\\\\u697c\\\\u9640&area=\\\\u5409\\\\u6797\\\\u957f\\\\u6625&wb_user_id=1497126581&followers_count=126&client_port=0&wb_profile_img=http%3A%2F%2Ftva4.sinaimg.cn%2Fcrop.0.0.180.180.50%2F593c56b5jw1e8qgp5bmzyj2050050aa8.jpg&wb_time=1504661607\", \"channel\": \"gn\", \"comment_mid\": \"4821996304048467968\", \"status\": \"M_PASS\", \"newsid_source\": \"\", \"parent\": \"\", \"parent_profile_img\": \"\", \"news_mid\": \"4821973494739636224\", \"newsid\": \"comos-fykpzey4646471\", \"parent_uid\": \"0\", \"thread_mid\": \"0\", \"thread\": \"\", \"level\": \"0\", \"against\": \"0\", \"usertype\": \"\", \"length\": \"14\", \"profile_img\": \"http://tva4.sinaimg.cn/crop.0.0.180.180.50/593c56b5jw1e8qgp5bmzyj2050050aa8.jpg\", \"time\": \"2017-09-06 09:33:26\", \"agree\": \"4\"}, {\"comment_imgs\": \"\", \"parent_mid\": \"0\", \"news_mid_source\": \"0\", \"rank\": \"2\", \"mid\": \"59AF4E21-AC105C1A-17A32404B-936-7E4\", \"vote\": \"0\", \"uid\": \"6345080907\", \"area\": \"\\\\u5317\\\\u4eac\\\\u6d77\\\\u6dc0\", \"channel_source\": \"\", \"content\": \"\\\\u9152\\\\u5e97\\\\u4e0d\\\\u6362\\\\u5e8a\\\\u4e0a\\\\u7528\\\\u54c1  \\\\u592a\\\\u6b63\\\\u5e38\\\\u4e86\\\\u3002\", \"nick\": \"\\\\u7528\\\\u62376345080907\", \"ip\": \"172.16.92.26\", \"parent_nick\": \"\", \"config\": \"wb_verified=0&wb_screen_name=\\\\u7528\\\\u62376345080907&from=ucweb&SOFT_TYPE=Build/HUAWEITAG-AL00) Chrome/40.0.2214.89 UCBrowser/11.6.8.952 Safari/537.36&area=\\\\u5317\\\\u4eac\\\\u6d77\\\\u6dc0&wb_user_id=6345080907&followers_count=1&wb_profile_img=http%3A%2F%2Ftvax4.sinaimg.cn%2Fdefault%2Fimages%2Fdefault_avatar_male_50.gif&OS_TYPE=14&wb_time=1504661025\", \"channel\": \"gn\", \"comment_mid\": \"4821993867782795264\", \"status\": \"M_PASS\", \"newsid_source\": \"\", \"parent\": \"\", \"parent_profile_img\": \"\", \"news_mid\": \"4821973494739636224\", \"newsid\": \"comos-fykpzey4646471\", \"parent_uid\": \"0\", \"thread_mid\": \"0\", \"thread\": \"\", \"level\": \"0\", \"against\": \"0\", \"usertype\": \"wap\", \"length\": \"15\", \"profile_img\": \"http://tvax4.sinaimg.cn/default/images/default_avatar_male_50.gif\", \"time\": \"2017-09-06 09:23:45\", \"agree\": \"2\"}, {\"comment_imgs\": \"\", \"parent_mid\": \"0\", \"news_mid_source\": \"0\", \"rank\": \"15\", \"mid\": \"59AF4DD8-DAF2B0CA-53D42792-936-92C\", \"vote\": \"0\", \"uid\": \"1406412690\", \"area\": \"\\\\u4e0a\\\\u6d77\", \"channel_source\": \"\", \"content\": \"\\\\u6362\\\\u6ca1\\\\u6362\\\\u9152\\\\u5e97\\\\u81ea\\\\u5df1\\\\u8fd8\\\\u4e0d\\\\u6e05\\\\u695a\\\\u4e48\\\\uff1f\\\\uff1f\", \"nick\": \"\\\\u771f\\\\u6211\\\\u7231\\\\u767d\\\\u83dc\", \"ip\": \"218.242.176.202\", \"parent_nick\": \"\", \"config\": \"wb_verified=0&wb_screen_name=\\\\u771f\\\\u6211\\\\u7231\\\\u767d\\\\u83dc&area=\\\\u4e0a\\\\u6d77&wb_user_id=1406412690&followers_count=214&client_port=0&wb_profile_img=http%3A%2F%2Ftva3.sinaimg.cn%2Fcrop.0.0.140.140.50%2F53d42792jw8et5syaicrlj203w03waa0.jpg&wb_time=1504660952\", \"channel\": \"gn\", \"comment_mid\": \"4821993559748849664\", \"status\": \"M_PASS\", \"newsid_source\": \"\", \"parent\": \"\", \"parent_profile_img\": \"\", \"news_mid\": \"4821973494739636224\", \"newsid\": \"comos-fykpzey4646471\", \"parent_uid\": \"0\", \"thread_mid\": \"0\", \"thread\": \"\", \"level\": \"0\", \"against\": \"0\", \"usertype\": \"\", \"length\": \"14\", \"profile_img\": \"http://tva3.sinaimg.cn/crop.0.0.140.140.50/53d42792jw8et5syaicrlj203w03waa0.jpg\", \"time\": \"2017-09-06 09:22:26\", \"agree\": \"15\"}, {\"comment_imgs\": \"\", \"parent_mid\": \"0\", \"news_mid_source\": \"0\", \"rank\": \"13\", \"mid\": \"59AF495E-6FC4B996-73B54307-936-940\", \"vote\": \"0\", \"uid\": \"1941259015\", \"area\": \"\\\\u5317\\\\u4eac\", \"channel_source\": \"\", \"content\": \"\\\\u5e97\\\\u5927\\\\u6b3a\\\\u5ba2\\\\uff0c\\\\u8d44\\\\u672c\\\\u7684\\\\u50b2\\\\u6162\", \"nick\": \"\\\\u72ec\\\\u5b64\\\\u9ea6\\\\u7530\", \"ip\": \"111.196.185.150\", \"parent_nick\": \"\", \"config\": \"wb_verified=0&wb_screen_name=\\\\u72ec\\\\u5b64\\\\u9ea6\\\\u7530&from=palmnews&area=\\\\u5317\\\\u4eac&wb_profile_img=http%3A%2F%2Ftva4.sinaimg.cn%2Fcrop.0.0.748.748.50%2F73b54307jw8f8br1keu9bj20ks0ks0u8.jpg&followers_count=64&wb_user_id=1941259015&wb_time=1504659805\", \"channel\": \"gn\", \"comment_mid\": \"4821988749712633856\", \"status\": \"M_PASS\", \"newsid_source\": \"\", \"parent\": \"\", \"parent_profile_img\": \"\", \"news_mid\": \"4821973494739636224\", \"newsid\": \"comos-fykpzey4646471\", \"parent_uid\": \"0\", \"thread_mid\": \"0\", \"thread\": \"\", \"level\": \"0\", \"against\": \"0\", \"usertype\": \"client\", \"length\": \"10\", \"profile_img\": \"http://tva4.sinaimg.cn/crop.0.0.748.748.50/73b54307jw8f8br1keu9bj20ks0ks0u8.jpg\", \"time\": \"2017-09-06 09:03:25\", \"agree\": \"13\"}, {\"comment_imgs\": \"\", \"parent_mid\": \"0\", \"news_mid_source\": \"0\", \"rank\": \"16\", \"mid\": \"59AF3E27-AC108A8D-E2A4E58C-936-939\", \"vote\": \"0\", \"uid\": \"3802457484\", \"area\": \"\\\\u5317\\\\u4eac\\\\u6d77\\\\u6dc0\", \"channel_source\": \"\", \"content\": \"\\\\u4e2d\\\\u56fd\\\\u9700\\\\u8981\\\\u66f4\\\\u591a\\\\u7684\\\\u7b2c\\\\u4e09\\\\u65b9\\\\u8bc4\\\\u6d4b\\\\u673a\\\\u6784\", \"nick\": \"\\\\u51ac\\\\u51aclove\\\\u5fae\\\\u535a\", \"ip\": \"172.16.138.141\", \"parent_nick\": \"\", \"config\": \"wb_verified=0&wb_screen_name=\\\\u51ac\\\\u51aclove\\\\u5fae\\\\u535a&from=ucweb&SOFT_TYPE=UCBrowser/11.6.1.1003 AliApp(TUnionSDK/0.1.20)&area=\\\\u5317\\\\u4eac\\\\u6d77\\\\u6dc0&wb_user_id=3802457484&followers_count=13&wb_profile_img=http%3A%2F%2Ftvax1.sinaimg.cn%2Fdefault%2Fimages%2Fdefault_avatar_male_50.gif&OS_TYPE=13&wb_time=1504656935\", \"channel\": \"gn\", \"comment_mid\": \"4821976709929512960\", \"status\": \"M_PASS\", \"newsid_source\": \"\", \"parent\": \"\", \"parent_profile_img\": \"\", \"news_mid\": \"4821973494739636224\", \"newsid\": \"comos-fykpzey4646471\", \"parent_uid\": \"0\", \"thread_mid\": \"0\", \"thread\": \"\", \"level\": \"0\", \"against\": \"0\", \"usertype\": \"wap\", \"length\": \"14\", \"profile_img\": \"http://tvax1.sinaimg.cn/default/images/default_avatar_male_50.gif\", \"time\": \"2017-09-06 08:15:28\", \"agree\": \"16\"}], \"news\": {\"status\": \"N_NORMAL\", \"title\": \"\\\\u201c\\\\u4e0d\\\\u6362\\\\u5e8a\\\\u5355\\\\u201d\\\\u8bc4\\\\u6d4b\\\\u673a\\\\u6784\\\\u56de\\\\u5e94\\\\u8d28\\\\u7591:\\\\u6709\\\\u5b8c\\\\u6574\\\\u97f3\\\\u9891\\\\u8bc1\\\\u636e\", \"default\": \"M_DEFAULT\", \"show\": \"M_DEFAULT\", \"subnum\": \"0\", \"column\": \"comos-56044\", \"author_name\": \"\", \"author_uid\": \"0\", \"countmode\": \"C_HIDE,C_QREPLY,C_SHOW\", \"base\": \"0\", \"url\": \"http://news.sina.com.cn/o/2017-09-06/doc-ifykpzey4646471.shtml\", \"groups\": \"\", \"time\": \"2017-09-06 08:02:49\", \"newsid\": \"comos-fykpzey4646471\", \"author_profile_img\": \"\", \"config\": \"url_wap=http%3A%2F%2Fnews.sina.cn%2F2017-09-06%2Fdetail-ifykpzey4646471.d.html\", \"news_mid\": \"4821973494739636224\", \"channel\": \"gn\"}, \"grouplist\": [], \"hot_list\": []}}'"
      ]
     },
     "execution_count": 72,
     "metadata": {},
     "output_type": "execute_result"
    }
   ],
   "source": [
    "comments = requests.get('http://comment5.news.sina.com.cn/page/info?version=1&format=js&channel=gn&newsid=comos-fykpzey4646471&group=&compress=0&ie=utf-8&oe=utf-8')\n",
    "comments.text.strip('var data=')"
   ]
  },
  {
   "cell_type": "code",
   "execution_count": 77,
   "metadata": {
    "collapsed": false
   },
   "outputs": [
    {
     "data": {
      "text/plain": [
       "82"
      ]
     },
     "execution_count": 77,
     "metadata": {},
     "output_type": "execute_result"
    }
   ],
   "source": [
    "import json\n",
    "jd = json.loads(comments.text.strip('var data='))\n",
    "jd['result']['count']['total']"
   ]
  },
  {
   "cell_type": "code",
   "execution_count": 88,
   "metadata": {
    "collapsed": false
   },
   "outputs": [],
   "source": [
    "#针对具体内容的新闻网址\n",
    "#1-评论所在的json\n",
    "#http://comment5.news.sina.com.cn/page/info?version=1&format=js&channel=gn&newsid=comos-fykpzey4646471&group=&compress=0&ie=utf-8&oe=utf-8')\n",
    "#2-新闻网址 newsurl\n",
    "#http://news.sina.com.cn/o/2017-09-06/doc-ifykpzey4646471.shtml\n",
    "#网址间的联系\n"
   ]
  },
  {
   "cell_type": "code",
   "execution_count": 83,
   "metadata": {
    "collapsed": false
   },
   "outputs": [
    {
     "data": {
      "text/plain": [
       "'fykpzey4646471'"
      ]
     },
     "execution_count": 83,
     "metadata": {},
     "output_type": "execute_result"
    }
   ],
   "source": [
    "#步骤1：提取新闻id\n",
    "import re\n",
    "m = re.search('doc-i(.+).shtml',newsurl)\n",
    "newsid = m.group(1)\n",
    "newsid"
   ]
  },
  {
   "cell_type": "code",
   "execution_count": 87,
   "metadata": {
    "collapsed": false
   },
   "outputs": [
    {
     "data": {
      "text/plain": [
       "'http://comment5.news.sina.com.cn/page/info?version=1&format=js&channel=gn&newsid=comos-fykpzey4646471&group=&compress=0&ie=utf-8&oe=utf-8'"
      ]
     },
     "execution_count": 87,
     "metadata": {},
     "output_type": "execute_result"
    }
   ],
   "source": [
    "commentURL = 'http://comment5.news.sina.com.cn/page/info?version=1&format=js&channel=gn&newsid=comos-{}&group=&compress=0&ie=utf-8&oe=utf-8'\n",
    "commentURL.format(newsid)  #该新闻id的评论数网址"
   ]
  },
  {
   "cell_type": "code",
   "execution_count": null,
   "metadata": {
    "collapsed": true
   },
   "outputs": [],
   "source": []
  },
  {
   "cell_type": "code",
   "execution_count": 6,
   "metadata": {
    "collapsed": false
   },
   "outputs": [
    {
     "data": {
      "text/plain": [
       "[<span id=\"commentCount1\"></span>]"
      ]
     },
     "execution_count": 6,
     "metadata": {},
     "output_type": "execute_result"
    }
   ],
   "source": [
    "soup.select('#commentCount1')"
   ]
  },
  {
   "cell_type": "code",
   "execution_count": 3,
   "metadata": {
    "collapsed": false
   },
   "outputs": [
    {
     "name": "stdout",
     "output_type": "stream",
     "text": [
      "var data={\"result\": {\"status\": {\"msg\": \"\", \"code\": 0}, \"count\": {\"qreply\": 0, \"total\": 4, \"show\": 0}, \"replydict\": {}, \"language\": \"ch\", \"encoding\": \"utf-8\", \"top\": [], \"cmntlist\": [], \"news\": {\"status\": \"N_NORMAL\", \"title\": \"\\u8d44\\u6df1\\u5916\\u4ea4\\u5b98\\u5389\\u58f0\\u6559\\u901d\\u4e16 \\u66fe\\u53d7\\u5468\\u6069\\u6765\\u80af\\u5b9a\\u4e0e\\u63a5\\u89c1\", \"default\": \"M_CHECK\", \"show\": \"M_PASS,M_NICE\", \"subnum\": \"0\", \"column\": \"comos-56044\", \"author_name\": \"\", \"author_uid\": \"0\", \"countmode\": \"C_HIDE,C_QREPLY,C_SHOW\", \"base\": \"0\", \"url\": \"http://news.sina.com.cn/c/nd/2017-08-26/doc-ifykiurx1979529.shtml\", \"groups\": \"\", \"time\": \"2017-08-26 19:41:38\", \"newsid\": \"comos-fykiurx1979529\", \"author_profile_img\": \"\", \"config\": \"url_wap=http%3A%2F%2Fnews.sina.cn%2F2017-08-26%2Fdetail-ifykiurx1979529.d.html\", \"news_mid\": \"4818163093723811840\", \"channel\": \"gn\"}, \"grouplist\": [], \"hot_list\": []}}\n"
     ]
    }
   ],
   "source": [
    "#commentURL = 'http://comment5.news.sina.com.cn/page/info?version=1&format=js&channel=gn&newsid=comos-fykiurx1979529&group=&compress=0&ie=utf-8&oe=utf-8&page=1&page_size=20&jsvar=loader_1503826269048_18480024'\n",
    "#commentURL = 'http://comment5.news.sina.com.cn/page/info?version=1&format=js&channel=gn&newsid=comos-{}&group=&compress=0&ie=utf-8&oe=utf-8&page=1&page_size=20&jsvar=loader_1503826269048_18480024'\n",
    "commentURL = 'http://comment5.news.sina.com.cn/page/info?version=1&format=js&channel=gn&newsid=comos-{}&group=&compress=0&ie=utf-8&oe=utf-8'\n",
    "m = re.search('doc-i(.+).shtml', newsurl) #从当前url查找新闻id\n",
    "newsid = m.group(1) #()内的内容\n",
    "commnets = requests.get(commentURL.format(newsid)) #拼接评论网址，读取评论网页\n",
    "print(commnets.text)"
   ]
  },
  {
   "cell_type": "code",
   "execution_count": 4,
   "metadata": {
    "collapsed": false
   },
   "outputs": [
    {
     "ename": "NameError",
     "evalue": "name 'json' is not defined",
     "output_type": "error",
     "traceback": [
      "\u001b[0;31m---------------------------------------------------------------------------\u001b[0m",
      "\u001b[0;31mNameError\u001b[0m                                 Traceback (most recent call last)",
      "\u001b[0;32m<ipython-input-4-3a708f7f4176>\u001b[0m in \u001b[0;36m<module>\u001b[0;34m()\u001b[0m\n\u001b[0;32m----> 1\u001b[0;31m \u001b[0mjd\u001b[0m \u001b[0;34m=\u001b[0m \u001b[0mjson\u001b[0m\u001b[0;34m.\u001b[0m\u001b[0mloads\u001b[0m\u001b[0;34m(\u001b[0m\u001b[0;34m)\u001b[0m\u001b[0;34m\u001b[0m\u001b[0m\n\u001b[0m",
      "\u001b[0;31mNameError\u001b[0m: name 'json' is not defined"
     ]
    }
   ],
   "source": [
    "jd = json.loads()"
   ]
  },
  {
   "cell_type": "code",
   "execution_count": 11,
   "metadata": {
    "collapsed": false
   },
   "outputs": [
    {
     "data": {
      "text/plain": [
       "'http://comment5.news.sina.com.cn/page/info?version=1&format=js&channel=gn&newsid=comos-fykiurx1979529&group=&compress=0&ie=utf-8&oe=utf-8&page=1&page_size=20&jsvar=loader_1503826269048_18480024'"
      ]
     },
     "execution_count": 11,
     "metadata": {},
     "output_type": "execute_result"
    }
   ],
   "source": [
    "commentURL.format(newsid)"
   ]
  },
  {
   "cell_type": "code",
   "execution_count": null,
   "metadata": {
    "collapsed": true
   },
   "outputs": [],
   "source": []
  }
 ],
 "metadata": {
  "kernelspec": {
   "display_name": "Python 3",
   "language": "python",
   "name": "python3"
  },
  "language_info": {
   "codemirror_mode": {
    "name": "ipython",
    "version": 3
   },
   "file_extension": ".py",
   "mimetype": "text/x-python",
   "name": "python",
   "nbconvert_exporter": "python",
   "pygments_lexer": "ipython3",
   "version": "3.6.0"
  }
 },
 "nbformat": 4,
 "nbformat_minor": 2
}
