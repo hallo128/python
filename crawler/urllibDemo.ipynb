{
 "cells": [
  {
   "cell_type": "code",
   "execution_count": 19,
   "metadata": {
    "collapsed": true
   },
   "outputs": [],
   "source": [
    "# -*- coding: utf-8 -*-"
   ]
  },
  {
   "cell_type": "code",
   "execution_count": 20,
   "metadata": {
    "collapsed": true
   },
   "outputs": [],
   "source": [
    "import urllib\n",
    "import urllib2"
   ]
  },
  {
   "cell_type": "code",
   "execution_count": 21,
   "metadata": {
    "collapsed": false
   },
   "outputs": [],
   "source": [
    "URL_IP = \"http://httpbin.org/ip\"\n",
    "URL_GET = \"http://httpbin.org/get\""
   ]
  },
  {
   "cell_type": "code",
   "execution_count": 22,
   "metadata": {
    "collapsed": false
   },
   "outputs": [],
   "source": [
    "#根据客户端的ip，创建一个urllib响应的例子\n",
    "def use_sample_urllib2():\n",
    "    response = urllib2.urlopen(URL_IP)\n",
    "    print \">>>>Response Headers:\"\n",
    "    print response.info()\n",
    "    print \">>>>Response Body:\"\n",
    "    print ''.join([line for line in response.readlines()])"
   ]
  },
  {
   "cell_type": "code",
   "execution_count": 23,
   "metadata": {
    "collapsed": true
   },
   "outputs": [],
   "source": [
    "#根据客户端的get方法，创建一个urllib响应的例子(带参数的请求)\n",
    "def use_params_urllib2():\n",
    "    #构建请求参数\n",
    "    params = urllib.urlencode({'param1':'hello','param2':'world'})\n",
    "    print \"Response Params:\"\n",
    "    print params\n",
    "    #发送请求\n",
    "    response = urllib2.urlopen('?'.join([URL_GET,'%s']) % params)\n",
    "    #处理响应\n",
    "    print \">>>>Response Headers:\"\n",
    "    print response.info()\n",
    "    print \">>>>Status Code:\"\n",
    "    print response.getcode()\n",
    "    print \">>>>Response Body:\"\n",
    "    print ''.join([line for line in response.readlines()])"
   ]
  },
  {
   "cell_type": "code",
   "execution_count": 24,
   "metadata": {
    "collapsed": false
   },
   "outputs": [
    {
     "name": "stdout",
     "output_type": "stream",
     "text": [
      "-----Use_sample_urllib2:------\n",
      ">>>>Response Headers:\n",
      "Connection: close\n",
      "Server: meinheld/0.6.1\n",
      "Date: Fri, 11 Aug 2017 16:17:37 GMT\n",
      "Content-Type: application/json\n",
      "Access-Control-Allow-Origin: *\n",
      "Access-Control-Allow-Credentials: true\n",
      "X-Powered-By: Flask\n",
      "X-Processed-Time: 0.000890970230103\n",
      "Content-Length: 33\n",
      "Via: 1.1 vegur\n",
      "\n",
      ">>>>Response Body:\n",
      "{\n",
      "  \"origin\": \"39.128.223.122\"\n",
      "}\n",
      "\n",
      "-----Use_params_urllib2:------\n",
      "Response Params:\n",
      "param2=world&param1=hello\n",
      ">>>>Response Headers:\n",
      "Connection: close\n",
      "Server: meinheld/0.6.1\n",
      "Date: Fri, 11 Aug 2017 16:17:38 GMT\n",
      "Content-Type: application/json\n",
      "Access-Control-Allow-Origin: *\n",
      "Access-Control-Allow-Credentials: true\n",
      "X-Powered-By: Flask\n",
      "X-Processed-Time: 0.00119590759277\n",
      "Content-Length: 310\n",
      "Via: 1.1 vegur\n",
      "\n",
      ">>>>Status Code:\n",
      "200\n",
      ">>>>Response Body:\n",
      "{\n",
      "  \"args\": {\n",
      "    \"param1\": \"hello\", \n",
      "    \"param2\": \"world\"\n",
      "  }, \n",
      "  \"headers\": {\n",
      "    \"Accept-Encoding\": \"identity\", \n",
      "    \"Connection\": \"close\", \n",
      "    \"Host\": \"httpbin.org\", \n",
      "    \"User-Agent\": \"Python-urllib/2.7\"\n",
      "  }, \n",
      "  \"origin\": \"39.128.223.122\", \n",
      "  \"url\": \"http://httpbin.org/get?param2=world&param1=hello\"\n",
      "}\n",
      "\n"
     ]
    }
   ],
   "source": [
    "if __name__ == \"__main__\":\n",
    "    print \"-----Use_sample_urllib2:------\"\n",
    "    use_sample_urllib2()\n",
    "    print \"-----Use_params_urllib2:------\"\n",
    "    use_params_urllib2()"
   ]
  }
 ],
 "metadata": {
  "kernelspec": {
   "display_name": "Python 2",
   "language": "python",
   "name": "python2"
  },
  "language_info": {
   "codemirror_mode": {
    "name": "ipython",
    "version": 2
   },
   "file_extension": ".py",
   "mimetype": "text/x-python",
   "name": "python",
   "nbconvert_exporter": "python",
   "pygments_lexer": "ipython2",
   "version": "2.7.13"
  }
 },
 "nbformat": 4,
 "nbformat_minor": 2
}
