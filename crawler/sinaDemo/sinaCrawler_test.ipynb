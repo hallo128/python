{
 "cells": [
  {
   "cell_type": "code",
   "execution_count": 31,
   "metadata": {
    "collapsed": false
   },
   "outputs": [],
   "source": [
    "import requests\n",
    "import re\n",
    "from bs4 import BeautifulSoup\n",
    "newsurl = 'http://news.sina.com.cn/o/2017-09-06/doc-ifykpzey4646471.shtml'\n",
    "res = requests.get(newsurl)\n",
    "res.encoding = 'utf-8'\n",
    "soup = BeautifulSoup(res.text,'html.parser')"
   ]
  },
  {
   "cell_type": "code",
   "execution_count": 32,
   "metadata": {
    "collapsed": false
   },
   "outputs": [
    {
     "data": {
      "text/plain": [
       "'“不换床单”评测机构回应质疑:有完整音频证据'"
      ]
     },
     "execution_count": 32,
     "metadata": {},
     "output_type": "execute_result"
    }
   ],
   "source": [
    "#标题\n",
    "soup.select('#artibodyTitle')[0].text"
   ]
  },
  {
   "cell_type": "code",
   "execution_count": 33,
   "metadata": {
    "collapsed": false
   },
   "outputs": [
    {
     "data": {
      "text/plain": [
       "'2017年09月06日07:38'"
      ]
     },
     "execution_count": 33,
     "metadata": {},
     "output_type": "execute_result"
    }
   ],
   "source": [
    "#时间\n",
    "timesource=soup.select('.time-source')[0].contents[0].strip()\n",
    "timesource"
   ]
  },
  {
   "cell_type": "code",
   "execution_count": 34,
   "metadata": {
    "collapsed": false
   },
   "outputs": [
    {
     "data": {
      "text/plain": [
       "datetime.datetime(2017, 9, 6, 7, 38)"
      ]
     },
     "execution_count": 34,
     "metadata": {},
     "output_type": "execute_result"
    }
   ],
   "source": [
    "from datetime import datetime \n",
    "dt = datetime.strptime(timesource,'%Y年%m月%d日%H:%M')\n",
    "dt"
   ]
  },
  {
   "cell_type": "code",
   "execution_count": 36,
   "metadata": {
    "collapsed": false
   },
   "outputs": [
    {
     "data": {
      "text/plain": [
       "'澎湃新闻'"
      ]
     },
     "execution_count": 36,
     "metadata": {},
     "output_type": "execute_result"
    }
   ],
   "source": [
    "#来源\n",
    "soup.select('.time-source span a')[0].text"
   ]
  },
  {
   "cell_type": "code",
   "execution_count": 57,
   "metadata": {
    "collapsed": false
   },
   "outputs": [
    {
     "data": {
      "text/plain": [
       "'原标题：“不换床单”评测机构反遭质疑：不权威能否挑战国际酒店集团 由蓝莓评测发布的一篇《五星级酒店，你们为什么不换床单？》几乎让在中国颇具知名度的国际高端酒店品牌们集体跌落“神坛”。不换床单、不刷马桶、连漱口杯都不清洁……种种“劣迹”无疑在“打脸”那些原本标榜着高品质服务的五星酒店们。 9月5日上午，北京市旅游委联合北京旅游行业协会，共同约谈了北京长安街W酒店、北京希尔顿酒店、北京三里屯洲际酒店、北京JW万豪酒店、北京香格里拉饭店负责人；同日，北京市卫生和计划生育监督所透露，卫监部门已对此事展开调查，本周内将检查北京所有五星级酒店。 不过，面都蓝莓评测和中国网民的质疑，被点名的几家高端酒店品牌的反应并不积极。9月5日，澎湃新闻（www.thepaper.cn）联系了被曝光就酒店所属的希尔顿、万豪、洲际、香格里拉等酒店集团，截至记者发稿前，仅洲际酒店一家给予记者正式回复，表态无法核实报道的准确性。 而到了9月5日晚间，一些网络公众号开始将“矛头”指向了发布该测评的“蓝莓评测”，以及蓝莓评测隶属长期做社区和内容的网站——穷游网，评论包括此类网站需要面对商业模式变现的“严峻问题”，因此“挑战国际五星酒店集团的意图不得而知”。 这使得对国际五星酒店提出质疑者本身却遭到了有何“挑战”意图的质疑，对此，9月5日晚，蓝莓评测发布回应称：“不受任何第三方机构和个人的影响”，并表示对五家五星酒店的全部联系过程和测评结果，均保留了完整的音视频证据。 政府机构介入：检查五星酒店 时间的起因是9月4日蓝莓评测仿照国外测评机构的做法，对北京W酒店、北京三里屯洲际酒店、北京希尔顿酒店、北京JW万豪酒店以及北京香格里拉饭店5家五星级酒店做了暗访。 具体的方法是工作人员在酒店客房的床单、被罩、浴缸、马桶和漱口杯等物件上用特殊涂料涂上标记，这些标记在正常光线下看不出来，只有在紫外线灯的照射下才会显形。 第二天，做标记的工作人员退房离开后，另一位工作人员登记入住同一个房间。用紫外线灯照射后，蓝莓评测发现，上述五家五星级酒店全都没有更换床上用品，也全都没有清洁马桶圈和浴缸，北京三里屯洲际酒店、北京希尔顿酒店、北京JW万豪酒店三家酒店甚至连漱口杯都没有清洗。 用紫外线灯照射后，蓝莓评测发现，上述五家五星级酒店全都没有更换床上用品，也全都没有清洁马桶圈和浴缸。 蓝莓评测将该测评结果发布之后，立即引发舆论热议。一天之后，官方机构陆续发声，称就此事展开调查。 北京市旅游发展委员会9月5日午间在官方微博发布，9月5日上午，北京市旅游委联合北京旅游行业协会，共同约谈了北京长安街W酒店、北京希尔顿酒店、北京三里屯洲际酒店、北京JW万豪酒店、北京香格里拉饭店负责人，就媒体报道的不换床单不擦马桶情况进一步了解核实，要求涉事酒店开展自查和整改，正视问题，积极应对，提升管理水平，提高服务质量。北京市旅游委针对暴露出的问题，将加大对星级饭店和经济型酒店服务质量的日常监管力度。 同日，北京市卫生和计划生育监督所对媒体表示，卫监部门已对此事展开调查，本周内将检查北京所有五星级酒店。 上海鼎力律师事务所律师赵山分析，酒店不更换床单被褥其它卫生用品如果不是偶发事件，基本有两种可能：“一是部分酒店员工的行为。对于这种情况 酒店可以依据自己企业管理规章处罚员工。入住的客人可以因为酒店提供的居住条件下降而要求减免价款。二、酒店方面出于节省相关开支而故意不更换。如果这样，酒店就涉嫌价格欺诈，入住的客人可以要求退一赔三。” 酒店回应：无法核实报道准确性，评测机构不权威 但令人玩味的事，当面对如此之大的负面事件时，被点名的几家国外酒店集团的反应却着实令人意想不到：没有诚恳的认错和愿意有则改之、无则加勉的承诺，大多数涉事酒店集团均采取了不予回应的应对态度。 9月5日，澎湃新闻联系了上述五家酒店所属的希尔顿、万豪、洲际、香格里拉等酒店集团，但截止记者发稿前，出洲际一家给予回复外，其他酒店均未给出回复。 唯一给予澎湃新闻回复的北京三里屯通盈中心洲际酒店表示，“目前，我们无法核实该报道的准确性，但我们已经调取了相关录像，也对近期每天客房用品的更换以及布草的清洗数量进行核对。根据我们可抽调的记录表明，我们的客房清洁流程符合品牌标准，每天更换布草数量与客房清洁数量完全吻合。同时，我们也组织客房部的全体员工就客房清洁标准及程序进行再次培训，确保每一位员工对清洁标准及程序严格贯彻执行。今后我们将进行更加严格的自查，杜绝此类事件的发生。” 而其他几家酒店则并未向澎湃新闻给出正式回应。 根据旅游咨询平台品橙旅游发布的关于此事件报道，北京香格里拉饭店的相关人士在回复品橙旅游时并没有对蓝莓评测所质疑的内容给出回复，但却强调，“发出这则新闻的这个评测机构也不属于权威机构，并没有得到外界的认证。” “酒店方面的态度是截然不同的。这也或多或少透露出一些信号。有酒店积极正面回应，体现了对公众知情权的尊重。有酒店纹丝不动，展示的是其傲慢无礼及对中国消费者的漠视。亦有酒店直接质疑检测机构资质，这也或多或少说明了相关检测机构开始触到了酒店的某些痛点。”赵山评价。 不够“权威”能不能“挑战”国际五星酒店集团？ 与这些国际酒店集团指向类似，测评结果公布一天之后，开始有自媒体对测评者“挑战国际五星酒店集团”的意图提出质疑，对酒店机构的评测者开始成为了被质疑的一方。 如某公众号发布了名为《这颗蓝莓，你欠所有五星酒店人一个交代！》一文，该网文的作者先是写了自己在入住被点名的五家酒店时并未感觉服务上有何不妥，随后开始质疑蓝莓评测的不同工作人员两天入住同一间客房是否有可操作性。 并且文章指出：蓝莓评测的帐号主体是寰宇慧旅（北京）科技有限公司，即“穷游网”网的主体。该公众号描述穷游网为：“在去年1月D轮融资后屡屡被传商业化之路艰难”。 文章指出：“对于一家长期做社区和内容的网站，如何实现商业模式变现，如何形成规模化的营收，一直是摆在这家社区型旅游网站面前一个严峻的问题。而蓝莓评测作为该账号旗下一个独立公众平台，此番学习美国‘内幕调查’节目挑战五家国际五星酒店集团的意图亦不得而知。” 该文发布之后，有读者对此公众号的质疑表示认同，认为确实看到服务人员打扫了房间。 但也读者强调，“无论什么原因，只要客人退房了，就应该换床单。”、“（测评）总的来说是对消费者有利的方向发展。”、“旅游行业确实应该有第三方测评”。 蓝莓评测：全过程保留了完整的音频证据 而当质疑者成为被质疑者后，澎湃新闻联系了穷游网CEO肖异，肖异并未否认蓝莓评测的账号主体确为穷游网一事。 9月5日晚，穷游网就与蓝莓评测关系一事向澎湃新闻发布官方回应：“蓝莓评测作为独立的第三方测评机构，有完全独立的选题策划和执行团队，所有的评测文章和视频均由蓝莓评测团队自主完成。不受穷游在内的任何机构和个人影响。” 随后，蓝莓评测又就两批员工连续两天入住同一酒店客房等细节发布声明。声明中透露，入住北京希尔顿酒店时可以通过酒店官方手机客户端完成选择房号并办理入住，而其他四家酒店则是提前致电了酒店，提出了入住指定客房的要求，并均得到满足。 “以上五家酒店的全部联系过程和测评过程，蓝莓评测均保留了完整的音频证据。”蓝莓评测表示。 面对公众质疑，中外酒店集团态度截然不同 事实上，国际酒店集团面对中国媒体和公众质疑之声选择不回应的“传统”由来已久。早在去年4月，国际酒店集团们被曝光以营改增为借口上调价格时，面对中国媒体的质疑，大多数国际酒店集团也曾一致采取不理睬、不回应、不改正的态度。直至，国家发改委和各地方政府多部门就此事提出批评并约谈其相关负责人后，这些国际酒店集团才默默地撤销了涨价计划。 而针对此番蓝莓评测引发的负面事件，国际酒店集团所采取的应对策略也大多与其过去态度如出一辙。 与国际酒店集团在中国应对负面质疑反应形成鲜明对比的，是中国本土酒店集团的态度。2016年，如家和颐酒店女子遇袭事件曝光之后后，如家掌门人孙坚曾率管理层当众鞠躬道歉，并由此得到了公众的谅解。 “如果事件被证实，这些酒店应该拿出勇气和智慧去直接面对，虽然痛苦，但是要为自己的错误买单，别遮遮掩掩，强词夺理。如果事件是歪曲事实、移花接木甚至是应了那个著名词汇‘别有用心’，也应该还相关酒店一个公道，这种风气严重破坏了商业伦理。” 品橙旅游首席分析师周易水说，“不管事件本身的真相如何，但确实给高端酒店提了个醒，有则改之，无则加勉。” 无独有偶，在国际高端酒店不换床单的消息引发热议的同时，另一则有关国际高端酒店的新闻也在近日“刷爆朋友圈”，那就是第一家进驻中国的希尔顿品牌酒店——位于上海静安区华山路的上海希尔顿酒店，该酒店将于2018年1月1日撤牌。 1988年上海希尔顿开业时，曾受到过所有酒店都没有享受过的高规格待遇，此后，也在无数人心中成为了高大上的代表。其撤牌的消息公布后自然掀起了一股怀旧之风。 澎湃新闻记者从权威渠道获悉，在洋品牌希尔顿撤牌之后，该酒店很可能会变身为一座中国本土的高端酒店品牌。 在人们为近期酒店业的种种怀旧和负面新闻唏嘘不已的同时，或许更应该欣喜的是：当中国本土的高端酒店品牌能够代替国际品牌；当本土的第三方测评机构有胆量“挑战”国外顶尖品牌，这正意味着一个全新的时代已经开启。'"
      ]
     },
     "execution_count": 57,
     "metadata": {},
     "output_type": "execute_result"
    }
   ],
   "source": [
    "#内文\n",
    "' '.join([p.text.strip() for p in soup.select('#artibody p')[:-1]])"
   ]
  },
  {
   "cell_type": "code",
   "execution_count": 61,
   "metadata": {
    "collapsed": false
   },
   "outputs": [
    {
     "data": {
      "text/plain": [
       "'张建利'"
      ]
     },
     "execution_count": 61,
     "metadata": {},
     "output_type": "execute_result"
    }
   ],
   "source": [
    "#编辑\n",
    "soup.select('.article-editor')[0].text.lstrip('责任编辑：').strip()"
   ]
  },
  {
   "cell_type": "code",
   "execution_count": null,
   "metadata": {
    "collapsed": true
   },
   "outputs": [],
   "source": [
    "#评论数"
   ]
  },
  {
   "cell_type": "code",
   "execution_count": 75,
   "metadata": {
    "collapsed": false
   },
   "outputs": [],
   "source": [
    "import requests\n",
    "#comments = requests.get('http://comment5.news.sina.com.cn/page/info?version=1&format=js&channel=gn&newsid=comos-fykpzey4646471&group=&compress=0&ie=utf-8&oe=utf-8&page=1&page_size=20&jsvar=loader_1504670781442_94660133')\n",
    "#comments.text.strip('var loader_1504670781442_94660133=')"
   ]
  },
  {
   "cell_type": "code",
   "execution_count": 72,
   "metadata": {
    "collapsed": false
   },
   "outputs": [
    {
     "data": {
      "text/plain": [
       "'{\"result\": {\"status\": {\"msg\": \"\", \"code\": 0}, \"count\": {\"qreply\": 70, \"total\": 82, \"show\": 12}, \"replydict\": {\"59AF6EC0-7CA0D558-E23C5755-936-867\": [{\"comment_imgs\": \"\", \"parent_mid\": \"0\", \"news_mid_source\": \"0\", \"rank\": \"2\", \"mid\": \"59AF5709-DEAFC8A2-C414785B-936-9CE\", \"vote\": \"0\", \"uid\": \"3289675867\", \"area\": \"\\\\u5c71\\\\u4e1c\\\\u5a01\\\\u6d77\", \"channel_source\": \"\", \"content\": \"\\\\u6709\\\\u6cd5\\\\u5f8b\\\\u6761\\\\u6587\\\\u53ef\\\\u4f9d\\\\u5417\\\\uff1f\\\\u5982\\\\u679c\\\\u6ca1\\\\u6709\\\\uff0c\\\\u6293\\\\u7d27\\\\u7acb\\\\u6cd5\\\\uff0c\\\\u6d0b\\\\u4eba\\\\u5f00\\\\u7684\\\\u9152\\\\u5e97\\\\u5c31\\\\u662f\\\\u94bb\\\\u6cd5\\\\u5f8b\\\\u7684\\\\u7a7a\\\\u5b50\", \"nick\": \"\\\\u4e0d\\\\u4f1a\\\\u98de\\\\u7684\\\\u9752\\\\u86d9_72221\", \"ip\": \"222.175.200.162\", \"parent_nick\": \"\", \"config\": \"wb_verified=0&wb_screen_name=\\\\u4e0d\\\\u4f1a\\\\u98de\\\\u7684\\\\u9752\\\\u86d9_72221&area=\\\\u5c71\\\\u4e1c\\\\u5a01\\\\u6d77&wb_user_id=3289675867&followers_count=22&client_port=0&wb_profile_img=http%3A%2F%2Ftvax4.sinaimg.cn%2Fdefault%2Fimages%2Fdefault_avatar_male_50.gif&wb_time=1504663305\", \"channel\": \"gn\", \"comment_mid\": \"4822003426018603008\", \"status\": \"M_PASS\", \"newsid_source\": \"\", \"parent\": \"\", \"parent_profile_img\": \"\", \"news_mid\": \"4821973494739636224\", \"newsid\": \"comos-fykpzey4646471\", \"parent_uid\": \"0\", \"thread_mid\": \"0\", \"thread\": \"\", \"level\": \"0\", \"against\": \"0\", \"usertype\": \"\", \"length\": \"33\", \"profile_img\": \"http://tvax4.sinaimg.cn/default/images/default_avatar_male_50.gif\", \"time\": \"2017-09-06 10:01:44\", \"agree\": \"2\"}], \"59AF61BD-7A8E3181-254DE70-936-867\": [{\"comment_imgs\": \"\", \"parent_mid\": \"0\", \"news_mid_source\": \"0\", \"rank\": \"7\", \"mid\": \"59AF521C-CBA1B504-704413FA-936-97B\", \"vote\": \"0\", \"uid\": \"1883509754\", \"area\": \"\\\\u65b0\\\\u52a0\\\\u5761\", \"channel_source\": \"\", \"content\": \"\\\\u4e0d\\\\u6362\\\\u5e8a\\\\u5355\\\\uff0c\\\\u53c8\\\\u4e0d\\\\u80fd\\\\u8ba9\\\\u4e0b\\\\u4e00\\\\u4e2a\\\\u5ba2\\\\u4eba\\\\u770b\\\\u51fa\\\\u6765\\\\uff0c\\\\u96be\\\\u5ea6\\\\u8fd8\\\\u662f\\\\u5f88\\\\u9ad8\\\\u7684\\\\u3002\", \"nick\": \"alvd\", \"ip\": \"203.161.181.4\", \"parent_nick\": \"\", \"config\": \"wb_verified=0&wb_screen_name=alvd&area=\\\\u65b0\\\\u52a0\\\\u5761&wb_user_id=1883509754&followers_count=11&client_port=0&wb_profile_img=http%3A%2F%2Ftva3.sinaimg.cn%2Fcrop.0.0.180.180.50%2F704413fajw1e8qgp5bmzyj2050050aa8.jpg&wb_time=1504662044\", \"channel\": \"gn\", \"comment_mid\": \"4821998138163081216\", \"status\": \"M_PASS\", \"newsid_source\": \"\", \"parent\": \"\", \"parent_profile_img\": \"\", \"news_mid\": \"4821973494739636224\", \"newsid\": \"comos-fykpzey4646471\", \"parent_uid\": \"0\", \"thread_mid\": \"0\", \"thread\": \"\", \"level\": \"0\", \"against\": \"0\", \"usertype\": \"\", \"length\": \"26\", \"profile_img\": \"http://tva3.sinaimg.cn/crop.0.0.180.180.50/704413fajw1e8qgp5bmzyj2050050aa8.jpg\", \"time\": \"2017-09-06 09:40:44\", \"agree\": \"7\"}]}, \"language\": \"ch\", \"encoding\": \"utf-8\", \"top\": [], \"cmntlist\": [{\"comment_imgs\": \"\", \"parent_mid\": \"4822003426018603008\", \"news_mid_source\": \"0\", \"rank\": \"0\", \"mid\": \"59AF6EC0-7CA0D558-E23C5755-936-867\", \"vote\": \"0\", \"uid\": \"3795605333\", \"area\": \"\\\\u6d59\\\\u6c5f\", \"channel_source\": \"\", \"content\": \"\\\\u767d\\\\u75f4\\\\uff0c\\\\u6295\\\\u8d44\\\\u4eba\\\\u662f\\\\u5916\\\\u56fd\\\\u4eba\\\\uff0c\\\\u7ba1\\\\u7406\\\\u3001\\\\u5de5\\\\u4f5c\\\\u7684\\\\u90fd\\\\u662f\\\\u4e2d\\\\u56fd\\\\u4eba\\\\uff01\\\\u8bf7\\\\u95ee\\\\u4f60\\\\u662f\\\\u5982\\\\u4f55\\\\u754c\\\\u5b9a\\\\u8d23\\\\u4efb\\\\u7684\\\\uff1f\", \"nick\": \"\\\\u6c34\\\\u6b66\\\\u5929\\\\u5730\", \"ip\": \"124.160.213.88\", \"parent_nick\": \"\\\\u4e0d\\\\u4f1a\\\\u98de\\\\u7684\\\\u9752\\\\u86d9_72221\", \"config\": \"wb_verified=0&wb_screen_name=\\\\u6c34\\\\u6b66\\\\u5929\\\\u5730&SOFT_TYPE=Build/MXB48T) Chrome/53.0.2785.97 Safari/537.36&area=\\\\u6d59\\\\u6c5f&wb_user_id=3795605333&followers_count=11&wb_profile_img=http%3A%2F%2Ftvax2.sinaimg.cn%2Fdefault%2Fimages%2Fdefault_avatar_male_50.gif&OS_TYPE=14&wb_time=1504669376&p_nick=\\\\u4e0d\\\\u4f1a\\\\u98de\\\\u7684\\\\u9752\\\\u86d9_72221&p_uid=3289675867\", \"channel\": \"gn\", \"comment_mid\": \"4822028893744345088\", \"status\": \"M_PASS\", \"newsid_source\": \"\", \"parent\": \"59AF5709-DEAFC8A2-C414785B-936-9CE\", \"parent_profile_img\": \"http://tvax4.sinaimg.cn/default/images/default_avatar_male_50.gif\", \"news_mid\": \"4821973494739636224\", \"newsid\": \"comos-fykpzey4646471\", \"parent_uid\": \"3289675867\", \"thread_mid\": \"4822003426018603008\", \"thread\": \"59AF5709-DEAFC8A2-C414785B-936-9CE\", \"level\": \"1\", \"against\": \"0\", \"usertype\": \"wap\", \"length\": \"35\", \"profile_img\": \"http://tvax2.sinaimg.cn/default/images/default_avatar_male_50.gif\", \"time\": \"2017-09-06 11:42:50\", \"agree\": \"0\"}, {\"comment_imgs\": \"\", \"parent_mid\": \"4821998138163081216\", \"news_mid_source\": \"0\", \"rank\": \"1\", \"mid\": \"59AF61BD-7A8E3181-254DE70-936-867\", \"vote\": \"0\", \"uid\": \"39116400\", \"area\": \"\\\\u5409\\\\u6797\\\\u901a\\\\u5316\", \"channel_source\": \"\", \"content\": \"\\\\u8fd9\\\\u624d\\\\u662f\\\\u7cbe\\\\u9ad3\\\\uff01\", \"nick\": \"daxueyingchun\", \"ip\": \"122.142.49.129\", \"parent_nick\": \"alvd\", \"config\": \"wb_verified=0&wb_screen_name=daxueyingchun&area=\\\\u5409\\\\u6797\\\\u901a\\\\u5316&wb_user_id=39116400&followers_count=140&client_port=0&wb_profile_img=http%3A%2F%2Ftva1.sinaimg.cn%2Fcrop.23.0.469.469.50%2F0254de70jw1f6n9g7vkmaj20f30d3ae5.jpg&wb_time=1504666045&p_nick=alvd&p_uid=1883509754\", \"channel\": \"gn\", \"comment_mid\": \"4822014921544708096\", \"status\": \"M_PASS\", \"newsid_source\": \"\", \"parent\": \"59AF521C-CBA1B504-704413FA-936-97B\", \"parent_profile_img\": \"http://tva3.sinaimg.cn/crop.0.0.180.180.50/704413fajw1e8qgp5bmzyj2050050aa8.jpg\", \"news_mid\": \"4821973494739636224\", \"newsid\": \"comos-fykpzey4646471\", \"parent_uid\": \"1883509754\", \"thread_mid\": \"4821998138163081216\", \"thread\": \"59AF521C-CBA1B504-704413FA-936-97B\", \"level\": \"1\", \"against\": \"0\", \"usertype\": \"\", \"length\": \"6\", \"profile_img\": \"http://tva1.sinaimg.cn/crop.23.0.469.469.50/0254de70jw1f6n9g7vkmaj20f30d3ae5.jpg\", \"time\": \"2017-09-06 10:47:24\", \"agree\": \"1\"}, {\"comment_imgs\": \"\", \"parent_mid\": \"0\", \"news_mid_source\": \"0\", \"rank\": \"4\", \"mid\": \"59AF5F0C-E98458C-AE74DA45-936-900\", \"vote\": \"0\", \"uid\": \"2926893637\", \"area\": \"\\\\u5e7f\\\\u4e1c\\\\u5e7f\\\\u5dde\", \"channel_source\": \"\", \"content\": \"\\\\u8fd9\\\\u4ef6\\\\u4e8b\\\\u6211\\\\u7edd\\\\u5bf9\\\\u76f8\\\\u4fe1\\\\u84dd\\\\u8393\\\\uff01\", \"nick\": \"\\\\u624b\\\\u673a\\\\u7528\\\\u62372926893637\", \"ip\": \"14.152.69.140\", \"parent_nick\": \"\", \"config\": \"wb_verified=0&wb_screen_name=\\\\u624b\\\\u673a\\\\u7528\\\\u62372926893637&from=ucweb&SOFT_TYPE=Build/HUAWEIVIE-AL10) Chrome/40.0.2214.89 UCBrowser/11.6.4.950 Safari/537.36&area=\\\\u5e7f\\\\u4e1c\\\\u5e7f\\\\u5dde&wb_user_id=2926893637&followers_count=4&wb_profile_img=http%3A%2F%2Ftvax2.sinaimg.cn%2Fdefault%2Fimages%2Fdefault_avatar_male_50.gif&OS_TYPE=14&wb_time=1504665356\", \"channel\": \"gn\", \"comment_mid\": \"4822012032411643904\", \"status\": \"M_PASS\", \"newsid_source\": \"\", \"parent\": \"\", \"parent_profile_img\": \"\", \"news_mid\": \"4821973494739636224\", \"newsid\": \"comos-fykpzey4646471\", \"parent_uid\": \"0\", \"thread_mid\": \"0\", \"thread\": \"\", \"level\": \"0\", \"against\": \"0\", \"usertype\": \"wap\", \"length\": \"11\", \"profile_img\": \"http://tvax2.sinaimg.cn/default/images/default_avatar_male_50.gif\", \"time\": \"2017-09-06 10:35:56\", \"agree\": \"4\"}, {\"comment_imgs\": \"\", \"parent_mid\": \"0\", \"news_mid_source\": \"0\", \"rank\": \"0\", \"mid\": \"59AF5A84-AC105C1B-7175439B-936-887\", \"vote\": \"0\", \"uid\": \"1903510427\", \"area\": \"\\\\u5317\\\\u4eac\\\\u6d77\\\\u6dc0\", \"channel_source\": \"\", \"content\": \"\\\\u9152\\\\u5e97\\\\u8d3c\\\\u558a\\\\u6349\\\\u8d3c!\", \"nick\": \"\\\\u6211\\\\u662f\\\\u9c7c\\\\u9c7c\\\\u554a\", \"ip\": \"172.16.92.27\", \"parent_nick\": \"\", \"config\": \"wb_verified=0&wb_screen_name=\\\\u6211\\\\u662f\\\\u9c7c\\\\u9c7c\\\\u554a&from=ucweb&SOFT_TYPE=Build/NRD90M) Chrome/40.0.2214.89 UCBrowser/11.6.8.952 Safari/537.36&area=\\\\u5317\\\\u4eac\\\\u6d77\\\\u6dc0&wb_user_id=1903510427&followers_count=2&wb_profile_img=http%3A%2F%2Ftvax4.sinaimg.cn%2Fdefault%2Fimages%2Fdefault_avatar_male_50.gif&OS_TYPE=14&wb_time=1504664196\", \"channel\": \"gn\", \"comment_mid\": \"4822007166029148160\", \"status\": \"M_PASS\", \"newsid_source\": \"\", \"parent\": \"\", \"parent_profile_img\": \"\", \"news_mid\": \"4821973494739636224\", \"newsid\": \"comos-fykpzey4646471\", \"parent_uid\": \"0\", \"thread_mid\": \"0\", \"thread\": \"\", \"level\": \"0\", \"against\": \"0\", \"usertype\": \"wap\", \"length\": \"7\", \"profile_img\": \"http://tvax4.sinaimg.cn/default/images/default_avatar_male_50.gif\", \"time\": \"2017-09-06 10:16:36\", \"agree\": \"0\"}, {\"comment_imgs\": \"\", \"parent_mid\": \"0\", \"news_mid_source\": \"0\", \"rank\": \"2\", \"mid\": \"59AF5709-DEAFC8A2-C414785B-936-9CE\", \"vote\": \"0\", \"uid\": \"3289675867\", \"area\": \"\\\\u5c71\\\\u4e1c\\\\u5a01\\\\u6d77\", \"channel_source\": \"\", \"content\": \"\\\\u6709\\\\u6cd5\\\\u5f8b\\\\u6761\\\\u6587\\\\u53ef\\\\u4f9d\\\\u5417\\\\uff1f\\\\u5982\\\\u679c\\\\u6ca1\\\\u6709\\\\uff0c\\\\u6293\\\\u7d27\\\\u7acb\\\\u6cd5\\\\uff0c\\\\u6d0b\\\\u4eba\\\\u5f00\\\\u7684\\\\u9152\\\\u5e97\\\\u5c31\\\\u662f\\\\u94bb\\\\u6cd5\\\\u5f8b\\\\u7684\\\\u7a7a\\\\u5b50\", \"nick\": \"\\\\u4e0d\\\\u4f1a\\\\u98de\\\\u7684\\\\u9752\\\\u86d9_72221\", \"ip\": \"222.175.200.162\", \"parent_nick\": \"\", \"config\": \"wb_verified=0&wb_screen_name=\\\\u4e0d\\\\u4f1a\\\\u98de\\\\u7684\\\\u9752\\\\u86d9_72221&area=\\\\u5c71\\\\u4e1c\\\\u5a01\\\\u6d77&wb_user_id=3289675867&followers_count=22&client_port=0&wb_profile_img=http%3A%2F%2Ftvax4.sinaimg.cn%2Fdefault%2Fimages%2Fdefault_avatar_male_50.gif&wb_time=1504663305\", \"channel\": \"gn\", \"comment_mid\": \"4822003426018603008\", \"status\": \"M_PASS\", \"newsid_source\": \"\", \"parent\": \"\", \"parent_profile_img\": \"\", \"news_mid\": \"4821973494739636224\", \"newsid\": \"comos-fykpzey4646471\", \"parent_uid\": \"0\", \"thread_mid\": \"0\", \"thread\": \"\", \"level\": \"0\", \"against\": \"0\", \"usertype\": \"\", \"length\": \"33\", \"profile_img\": \"http://tvax4.sinaimg.cn/default/images/default_avatar_male_50.gif\", \"time\": \"2017-09-06 10:01:44\", \"agree\": \"2\"}, {\"comment_imgs\": \"\", \"parent_mid\": \"0\", \"news_mid_source\": \"0\", \"rank\": \"6\", \"mid\": \"59AF549B-6FCF9482-57D24321-936-8C8\", \"vote\": \"0\", \"uid\": \"1473397537\", \"area\": \"\\\\u5317\\\\u4eac\", \"channel_source\": \"\", \"content\": \"\\\\u63d0\\\\u5021\\\\u5927\\\\u5bb6\\\\u5165\\\\u4f4f\\\\u4e94\\\\u661f\\\\u9152\\\\u5e97\\\\u540e\\\\u79bb\\\\u5e97\\\\u7684\\\\u540c\\\\u65f6\\\\uff0c\\\\u6709\\\\u610f\\\\u628a\\\\u5e8a\\\\u5957\\\\u5f04\\\\u810f\\\\uff0c\\\\u8fd9\\\\u6837\\\\u4ed6\\\\u4eec\\\\u5c31\\\\u5fc5\\\\u987b\\\\u6362\\\\u4e86\", \"nick\": \"\\\\u68ee\\\\u6797\\\\u4e4b\\\\u738bBJ\", \"ip\": \"111.207.148.130\", \"parent_nick\": \"\", \"config\": \"wb_verified=0&wb_screen_name=\\\\u68ee\\\\u6797\\\\u4e4b\\\\u738bBJ&area=\\\\u5317\\\\u4eac&wb_user_id=1473397537&followers_count=94&client_port=0&wb_profile_img=http%3A%2F%2Ftva2.sinaimg.cn%2Fcrop.0.0.180.180.50%2F57d24321jw1e8qgp5bmzyj2050050aa8.jpg&wb_time=1504662683\", \"channel\": \"gn\", \"comment_mid\": \"4822000820105916416\", \"status\": \"M_PASS\", \"newsid_source\": \"\", \"parent\": \"\", \"parent_profile_img\": \"\", \"news_mid\": \"4821973494739636224\", \"newsid\": \"comos-fykpzey4646471\", \"parent_uid\": \"0\", \"thread_mid\": \"0\", \"thread\": \"\", \"level\": \"0\", \"against\": \"0\", \"usertype\": \"\", \"length\": \"34\", \"profile_img\": \"http://tva2.sinaimg.cn/crop.0.0.180.180.50/57d24321jw1e8qgp5bmzyj2050050aa8.jpg\", \"time\": \"2017-09-06 09:51:23\", \"agree\": \"6\"}, {\"comment_imgs\": \"\", \"parent_mid\": \"0\", \"news_mid_source\": \"0\", \"rank\": \"7\", \"mid\": \"59AF521C-CBA1B504-704413FA-936-97B\", \"vote\": \"0\", \"uid\": \"1883509754\", \"area\": \"\\\\u65b0\\\\u52a0\\\\u5761\", \"channel_source\": \"\", \"content\": \"\\\\u4e0d\\\\u6362\\\\u5e8a\\\\u5355\\\\uff0c\\\\u53c8\\\\u4e0d\\\\u80fd\\\\u8ba9\\\\u4e0b\\\\u4e00\\\\u4e2a\\\\u5ba2\\\\u4eba\\\\u770b\\\\u51fa\\\\u6765\\\\uff0c\\\\u96be\\\\u5ea6\\\\u8fd8\\\\u662f\\\\u5f88\\\\u9ad8\\\\u7684\\\\u3002\", \"nick\": \"alvd\", \"ip\": \"203.161.181.4\", \"parent_nick\": \"\", \"config\": \"wb_verified=0&wb_screen_name=alvd&area=\\\\u65b0\\\\u52a0\\\\u5761&wb_user_id=1883509754&followers_count=11&client_port=0&wb_profile_img=http%3A%2F%2Ftva3.sinaimg.cn%2Fcrop.0.0.180.180.50%2F704413fajw1e8qgp5bmzyj2050050aa8.jpg&wb_time=1504662044\", \"channel\": \"gn\", \"comment_mid\": \"4821998138163081216\", \"status\": \"M_PASS\", \"newsid_source\": \"\", \"parent\": \"\", \"parent_profile_img\": \"\", \"news_mid\": \"4821973494739636224\", \"newsid\": \"comos-fykpzey4646471\", \"parent_uid\": \"0\", \"thread_mid\": \"0\", \"thread\": \"\", \"level\": \"0\", \"against\": \"0\", \"usertype\": \"\", \"length\": \"26\", \"profile_img\": \"http://tva3.sinaimg.cn/crop.0.0.180.180.50/704413fajw1e8qgp5bmzyj2050050aa8.jpg\", \"time\": \"2017-09-06 09:40:44\", \"agree\": \"7\"}, {\"comment_imgs\": \"\", \"parent_mid\": \"0\", \"news_mid_source\": \"0\", \"rank\": \"4\", \"mid\": \"59AF5067-8BD48FF2-593C56B5-936-8C9\", \"vote\": \"0\", \"uid\": \"1497126581\", \"area\": \"\\\\u5409\\\\u6797\\\\u957f\\\\u6625\", \"channel_source\": \"\", \"content\": \"\\\\u653f\\\\u5e9c\\\\u76f8\\\\u5173\\\\u90e8\\\\u95e8\\\\u6ca1\\\\u6709\\\\u76d1\\\\u7ba1\\\\u804c\\\\u8d23\\\\u4e48\\\\uff1f\", \"nick\": \"\\\\u8fe6\\\\u697c\\\\u9640\", \"ip\": \"139.212.143.242\", \"parent_nick\": \"\", \"config\": \"wb_verified=0&wb_screen_name=\\\\u8fe6\\\\u697c\\\\u9640&area=\\\\u5409\\\\u6797\\\\u957f\\\\u6625&wb_user_id=1497126581&followers_count=126&client_port=0&wb_profile_img=http%3A%2F%2Ftva4.sinaimg.cn%2Fcrop.0.0.180.180.50%2F593c56b5jw1e8qgp5bmzyj2050050aa8.jpg&wb_time=1504661607\", \"channel\": \"gn\", \"comment_mid\": \"4821996304048467968\", \"status\": \"M_PASS\", \"newsid_source\": \"\", \"parent\": \"\", \"parent_profile_img\": \"\", \"news_mid\": \"4821973494739636224\", \"newsid\": \"comos-fykpzey4646471\", \"parent_uid\": \"0\", \"thread_mid\": \"0\", \"thread\": \"\", \"level\": \"0\", \"against\": \"0\", \"usertype\": \"\", \"length\": \"14\", \"profile_img\": \"http://tva4.sinaimg.cn/crop.0.0.180.180.50/593c56b5jw1e8qgp5bmzyj2050050aa8.jpg\", \"time\": \"2017-09-06 09:33:26\", \"agree\": \"4\"}, {\"comment_imgs\": \"\", \"parent_mid\": \"0\", \"news_mid_source\": \"0\", \"rank\": \"2\", \"mid\": \"59AF4E21-AC105C1A-17A32404B-936-7E4\", \"vote\": \"0\", \"uid\": \"6345080907\", \"area\": \"\\\\u5317\\\\u4eac\\\\u6d77\\\\u6dc0\", \"channel_source\": \"\", \"content\": \"\\\\u9152\\\\u5e97\\\\u4e0d\\\\u6362\\\\u5e8a\\\\u4e0a\\\\u7528\\\\u54c1  \\\\u592a\\\\u6b63\\\\u5e38\\\\u4e86\\\\u3002\", \"nick\": \"\\\\u7528\\\\u62376345080907\", \"ip\": \"172.16.92.26\", \"parent_nick\": \"\", \"config\": \"wb_verified=0&wb_screen_name=\\\\u7528\\\\u62376345080907&from=ucweb&SOFT_TYPE=Build/HUAWEITAG-AL00) Chrome/40.0.2214.89 UCBrowser/11.6.8.952 Safari/537.36&area=\\\\u5317\\\\u4eac\\\\u6d77\\\\u6dc0&wb_user_id=6345080907&followers_count=1&wb_profile_img=http%3A%2F%2Ftvax4.sinaimg.cn%2Fdefault%2Fimages%2Fdefault_avatar_male_50.gif&OS_TYPE=14&wb_time=1504661025\", \"channel\": \"gn\", \"comment_mid\": \"4821993867782795264\", \"status\": \"M_PASS\", \"newsid_source\": \"\", \"parent\": \"\", \"parent_profile_img\": \"\", \"news_mid\": \"4821973494739636224\", \"newsid\": \"comos-fykpzey4646471\", \"parent_uid\": \"0\", \"thread_mid\": \"0\", \"thread\": \"\", \"level\": \"0\", \"against\": \"0\", \"usertype\": \"wap\", \"length\": \"15\", \"profile_img\": \"http://tvax4.sinaimg.cn/default/images/default_avatar_male_50.gif\", \"time\": \"2017-09-06 09:23:45\", \"agree\": \"2\"}, {\"comment_imgs\": \"\", \"parent_mid\": \"0\", \"news_mid_source\": \"0\", \"rank\": \"15\", \"mid\": \"59AF4DD8-DAF2B0CA-53D42792-936-92C\", \"vote\": \"0\", \"uid\": \"1406412690\", \"area\": \"\\\\u4e0a\\\\u6d77\", \"channel_source\": \"\", \"content\": \"\\\\u6362\\\\u6ca1\\\\u6362\\\\u9152\\\\u5e97\\\\u81ea\\\\u5df1\\\\u8fd8\\\\u4e0d\\\\u6e05\\\\u695a\\\\u4e48\\\\uff1f\\\\uff1f\", \"nick\": \"\\\\u771f\\\\u6211\\\\u7231\\\\u767d\\\\u83dc\", \"ip\": \"218.242.176.202\", \"parent_nick\": \"\", \"config\": \"wb_verified=0&wb_screen_name=\\\\u771f\\\\u6211\\\\u7231\\\\u767d\\\\u83dc&area=\\\\u4e0a\\\\u6d77&wb_user_id=1406412690&followers_count=214&client_port=0&wb_profile_img=http%3A%2F%2Ftva3.sinaimg.cn%2Fcrop.0.0.140.140.50%2F53d42792jw8et5syaicrlj203w03waa0.jpg&wb_time=1504660952\", \"channel\": \"gn\", \"comment_mid\": \"4821993559748849664\", \"status\": \"M_PASS\", \"newsid_source\": \"\", \"parent\": \"\", \"parent_profile_img\": \"\", \"news_mid\": \"4821973494739636224\", \"newsid\": \"comos-fykpzey4646471\", \"parent_uid\": \"0\", \"thread_mid\": \"0\", \"thread\": \"\", \"level\": \"0\", \"against\": \"0\", \"usertype\": \"\", \"length\": \"14\", \"profile_img\": \"http://tva3.sinaimg.cn/crop.0.0.140.140.50/53d42792jw8et5syaicrlj203w03waa0.jpg\", \"time\": \"2017-09-06 09:22:26\", \"agree\": \"15\"}, {\"comment_imgs\": \"\", \"parent_mid\": \"0\", \"news_mid_source\": \"0\", \"rank\": \"13\", \"mid\": \"59AF495E-6FC4B996-73B54307-936-940\", \"vote\": \"0\", \"uid\": \"1941259015\", \"area\": \"\\\\u5317\\\\u4eac\", \"channel_source\": \"\", \"content\": \"\\\\u5e97\\\\u5927\\\\u6b3a\\\\u5ba2\\\\uff0c\\\\u8d44\\\\u672c\\\\u7684\\\\u50b2\\\\u6162\", \"nick\": \"\\\\u72ec\\\\u5b64\\\\u9ea6\\\\u7530\", \"ip\": \"111.196.185.150\", \"parent_nick\": \"\", \"config\": \"wb_verified=0&wb_screen_name=\\\\u72ec\\\\u5b64\\\\u9ea6\\\\u7530&from=palmnews&area=\\\\u5317\\\\u4eac&wb_profile_img=http%3A%2F%2Ftva4.sinaimg.cn%2Fcrop.0.0.748.748.50%2F73b54307jw8f8br1keu9bj20ks0ks0u8.jpg&followers_count=64&wb_user_id=1941259015&wb_time=1504659805\", \"channel\": \"gn\", \"comment_mid\": \"4821988749712633856\", \"status\": \"M_PASS\", \"newsid_source\": \"\", \"parent\": \"\", \"parent_profile_img\": \"\", \"news_mid\": \"4821973494739636224\", \"newsid\": \"comos-fykpzey4646471\", \"parent_uid\": \"0\", \"thread_mid\": \"0\", \"thread\": \"\", \"level\": \"0\", \"against\": \"0\", \"usertype\": \"client\", \"length\": \"10\", \"profile_img\": \"http://tva4.sinaimg.cn/crop.0.0.748.748.50/73b54307jw8f8br1keu9bj20ks0ks0u8.jpg\", \"time\": \"2017-09-06 09:03:25\", \"agree\": \"13\"}, {\"comment_imgs\": \"\", \"parent_mid\": \"0\", \"news_mid_source\": \"0\", \"rank\": \"16\", \"mid\": \"59AF3E27-AC108A8D-E2A4E58C-936-939\", \"vote\": \"0\", \"uid\": \"3802457484\", \"area\": \"\\\\u5317\\\\u4eac\\\\u6d77\\\\u6dc0\", \"channel_source\": \"\", \"content\": \"\\\\u4e2d\\\\u56fd\\\\u9700\\\\u8981\\\\u66f4\\\\u591a\\\\u7684\\\\u7b2c\\\\u4e09\\\\u65b9\\\\u8bc4\\\\u6d4b\\\\u673a\\\\u6784\", \"nick\": \"\\\\u51ac\\\\u51aclove\\\\u5fae\\\\u535a\", \"ip\": \"172.16.138.141\", \"parent_nick\": \"\", \"config\": \"wb_verified=0&wb_screen_name=\\\\u51ac\\\\u51aclove\\\\u5fae\\\\u535a&from=ucweb&SOFT_TYPE=UCBrowser/11.6.1.1003 AliApp(TUnionSDK/0.1.20)&area=\\\\u5317\\\\u4eac\\\\u6d77\\\\u6dc0&wb_user_id=3802457484&followers_count=13&wb_profile_img=http%3A%2F%2Ftvax1.sinaimg.cn%2Fdefault%2Fimages%2Fdefault_avatar_male_50.gif&OS_TYPE=13&wb_time=1504656935\", \"channel\": \"gn\", \"comment_mid\": \"4821976709929512960\", \"status\": \"M_PASS\", \"newsid_source\": \"\", \"parent\": \"\", \"parent_profile_img\": \"\", \"news_mid\": \"4821973494739636224\", \"newsid\": \"comos-fykpzey4646471\", \"parent_uid\": \"0\", \"thread_mid\": \"0\", \"thread\": \"\", \"level\": \"0\", \"against\": \"0\", \"usertype\": \"wap\", \"length\": \"14\", \"profile_img\": \"http://tvax1.sinaimg.cn/default/images/default_avatar_male_50.gif\", \"time\": \"2017-09-06 08:15:28\", \"agree\": \"16\"}], \"news\": {\"status\": \"N_NORMAL\", \"title\": \"\\\\u201c\\\\u4e0d\\\\u6362\\\\u5e8a\\\\u5355\\\\u201d\\\\u8bc4\\\\u6d4b\\\\u673a\\\\u6784\\\\u56de\\\\u5e94\\\\u8d28\\\\u7591:\\\\u6709\\\\u5b8c\\\\u6574\\\\u97f3\\\\u9891\\\\u8bc1\\\\u636e\", \"default\": \"M_DEFAULT\", \"show\": \"M_DEFAULT\", \"subnum\": \"0\", \"column\": \"comos-56044\", \"author_name\": \"\", \"author_uid\": \"0\", \"countmode\": \"C_HIDE,C_QREPLY,C_SHOW\", \"base\": \"0\", \"url\": \"http://news.sina.com.cn/o/2017-09-06/doc-ifykpzey4646471.shtml\", \"groups\": \"\", \"time\": \"2017-09-06 08:02:49\", \"newsid\": \"comos-fykpzey4646471\", \"author_profile_img\": \"\", \"config\": \"url_wap=http%3A%2F%2Fnews.sina.cn%2F2017-09-06%2Fdetail-ifykpzey4646471.d.html\", \"news_mid\": \"4821973494739636224\", \"channel\": \"gn\"}, \"grouplist\": [], \"hot_list\": []}}'"
      ]
     },
     "execution_count": 72,
     "metadata": {},
     "output_type": "execute_result"
    }
   ],
   "source": [
    "comments = requests.get('http://comment5.news.sina.com.cn/page/info?version=1&format=js&channel=gn&newsid=comos-fykpzey4646471&group=&compress=0&ie=utf-8&oe=utf-8')\n",
    "comments.text.strip('var data=')"
   ]
  },
  {
   "cell_type": "code",
   "execution_count": 77,
   "metadata": {
    "collapsed": false
   },
   "outputs": [
    {
     "data": {
      "text/plain": [
       "82"
      ]
     },
     "execution_count": 77,
     "metadata": {},
     "output_type": "execute_result"
    }
   ],
   "source": [
    "import json\n",
    "jd = json.loads(comments.text.strip('var data='))\n",
    "jd['result']['count']['total']"
   ]
  },
  {
   "cell_type": "code",
   "execution_count": 88,
   "metadata": {
    "collapsed": false
   },
   "outputs": [],
   "source": [
    "#针对具体内容的新闻网址\n",
    "#1-评论所在的json\n",
    "#http://comment5.news.sina.com.cn/page/info?version=1&format=js&channel=gn&newsid=comos-fykpzey4646471&group=&compress=0&ie=utf-8&oe=utf-8')\n",
    "#2-新闻网址 newsurl\n",
    "#http://news.sina.com.cn/o/2017-09-06/doc-ifykpzey4646471.shtml\n",
    "#网址间的联系\n"
   ]
  },
  {
   "cell_type": "code",
   "execution_count": 83,
   "metadata": {
    "collapsed": false
   },
   "outputs": [
    {
     "data": {
      "text/plain": [
       "'fykpzey4646471'"
      ]
     },
     "execution_count": 83,
     "metadata": {},
     "output_type": "execute_result"
    }
   ],
   "source": [
    "#步骤1：提取新闻id\n",
    "import re\n",
    "m = re.search('doc-i(.+).shtml',newsurl)\n",
    "newsid = m.group(1)\n",
    "newsid"
   ]
  },
  {
   "cell_type": "code",
   "execution_count": 87,
   "metadata": {
    "collapsed": false
   },
   "outputs": [
    {
     "data": {
      "text/plain": [
       "'http://comment5.news.sina.com.cn/page/info?version=1&format=js&channel=gn&newsid=comos-fykpzey4646471&group=&compress=0&ie=utf-8&oe=utf-8'"
      ]
     },
     "execution_count": 87,
     "metadata": {},
     "output_type": "execute_result"
    }
   ],
   "source": [
    "commentURL = 'http://comment5.news.sina.com.cn/page/info?version=1&format=js&channel=gn&newsid=comos-{}&group=&compress=0&ie=utf-8&oe=utf-8'\n",
    "commentURL.format(newsid)  #该新闻id的评论数网址"
   ]
  },
  {
   "cell_type": "code",
   "execution_count": null,
   "metadata": {
    "collapsed": true
   },
   "outputs": [],
   "source": []
  },
  {
   "cell_type": "code",
   "execution_count": 6,
   "metadata": {
    "collapsed": false
   },
   "outputs": [
    {
     "data": {
      "text/plain": [
       "[<span id=\"commentCount1\"></span>]"
      ]
     },
     "execution_count": 6,
     "metadata": {},
     "output_type": "execute_result"
    }
   ],
   "source": [
    "#http://api.roll.news.sina.com.cn/zt_list?channel=news&cat_1=gnxw&cat_2==gdxw1||=gatxw||=zs-pl||=mtjj&level==1||=2&show_ext=1&show_all=1&show_num=22&tag=1&format=json&page=1&callback=newsloadercallback&_=1504674843015\n",
    "#http://api.roll.news.sina.com.cn/zt_list?channel=news&cat_1=gnxw&cat_2==gdxw1||=gatxw||=zs-pl||=mtjj&level==1||=2&show_ext=1&show_all=1&show_num=22&tag=1&format=json&page=3&callback=newsloadercallback&_=1504674825521"
   ]
  },
  {
   "cell_type": "code",
   "execution_count": 108,
   "metadata": {
    "collapsed": false,
    "scrolled": false
   },
   "outputs": [],
   "source": [
    "res = requests.get('http://api.roll.news.sina.com.cn/zt_list?channel=news&cat_1=gnxw&cat_2==gdxw1||=gatxw||=zs-pl||=mtjj&level==1||=2&show_ext=1&show_all=1&show_num=22&tag=1&format=json&page=1')\n",
    "#res.text"
   ]
  },
  {
   "cell_type": "code",
   "execution_count": 109,
   "metadata": {
    "collapsed": false
   },
   "outputs": [
    {
     "name": "stdout",
     "output_type": "stream",
     "text": [
      "http://news.sina.com.cn/c/gat/2017-09-06/doc-ifykqmrw1072797.shtml\n",
      "http://news.sina.com.cn/c/nd/2017-09-06/doc-ifykpzey4754327.shtml\n",
      "http://news.sina.com.cn/c/nd/2017-09-06/doc-ifyktzim8287748.shtml\n",
      "http://news.sina.com.cn/o/2017-09-06/doc-ifyktzim8287499.shtml\n",
      "http://news.sina.com.cn/c/nd/2017-09-06/doc-ifykqmrw1044766.shtml\n",
      "http://news.sina.com.cn/o/2017-09-06/doc-ifyktzim8284282.shtml\n",
      "http://news.sina.com.cn/c/nd/2017-09-06/doc-ifykpysa3650406.shtml\n",
      "http://news.sina.com.cn/c/2017-09-06/doc-ifyktzim8281718.shtml\n",
      "http://news.sina.com.cn/c/nd/2017-09-06/doc-ifykpzey4744740.shtml\n",
      "http://news.sina.com.cn/c/nd/2017-09-06/doc-ifyktzim8259210.shtml\n",
      "http://news.sina.com.cn/c/nd/2017-09-06/doc-ifykpzey4722498.shtml\n",
      "http://news.sina.com.cn/o/2017-09-06/doc-ifyktzim8248760.shtml\n",
      "http://news.sina.com.cn/o/2017-09-06/doc-ifyktzim8247054.shtml\n",
      "http://news.sina.com.cn/o/2017-09-06/doc-ifyktzim8246781.shtml\n",
      "http://news.sina.com.cn/o/2017-09-06/doc-ifyktzim8240366.shtml\n",
      "http://news.sina.com.cn/c/nd/2017-09-06/doc-ifyktzim8240053.shtml\n",
      "http://news.sina.com.cn/o/2017-09-06/doc-ifykpzey4699820.shtml\n",
      "http://news.sina.com.cn/o/2017-09-06/doc-ifyktzim8235569.shtml\n",
      "http://news.sina.com.cn/c/nd/2017-09-06/doc-ifykpysa3614519.shtml\n",
      "http://news.sina.com.cn/o/2017-09-06/doc-ifyktzim8234636.shtml\n",
      "http://news.sina.com.cn/o/2017-09-06/doc-ifyktzim8232522.shtml\n",
      "http://news.sina.com.cn/o/2017-09-06/doc-ifykpzey4695378.shtml\n"
     ]
    }
   ],
   "source": [
    "import json\n",
    "jd = json.loads(res.text)\n",
    "jd['result']['data']\n",
    "for ent in jd['result']['data']:\n",
    "    print(ent['url'])"
   ]
  },
  {
   "cell_type": "code",
   "execution_count": null,
   "metadata": {
    "collapsed": true
   },
   "outputs": [],
   "source": []
  },
  {
   "cell_type": "code",
   "execution_count": 100,
   "metadata": {
    "collapsed": false
   },
   "outputs": [
    {
     "data": {
      "text/plain": [
       "'{\"result\":{\"status\":{\"code\":\"0\"},\"encoding\":\"utf-8\",\"serverSeconds\":\"1504676448\",\"total\":\"443749\",\"count\":\"22\",\"last_time\":\"1504675745\",\"data\":[{\"id\":\"1-1-34568023\",\"column\":\"gdxw1\",\"title\":\"\\\\u4e2d\\\\u56fd\\\\u9996\\\\u6b21\\\\u94bb\\\\u83b7\\\\u6e29\\\\u5ea6\\\\u6700\\\\u9ad8\\\\u5e72\\\\u70ed\\\\u5ca9 \\\\u6216\\\\u6539\\\\u5199\\\\u80fd\\\\u6e90\\\\u7248\\\\u56fe\",\"url\":\"http:\\\\/\\\\/news.sina.com.cn\\\\/c\\\\/nd\\\\/2017-09-06\\\\/doc-ifyktzim8287748.shtml\",\"keywords\":\"\\\\u5e72\\\\u70ed\\\\u5ca9,\\\\u80fd\\\\u6e90,\\\\u8c03\\\\u67e5\\\\u5c40\",\"comment_channel\":\"gn\",\"img\":\"\",\"level\":\"0\",\"createtime\":\"1504675745\",\"ext1\":\"\",\"ext2\":\"gn:comos-fyktzim8287748:0\",\"ext3\":\"\",\"ext4\":\"gn:comos-fyktzim8287748:0\",\"ext5\":\"\\\\u539f\\\\u6807\\\\u9898\\\\uff1a\\\\u91cd\\\\u5927\\\\u7a81\\\\u7834\\\\uff01\\\\u6211\\\\u56fd\\\\u9996\\\\u6b21\\\\u94bb\\\\u83b7\\\\u6e29\\\\u5ea6\\\\u6700\\\\u9ad8\\\\u7684\\\\u5e72\\\\u70ed\\\\u5ca9 \\\\u6216\\\\u5c06\\\\u6539\\\\u5199\\\\u4f20\\\\u7edf\\\\u80fd\\\\u6e90\\\\u7248\\\\u56fe\\\\uff01\\\\n\\\\u8bb0\\\\u8005\\\\u4ece\\\\u56fd\\\\u571f\\\\u8d44\\\\u6e90\\\\u90e8\\\\u4e2d\\\\u56fd\\\\u5730\\\\u8d28\\\\u8c03\\\\u67e5\\\\u5c40\\\\u4e86\\\\u89e3\\\\u5230\\\\uff0c\\\\u65e5\\\\u524d\\\\u6211\\\\u56fd\\\\u79d1\\\\u5b66\\\\u5bb6\\\\u5728\\\\u9752\\\\u6d77\\\\u5171\\\\u548c\\\\u76c6\\\\u57303705\\\\u7c73\\\\u6df1\\\\u5904\\\\u94bb\\\\u83b7236\\\\u2103\\\\u7684\\\\u9ad8\\\\u6e29\\\\u5e72\\\\u70ed\\\\u5ca9\\\\u4f53\\\\u3002\\\\u8fd9\\\\u662f\\\\u6211\\\\u56fd\\\\u9996\\\\u6b21\\\\u94bb\\\\u83b7\\\\u6e29\\\\u5ea6\\\\u6700\\\\u9ad8\\\\u7684\\\\u5e72\\\\u70ed\\\\u5ca9\\\\u4f53\\\\uff0c\\\\u5b9e\\\\u73b0\\\\u4e86\\\\u6211\\\\u56fd\\\\u5e72\\\\u70ed\\\\u5ca9\\\\u52d8\\\\u67e5\\\\u7684\\\\u91cd\\\\u5927\\\\u7a81\\\\u7834\\\\u3002\\\\u4e13\\\\u5bb6\\\\u8ba4\\\\u4e3a\\\\uff0c\\\\u5730\\\\u70ed\\\\u8d44\\\\u6e90\\\\u5df2\\\\u6210\\\\u4e3a\\\\u65b0\\\\u80fd\\\\u6e90\\\\u4e2d\\\\u7684\\\\u2026\",\"old_level\":\"2\",\"media_type\":\"zwsp\",\"media_name\":\"\\\\u592e\\\\u89c6\\\\u65b0\\\\u95fb\"},{\"id\":\"1-1-34567935\",\"column\":\"gdxw1\",\"title\":\"\\\\u6e56\\\\u5317\\\\u8572\\\\u6625\\\\u901a\\\\u62a5:\\\\u8c6a\\\\u8d4c\\\\u89c6\\\\u9891\\\\u4e2d3\\\\u4eba\\\\u7cfb\\\\u5e72\\\\u90e8 \\\\u7eaa\\\\u59d4\\\\u5df2\\\\u4ecb\\\\u5165\",\"url\":\"http:\\\\/\\\\/news.sina.com.cn\\\\/o\\\\/2017-09-06\\\\/doc-ifyktzim8287499.shtml\",\"keywords\":\"\\\\u8572\\\\u6625\\\\u53bf,\\\\u8572\\\\u6625,\\\\u7ba1\\\\u7a91\\\\u9547\",\"comment_channel\":\"\",\"img\":\"\",\"level\":\"0\",\"createtime\":\"1504675596\",\"ext1\":\"\",\"ext2\":\"gn:comos-fyktzim8287499:0\",\"ext3\":\"\",\"ext4\":\"gn:comos-fyktzim8287499:0\",\"ext5\":\"\\\\u539f\\\\u6807\\\\u9898\\\\uff1a\\\\u6e56\\\\u5317\\\\u8572\\\\u6625\\\\u901a\\\\u62a5\\\\uff1a\\\\u8c6a\\\\u8d4c\\\\u89c6\\\\u98916\\\\u4eba\\\\u4e2d3\\\\u4eba\\\\u7cfb\\\\u515a\\\\u5458\\\\u5e72\\\\u90e8\\\\uff0c\\\\u8b66\\\\u65b9\\\\u7eaa\\\\u59d4\\\\u4ecb\\\\u5165\\\\n\\\\u9488\\\\u5bf9\\\\u5fae\\\\u4fe1\\\\u670b\\\\u53cb\\\\u5708\\\\u75af\\\\u4f20\\\\u6e56\\\\u5317\\\\u9ec4\\\\u5188\\\\u5e02\\\\u8572\\\\u6625\\\\u53bf\\\\u8d4c\\\\u5f92\\\\u6325\\\\u91d1\\\\u5982\\\\u571f\\\\u3001\\\\u8d4c\\\\u8d44\\\\u6570\\\\u4e07\\\\u7684\\\\u8d4c\\\\u535a\\\\u89c6\\\\u9891\\\\uff0c\\\\u8572\\\\u6625\\\\u8b66\\\\u65b9\\\\u6309\\\\u56fe\\\\u7d22\\\\u9aa5\\\\uff0c\\\\u53d1\\\\u73b06\\\\u540d\\\\u53c2\\\\u8d4c\\\\u4eba\\\\u5458\\\\u7adf\\\\u6709\\\\u4e09\\\\u540d\\\\u515a\\\\u5458\\\\u5e72\\\\u90e8\\\\u3002\\\\u6f8e\\\\u6e43\\\\u65b0\\\\u95fb\\\\uff08www.thepaper.cn\\\\uff099\\\\u67085\\\\u65e5\\\\u4ece\\\\u8572\\\\u6625\\\\u53bf\\\\u76f8\\\\u5173\\\\u90e8\\\\u95e8\\\\u4e86\\\\u89e3\\\\u5230\\\\uff0c\\\\u8572\\\\u6625\\\\u53bf\\\\u7eaa\\\\u59d4\\\\u5df2\\\\u5bf9\\\\u4e09\\\\u540d\\\\u515a\\\\u5458\\\\u5e72\\\\u90e8\\\\u4f5c\\\\u51fa\\\\u5904\\\\u5206\\\\u2026\",\"old_level\":\"2\",\"media_type\":\"\",\"media_name\":\"\\\\u6f8e\\\\u6e43\\\\u65b0\\\\u95fb\"},{\"id\":\"1-1-34567891\",\"column\":\"gdxw1\",\"title\":\"\\\\u6d59\\\\u6c5f\\\\u51fa\\\\u53f0\\\\u6237\\\\u53e3\\\\u8fc1\\\\u79fb\\\\u653f\\\\u7b56:\\\\u4f18\\\\u79c0\\\\u519c\\\\u6c11\\\\u5de5\\\\u53ef\\\\u65e0\\\\u6761\\\\u4ef6\\\\u843d\\\\u6237\",\"url\":\"http:\\\\/\\\\/news.sina.com.cn\\\\/c\\\\/nd\\\\/2017-09-06\\\\/doc-ifykqmrw1044766.shtml\",\"keywords\":\"\\\\u519c\\\\u6c11\\\\u5de5,\\\\u6d59\\\\u6c5f,\\\\u843d\\\\u6237,\\\\u653f\\\\u7b56\",\"comment_channel\":\"gn\",\"img\":\"\",\"level\":\"0\",\"createtime\":\"1504674729\",\"ext1\":\"\",\"ext2\":\"gn:comos-fykqmrw1044766:0\",\"ext3\":\"\",\"ext4\":\"gn:comos-fykqmrw1044766:0\",\"ext5\":\"\\\\u539f\\\\u6807\\\\u9898\\\\uff1a\\\\u7a81\\\\u53d1\\\\uff0c\\\\u8fd9\\\\u7c7b\\\\u4eba\\\\u53ef\\\\u201c\\\\u65e0\\\\u6761\\\\u4ef6\\\\u843d\\\\u6237\\\\u201d\\\\uff012.8\\\\u4ebf\\\\u4eba\\\\u6cb8\\\\u817e\\\\u4e86\\\\n\\\\u6237\\\\u53e3\\\\u7c3f\\\\uff0c\\\\u5e73\\\\u65f6\\\\u4f3c\\\\u4e4e\\\\u4e00\\\\u76f4\\\\u8eba\\\\u62bd\\\\u5c49\\\\uff0c\\\\u5982\\\\u679c\\\\u4e00\\\\u65e6\\\\u6d89\\\\u53ca\\\\u5230\\\\u4e70\\\\u623f\\\\u3001\\\\u7ed3\\\\u5a5a\\\\u3001\\\\u51fa\\\\u56fd\\\\u7b49\\\\u5927\\\\u4e8b\\\\uff0c\\\\u5c31\\\\u5fc5\\\\u4e0d\\\\u53ef\\\\u5c11\\\\u4e86\\\\uff0c\\\\u751a\\\\u81f3\\\\u8fd8\\\\u51b3\\\\u5b9a\\\\u4f60\\\\u662f\\\\u5426\\\\u201c\\\\u62e5\\\\u6709\\\\u8d44\\\\u683c\\\\u201d\\\\u3002\",\"old_level\":\"2\",\"media_type\":\"\",\"media_name\":\"\\\\u592e\\\\u89c6\\\\u8d22\\\\u7ecf\"},{\"id\":\"1-1-34567890\",\"column\":\"gdxw1\",\"title\":\"\\\\u53f0\\\\u98ce\\\\u84dd\\\\u8272\\\\u9884\\\\u8b66\\\\uff1a\\\\u201c\\\\u53e4\\\\u8d85\\\\u201d\\\\u5c06\\\\u79fb\\\\u5165\\\\u53f0\\\\u6e7e\\\\u6d77\\\\u5ce1\\\\u5357\\\\u90e8\",\"url\":\"http:\\\\/\\\\/news.sina.com.cn\\\\/o\\\\/2017-09-06\\\\/doc-ifyktzim8284282.shtml\",\"keywords\":\"\\\\u53f0\\\\u6e7e\\\\u6d77\\\\u5ce1,\\\\u53f0\\\\u98ce,\\\\u84dd\\\\u8272\\\\u9884\\\\u8b66\",\"comment_channel\":\"\",\"img\":\"\",\"level\":\"0\",\"createtime\":\"1504674672\",\"ext1\":\"\",\"ext2\":\"gn:comos-fyktzim8284282:0\",\"ext3\":\"\",\"ext4\":\"gn:comos-fyktzim8284282:0\",\"ext5\":\"\\\\u4e2d\\\\u65b0\\\\u7f519\\\\u67086\\\\u65e5\\\\u7535 \\\\u636e\\\\u4e2d\\\\u56fd\\\\u6c14\\\\u8c61\\\\u5c40\\\\u7f51\\\\u7ad9\\\\u6d88\\\\u606f\\\\uff0c\\\\u4e2d\\\\u592e\\\\u6c14\\\\u8c61\\\\u53f09\\\\u67086\\\\u65e510\\\\u65f6\\\\u53d1\\\\u5e03\\\\u53f0\\\\u98ce\\\\u84dd\\\\u8272\\\\u9884\\\\u8b66\\\\u3002\\\\u4eca\\\\u5e74\\\\u7b2c17\\\\u53f0\\\\u98ce\\\\u201c\\\\u53e4\\\\u8d85\\\\u201d\\\\u4eca\\\\u5929\\\\u665a\\\\u4e0a\\\\u5c06\\\\u79fb\\\\u5165\\\\u53f0\\\\u6e7e\\\\u6d77\\\\u5ce1\\\\u5357\\\\u90e8\\\\u6d77\\\\u9762\\\\uff0c\\\\u4ee5\\\\u540e\\\\u8d8b\\\\u5411\\\\u798f\\\\u5efa\\\\u5357\\\\u90e8\\\\u6cbf\\\\u6d77\\\\u3002\\\\n\\\\u636e\\\\u6089\\\\uff0c\\\\u4eca\\\\u5e74\\\\u7b2c17\\\\u53f0\\\\u98ce\\\\u201c\\\\u53e4\\\\u8d85\\\\u201d\\\\uff08\\\\u70ed\\\\u5e26\\\\u98ce\\\\u66b4\\\\u7ea7\\\\uff0c\\\\u82f1\\\\u6587\\\\u540d\\\\uff1aGuchol\\\\uff1b\\\\u540d\\\\u5b57\\\\u6765\\\\u6e90\\\\uff1a\\\\u5bc6\\\\u514b\\\\u7f57\\\\u5c3c\\\\u897f\\\\u4e9a\\\\uff1b\\\\u540d\\\\u5b57\\\\u610f\\\\u4e49\\\\uff1a\\\\u4e00\\\\u79cd\\\\u9999\\\\u6599\\\\uff09\\\\u4eca\\\\u5929\\\\uff086\\\\u65e5\\\\uff0c\\\\u4e0b\\\\u540c\\\\uff09\\\\u4e0a\\\\u53488\\\\u2026\",\"old_level\":\"2\",\"media_type\":\"\",\"media_name\":\"\\\\u4e2d\\\\u56fd\\\\u65b0\\\\u95fb\\\\u7f51\"},{\"id\":\"1-1-34567887\",\"column\":\"gdxw1\",\"title\":\"\\\\u6c5f\\\\u82cf\\\\u5f90\\\\u5dde\\\\u77ff\\\\u52a1\\\\u96c6\\\\u56e2\\\\u539f\\\\u8463\\\\u4e8b\\\\u957f\\\\u5434\\\\u5fd7\\\\u521a\\\\u88ab\\\\u7acb\\\\u6848\\\\u4fa6\\\\u67e5\",\"url\":\"http:\\\\/\\\\/news.sina.com.cn\\\\/c\\\\/nd\\\\/2017-09-06\\\\/doc-ifykpysa3650406.shtml\",\"keywords\":\"\\\\u5434\\\\u5fd7\\\\u521a,\\\\u77ff\\\\u52a1,\\\\u5f90\\\\u5dde\",\"comment_channel\":\"gn\",\"img\":\"\",\"level\":\"0\",\"createtime\":\"1504674606\",\"ext1\":\"\",\"ext2\":\"gn:comos-fykpysa3650406:0\",\"ext3\":\"\",\"ext4\":\"gn:comos-fykpysa3650406:0\",\"ext5\":\"\\\\u539f\\\\u6807\\\\u9898\\\\uff1a\\\\u6c5f\\\\u82cf\\\\u7701\\\\u4eba\\\\u6c11\\\\u68c0\\\\u5bdf\\\\u9662\\\\u4f9d\\\\u6cd5\\\\u5bf9\\\\u5434\\\\u5fd7\\\\u521a\\\\uff08\\\\u6b63\\\\u5385\\\\u7ea7\\\\uff09\\\\u4ee5\\\\u6d89\\\\u5acc\\\\u53d7\\\\u8d3f\\\\u7f6a\\\\u7acb\\\\u6848\\\\u4fa6\\\\u67e5\\\\n\\\\u6c5f\\\\u82cf\\\\u68c0\\\\u5bdf\\\\u5728\\\\u7ebf\\\\u6d88\\\\u606f\\\\uff0c\\\\u65e5\\\\u524d\\\\uff0c\\\\u6c5f\\\\u82cf\\\\u7701\\\\u4eba\\\\u6c11\\\\u68c0\\\\u5bdf\\\\u9662\\\\u7ecf\\\\u51b3\\\\u5b9a\\\\uff0c\\\\u4f9d\\\\u6cd5\\\\u5bf9\\\\u5f90\\\\u5dde\\\\u77ff\\\\u52a1\\\\u96c6\\\\u56e2\\\\u539f\\\\u8463\\\\u4e8b\\\\u957f\\\\u5434\\\\u5fd7\\\\u521a\\\\uff08\\\\u6b63\\\\u5385\\\\u7ea7\\\\uff09\\\\u4ee5\\\\u6d89\\\\u5acc\\\\u53d7\\\\u8d3f\\\\u7f6a\\\\u7acb\\\\u6848\\\\u4fa6\\\\u67e5\\\\uff0c\\\\u5e76\\\\u91c7\\\\u53d6\\\\u5f3a\\\\u5236\\\\u63aa\\\\u65bd\\\\u3002\\\\u6848\\\\u4ef6\\\\u4fa6\\\\u67e5\\\\u5de5\\\\u4f5c\\\\u6b63\\\\u5728\\\\u8fdb\\\\u884c\\\\u4e2d\\\\u3002\",\"old_level\":\"2\",\"media_type\":\"\",\"media_name\":\"\\\\u6f8e\\\\u6e43\\\\u65b0\\\\u95fb\"},{\"id\":\"1-1-34567848\",\"column\":\"gatxw\",\"title\":\"\\\\u53f0\\\\u540d\\\\u6821\\\\u5973\\\\u9ad8\\\\u4e2d\\\\u751f\\\\u8df3\\\\u697c\\\\u8eab\\\\u4ea1\\\\u7559\\\\u9057\\\\u4e66:\\\\u4e0d\\\\u7528\\\\u627e\\\\u4e86\\\\u5c31\\\\u662f\\\\u6211\",\"url\":\"http:\\\\/\\\\/news.sina.com.cn\\\\/c\\\\/2017-09-06\\\\/doc-ifyktzim8281718.shtml\",\"keywords\":\"\\\\u6c38\\\\u548c,\\\\u8b66\\\\u65b9,\\\\u5317\\\\u4e00\",\"comment_channel\":\"gn\",\"img\":\"\",\"level\":\"0\",\"createtime\":\"1504673942\",\"ext1\":\"\",\"ext2\":\"gn:comos-fyktzim8281718:0\",\"ext3\":\"\",\"ext4\":\"gn:comos-fyktzim8281718:0\",\"ext5\":\"\\\\u539f\\\\u6807\\\\u9898\\\\uff1a\\\\u53f0\\\\u540d\\\\u6821\\\\u5973\\\\u9ad8\\\\u4e2d\\\\u751f\\\\u8df3\\\\u697c\\\\u8eab\\\\u4ea1 \\\\u7559\\\\u4e0b\\\\u9057\\\\u4e66\\\\uff1a\\\\u4e0d\\\\u7528\\\\u627e\\\\u4e86 \\\\u5c31\\\\u662f\\\\u6211\\\\n\\\\u636e\\\\u53f0\\\\u6e7e\\\\u201c\\\\u4e2d\\\\u65f6\\\\u7535\\\\u5b50\\\\u62a5\\\\u201d9\\\\u67086\\\\u65e5\\\\u62a5\\\\u9053\\\\uff0c\\\\u5bb6\\\\u4f4f\\\\u65b0\\\\u5317\\\\u5e02\\\\u6c38\\\\u548c\\\\u533a\\\\u768415\\\\u5c81\\\\u5434\\\\u59d3\\\\u5317\\\\u4e00\\\\u5973\\\\uff08\\\\u7f16\\\\u8005\\\\u6ce8\\\\uff1a\\\\u53f0\\\\u5317\\\\u7b2c\\\\u4e00\\\\u5973\\\\u5b50\\\\u9ad8\\\\u7ea7\\\\u4e2d\\\\u5b66\\\\uff0c\\\\u5168\\\\u53f0\\\\u6e7e\\\\u9996\\\\u5c48\\\\u4e00\\\\u6307\\\\u7684\\\\u5973\\\\u5b50\\\\u9ad8\\\\u4e2d\\\\uff09\\\\u5b66\\\\u751f\\\\uff0c\\\\u4eca\\\\u65e5\\\\uff086\\\\u65e5\\\\uff09\\\\u4e0a\\\\u53487\\\\u65f630\\\\u5206\\\\u8bb8\\\\uff0c\\\\u5411\\\\u5bb6\\\\u4eba\\\\u8868\\\\u793a\\\\u51fa\\\\u95e8\\\\u4e0a\\\\u5b66\\\\u540e\\\\uff0c\\\\u7adf\\\\u7136\\\\u767b\\\\u4e0a\\\\u81ea\\\\u5bb6\\\\u5927\\\\u697c14\\\\u697c\\\\u9876\\\\uff0c\\\\u7eb5\\\\u8eab\\\\u8df3\\\\u4e0b\\\\uff0c\\\\u9020\\\\u6210\\\\u5168\\\\u2026\",\"old_level\":\"2\",\"media_type\":\"\",\"media_name\":\"\\\\u73af\\\\u7403\\\\u7f51\"},{\"id\":\"1-1-34567854\",\"column\":\"gdxw1\",\"title\":\"\\\\u897f\\\\u85cf\\\\u81ea\\\\u6cbb\\\\u533a\\\\u7eaa\\\\u59d4\\\\u901a\\\\u62a53\\\\u8d77\\\\u6276\\\\u8d2b\\\\u9886\\\\u57df\\\\u8fdd\\\\u7eaa\\\\u5178\\\\u578b\\\\u95ee\\\\u9898\",\"url\":\"http:\\\\/\\\\/news.sina.com.cn\\\\/c\\\\/nd\\\\/2017-09-06\\\\/doc-ifykpzey4744740.shtml\",\"keywords\":\"\\\\u897f\\\\u85cf\\\\u81ea\\\\u6cbb\\\\u533a,\\\\u6276\\\\u8d2b,\\\\u8fdd\\\\u7eaa,\\\\u7eaa\\\\u59d4\",\"comment_channel\":\"gn\",\"img\":\"\",\"level\":\"0\",\"createtime\":\"1504673838\",\"ext1\":\"\",\"ext2\":\"gn:comos-fykpzey4744740:0\",\"ext3\":\"\",\"ext4\":\"gn:comos-fykpzey4744740:0\",\"ext5\":\"\\\\u8fd1\\\\u671f\\\\uff0c\\\\u897f\\\\u85cf\\\\u81ea\\\\u6cbb\\\\u533a\\\\u5404\\\\u7ea7\\\\u7eaa\\\\u68c0\\\\u76d1\\\\u5bdf\\\\u673a\\\\u5173\\\\u4e25\\\\u8083\\\\u67e5\\\\u5904\\\\u4e86\\\\u4e00\\\\u6279\\\\u6276\\\\u8d2b\\\\u9886\\\\u57df\\\\u8fdd\\\\u7eaa\\\\u95ee\\\\u9898\\\\uff0c\\\\u7ef4\\\\u62a4\\\\u7fa4\\\\u4f17\\\\u5207\\\\u8eab\\\\u5229\\\\u76ca\\\\u3002\\\\u81ea\\\\u6cbb\\\\u533a\\\\u7eaa\\\\u59d4\\\\u901a\\\\u62a5\\\\u5176\\\\u4e2d3\\\\u8d77\\\\u5178\\\\u578b\\\\u95ee\\\\u9898\\\\uff0c\\\\u5206\\\\u522b\\\\u662f\\\\uff1a\\\\n1\\\\u3002\\\\u62c9\\\\u8428\\\\u5e02\\\\u58a8\\\\u7af9\\\\u5de5\\\\u5361\\\\u53bf\\\\u5c3c\\\\u739b\\\\u6c5f\\\\u70ed\\\\u4e61\\\\u5e2e\\\\u8fbe\\\\u6751\\\\u515a\\\\u652f\\\\u90e8\\\\u526f\\\\u4e66\\\\u8bb0\\\\u3001\\\\u6751\\\\u59d4\\\\u4f1a\\\\u4e3b\\\\u4efb\\\\u6b21\\\\u65fa\\\\u4ec1\\\\u589e\\\\u5957\\\\u53d6\\\\u6276\\\\u8d2b\\\\u57f9\\\\u8bad\\\\u8d44\\\\u91d1\\\\u95ee\\\\u9898\\\\u30022015\\\\u5e74\\\\uff0c\\\\u6b21\\\\u65fa\\\\u4ec1\\\\u589e\\\\u5728\\\\u62c5\\\\u4efb\\\\u6751\\\\u515a\\\\u652f\\\\u90e8\\\\u526f\\\\u4e66\\\\u8bb0\\\\u3001\\\\u6751\\\\u59d4\\\\u4f1a\\\\u4e3b\\\\u4efb\\\\u3001\\\\u6148\\\\u8def\\\\u529f\\\\u535a\\\\u85cf\\\\u5f0f\\\\u2026\",\"old_level\":\"2\",\"media_type\":\"\",\"media_name\":\"\\\\u4e2d\\\\u592e\\\\u7eaa\\\\u59d4\\\\u76d1\\\\u5bdf\\\\u90e8\\\\u7f51\\\\u7ad9\"},{\"id\":\"1-1-34567680\",\"column\":\"gdxw1\",\"title\":\"\\\\u897f\\\\u85cf\\\\u5168\\\\u533a\\\\u6587\\\\u7269\\\\u666f\\\\u70b9\\\\u5411\\\\u533a\\\\u5185\\\\u5e72\\\\u90e8\\\\u7fa4\\\\u4f17\\\\u5b9e\\\\u884c\\\\u514d\\\\u8d39\\\\u53c2\\\\u89c2\",\"url\":\"http:\\\\/\\\\/news.sina.com.cn\\\\/c\\\\/nd\\\\/2017-09-06\\\\/doc-ifyktzim8259210.shtml\",\"keywords\":\"\\\\u5e03\\\\u8fbe\\\\u62c9\\\\u5bab,\\\\u897f\\\\u85cf,\\\\u5927\\\\u662d\\\\u5bfa\",\"comment_channel\":\"gn\",\"img\":\"\",\"level\":\"0\",\"createtime\":\"1504670781\",\"ext1\":\"\",\"ext2\":\"gn:comos-fyktzim8259210:0\",\"ext3\":\"\",\"ext4\":\"gn:comos-fyktzim8259210:0\",\"ext5\":\"\\\\u539f\\\\u6807\\\\u9898\\\\uff1a\\\\u597d\\\\u6d88\\\\u606f\\\\uff01\\\\u5168\\\\u533a\\\\u6587\\\\u7269\\\\u666f\\\\u70b9\\\\u5411\\\\u533a\\\\u5185\\\\u5e72\\\\u90e8\\\\u7fa4\\\\u4f17\\\\u5b9e\\\\u884c\\\\u514d\\\\u8d39\\\\u53c2\\\\u89c2\\\\uff0c\\\\u5305\\\\u62ec\\\\u5e03\\\\u8fbe\\\\u62c9\\\\u5bab\\\\u3001\\\\u5927\\\\u662d\\\\u5bfa\\\\u54e6\\\\uff01\\\\n\\\\u5c0f\\\\u7f16\\\\u4ece\\\\u897f\\\\u85cf\\\\u81ea\\\\u6cbb\\\\u533a\\\\u6587\\\\u7269\\\\u5c40\\\\u4e86\\\\u89e3\\\\u5230\\\\uff0c\\\\u4ece2017\\\\u5e749\\\\u67081\\\\u65e5\\\\u8d77\\\\uff0c\\\\u5168\\\\u533a\\\\u6587\\\\u7269\\\\u666f\\\\u70b9\\\\u5411\\\\u533a\\\\u5185\\\\u5e72\\\\u90e8\\\\u7fa4\\\\u4f17\\\\u5b9e\\\\u884c\\\\u514d\\\\u8d39\\\\u53c2\\\\u89c2\\\\u5566\\\\uff01\\\\u9274\\\\u4e8e\\\\u65c5\\\\u6e38\\\\u65fa\\\\u5b63\\\\u5e03\\\\u8fbe\\\\u62c9\\\\u5bab\\\\u3001\\\\u5927\\\\u662d\\\\u5bfa\\\\u7b49\\\\u666f\\\\u70b9\\\\u63a5\\\\u5f85\\\\u538b\\\\u529b\\\\u8fc7\\\\u5927\\\\u7684\\\\u5b9e\\\\u9645\\\\uff0c\\\\u6bcf\\\\u5e745\\\\u67081\\\\u65e5\\\\u81f310\\\\u67081\\\\u65e5\\\\uff0c\\\\u9664\\\\u519c\\\\u7267\\\\u6c11\\\\u7fa4\\\\u4f17\\\\u5916\\\\uff0c\\\\u5176\\\\u4ed6\\\\u533a\\\\u5185\\\\u4eba\\\\u2026\",\"old_level\":\"2\",\"media_type\":\"\",\"media_name\":\"\\\\u6f8e\\\\u6e43\\\\u65b0\\\\u95fb\"},{\"id\":\"1-1-34567671\",\"column\":\"gdxw1\",\"title\":\"\\\\u519b\\\\u62a5\\\\u8c08\\\\u90e8\\\\u961f\\\\u5e72\\\\u90e8\\\\u9009\\\\u62d4\\\\uff1a\\\\u4f60\\\\u5e72\\\\u8fc7\\\\u4ec0\\\\u4e48 \\\\u6218\\\\u573a\\\\u6700\\\\u6e05\\\\u695a\",\"url\":\"http:\\\\/\\\\/news.sina.com.cn\\\\/c\\\\/nd\\\\/2017-09-06\\\\/doc-ifykpzey4722498.shtml\",\"keywords\":\"\\\\u5e72\\\\u90e8,\\\\u90e8\\\\u961f,\\\\u9009\\\\u62d4\",\"comment_channel\":\"gn\",\"img\":\"\",\"level\":\"1\",\"createtime\":\"1504670776\",\"ext1\":\"\",\"ext2\":\"gn:comos-fykpzey4722498:0\",\"ext3\":\"\",\"ext4\":\"gn:comos-fykpzey4722498:0\",\"ext5\":\"\\\\u539f\\\\u6807\\\\u9898\\\\uff1a\\\\u4f60\\\\u5e72\\\\u8fc7\\\\u4ec0\\\\u4e48\\\\uff0c\\\\u6218\\\\u573a\\\\u6700\\\\u6e05\\\\u695a\\\\n\\\\u73b0\\\\u5728\\\\uff0c\\\\u90e8\\\\u961f\\\\u9009\\\\u62d4\\\\u4efb\\\\u7528\\\\u5e72\\\\u90e8\\\\uff0c\\\\u5c24\\\\u5176\\\\u662f\\\\u914d\\\\u5907\\\\u4e3b\\\\u5b98\\\\uff0c\\\\u4efb\\\\u804c\\\\u7ecf\\\\u5386\\\\u662f\\\\u4e00\\\\u6761\\\\u91cd\\\\u8981\\\\u53c2\\\\u8003\\\\u6807\\\\u51c6\\\\u3002\\\\u4e00\\\\u4e9b\\\\u540c\\\\u5fd7\\\\u80fd\\\\u529b\\\\u7d20\\\\u8d28\\\\u4e0d\\\\u9519\\\\uff0c\\\\u5374\\\\u56e0\\\\u4e3a\\\\u7ecf\\\\u5386\\\\u5355\\\\u4e00\\\\u800c\\\\u88ab\\\\u6321\\\\u5728\\\\u95e8\\\\u69db\\\\u4e4b\\\\u5916\\\\uff0c\\\\u611f\\\\u5230\\\\u6761\\\\u4ef6\\\\u8fc7\\\\u4e8e\\\\u82db\\\\u523b\\\\u3002\\\\u5e94\\\\u5f53\\\\u770b\\\\u5230\\\\uff0c\\\\u6bcf\\\\u4e00\\\\u6bb5\\\\u7ecf\\\\u5386\\\\u90fd\\\\u662f\\\\u4e3a\\\\u6253\\\\u4ed7\\\\u84c4\\\\u5e95\\\\u6c14\\\\u3001\\\\u505a\\\\u51c6\\\\u5907\\\\u3002\",\"old_level\":\"1\",\"media_type\":\"\",\"media_name\":\"\\\\u6f8e\\\\u6e43\\\\u65b0\\\\u95fb\"},{\"id\":\"1-1-34567578\",\"column\":\"gdxw1\",\"title\":\"\\\\u5409\\\\u6797\\\\u677e\\\\u539f\\\\u5317\\\\u90e8\\\\u73b0\\\\u9f99\\\\u5377\\\\u98ce \\\\u90e8\\\\u5206\\\\u623f\\\\u5c4b\\\\u53d7\\\\u635f\\\\u4e25\\\\u91cd(\\\\u56fe)\",\"url\":\"http:\\\\/\\\\/news.sina.com.cn\\\\/o\\\\/2017-09-06\\\\/doc-ifyktzim8248760.shtml\",\"keywords\":\"\\\\u9f99\\\\u5377\\\\u98ce,\\\\u677e\\\\u539f,\\\\u5730\\\\u533a\",\"comment_channel\":\"\",\"img\":\"\",\"level\":\"0\",\"createtime\":\"1504669705\",\"ext1\":\"\",\"ext2\":\"gn:comos-fyktzim8248760:0\",\"ext3\":\"\",\"ext4\":\"gn:comos-fyktzim8248760:0\",\"ext5\":\"\\\\u539f\\\\u6807\\\\u9898\\\\uff1a\\\\u52a8\\\\u56fe\\\\uff1a\\\\u5409\\\\u6797\\\\u677e\\\\u539f\\\\u5730\\\\u533a\\\\u5317\\\\u90e8\\\\u7a81\\\\u73b0\\\\u9f99\\\\u5377\\\\u98ce\\\\n2017\\\\u5e749\\\\u67085\\\\u65e516\\\\u65f6\\\\u5de6\\\\u53f3\\\\uff0c\\\\u4f4d\\\\u4e8e\\\\u5409\\\\u6797\\\\u7701\\\\u677e\\\\u539f\\\\u5730\\\\u533a\\\\u5317\\\\u90e8\\\\u7684\\\\u6276\\\\u4f59\\\\u5e02\\\\u5de5\\\\u68da\\\\u5b50\\\\u9547\\\\u66f4\\\\u65b0\\\\u4e61\\\\u65b0\\\\u7ea2\\\\u6751\\\\u4e5d\\\\u95f4\\\\u623f\\\\u5c6f\\\\u7a81\\\\u73b0\\\\u9f99\\\\u5377\\\\u98ce\\\\u3002\\\\u72c2\\\\u98ce\\\\u5bfc\\\\u81f4\\\\u5f53\\\\u5730\\\\u90e8\\\\u5206\\\\u623f\\\\u5c4b\\\\u53d7\\\\u635f\\\\u4e25\\\\u91cd\\\\uff0c\\\\u622a\\\\u6b62\\\\u81f36\\\\u65e509\\\\u65f6\\\\uff0c\\\\u53d7\\\\u707e\\\\u5730\\\\u533a\\\\u6682\\\\u65e0\\\\u4eba\\\\u5458\\\\u4f24\\\\u4ea1\\\\u3002\",\"old_level\":\"2\",\"media_type\":\"\",\"media_name\":\"\\\\u592e\\\\u89c6\\\\u65b0\\\\u95fb\"},{\"id\":\"1-1-34567553\",\"column\":\"gdxw1\",\"title\":\"\\\\u6d77\\\\u5916\\\\u9ad8\\\\u5c42\\\\u6b21\\\\u4eba\\\\u624d\\\\u8d70\\\\u8fdb\\\\u6cb3\\\\u5317\\\\uff1a\\\\u613f\\\\u53c2\\\\u4e0e\\\\u96c4\\\\u5b89\\\\u65b0\\\\u533a\\\\u53d1\\\\u5c55\",\"url\":\"http:\\\\/\\\\/news.sina.com.cn\\\\/o\\\\/2017-09-06\\\\/doc-ifyktzim8247054.shtml\",\"keywords\":\"\\\\u4eac\\\\u6d25\\\\u5180,\\\\u96c4\\\\u5b89\\\\u65b0\\\\u533a,\\\\u5f52\\\\u56fd\\\\u534e\\\\u4fa8\",\"comment_channel\":\"\",\"img\":\"\",\"level\":\"0\",\"createtime\":\"1504669515\",\"ext1\":\"\",\"ext2\":\"gn:comos-fyktzim8247054:0\",\"ext3\":\"\",\"ext4\":\"gn:comos-fyktzim8247054:0\",\"ext5\":\"\\\\u539f\\\\u6807\\\\u9898\\\\uff1a\\\\u6d77\\\\u5916\\\\u9ad8\\\\u5c42\\\\u6b21\\\\u4eba\\\\u624d\\\\u8d70\\\\u8fdb\\\\u6cb3\\\\u5317\\\\uff1a\\\\u613f\\\\u53c2\\\\u4e0e\\\\u96c4\\\\u5b89\\\\u65b0\\\\u533a\\\\u53d1\\\\u5c55\\\\n\\\\u4e2d\\\\u65b0\\\\u7f51\\\\u96c4\\\\u5b899\\\\u67086\\\\u65e5\\\\u7535 \\\\uff08\\\\u8bb0\\\\u8005 \\\\u674e\\\\u831c\\\\uff09\\\\u6765\\\\u81ea14\\\\u4e2a\\\\u56fd\\\\u5bb6\\\\u548c\\\\u5730\\\\u533a\\\\u7684\\\\u7ea680\\\\u4f4d\\\\u6d77\\\\u5916\\\\u9ad8\\\\u5c42\\\\u6b21\\\\u4eba\\\\u624d5\\\\u65e5\\\\u8d70\\\\u8fdb\\\\u6cb3\\\\u5317\\\\u96c4\\\\u5b89\\\\u65b0\\\\u533a\\\\uff0c\\\\u5bfb\\\\u627e\\\\u81ea\\\\u5df1\\\\u4e0e\\\\u96c4\\\\u5b89\\\\u65b0\\\\u533a\\\\u672a\\\\u6765\\\\u53d1\\\\u5c55\\\\u7684\\\\u5951\\\\u5408\\\\u70b9\\\\u3002\",\"old_level\":\"2\",\"media_type\":\"\",\"media_name\":\"\\\\u4e2d\\\\u56fd\\\\u65b0\\\\u95fb\\\\u7f51\"},{\"id\":\"1-1-34567541\",\"column\":\"gdxw1\",\"title\":\"\\\\u4e2d\\\\u56fd\\\\u516c\\\\u5f00\\\\u65e0\\\\u4eba\\\\u673a\\\\u62cd\\\\u6444\\\\u9493\\\\u5c9b\\\\u89c6\\\\u9891 \\\\u6d77\\\\u8b66\\\\u5c40\\\\u7528\\\\u65e5\\\\u8bed\\\\u558a\\\\u8bdd\",\"url\":\"http:\\\\/\\\\/news.sina.com.cn\\\\/o\\\\/2017-09-06\\\\/doc-ifyktzim8246781.shtml\",\"keywords\":\"\\\\u9493\\\\u9c7c\\\\u5c9b,\\\\u65e0\\\\u4eba\\\\u673a,\\\\u516c\\\\u52a1\\\\u8239\",\"comment_channel\":\"\",\"img\":\"\",\"level\":\"1\",\"createtime\":\"1504669486\",\"ext1\":\"\",\"ext2\":\"gn:comos-fyktzim8246781:0\",\"ext3\":\"\",\"ext4\":\"gn:comos-fyktzim8246781:0\",\"ext5\":\"\\\\u539f\\\\u6807\\\\u9898\\\\uff1a \\\\u4e2d\\\\u56fd\\\\u7f55\\\\u89c1\\\\u516c\\\\u5f00\\\\u65e0\\\\u4eba\\\\u673a\\\\u62cd\\\\u6444\\\\u9493\\\\u9c7c\\\\u5c9b\\\\u89c6\\\\u9891 \\\\u6d77\\\\u8b66\\\\u5c40\\\\u7528\\\\u65e5\\\\u8bed\\\\u558a\\\\u8bdd\\\\u2014\\\\u2014\\\\n\\\\u65e5\\\\u5a92\\\\u79f0\\\\uff0c\\\\u4eca\\\\u5e745\\\\u6708\\\\uff0c\\\\u884c\\\\u9a76\\\\u5728\\\\u9493\\\\u9c7c\\\\u5c9b\\\\u5468\\\\u8fb9\\\\u7684\\\\u4e2d\\\\u56fd\\\\u6d77\\\\u8b66\\\\u5c40\\\\u516c\\\\u52a1\\\\u8239\\\\u4e0a\\\\u7a7a\\\\u66fe\\\\u6709\\\\u5c0f\\\\u578b\\\\u65e0\\\\u4eba\\\\u673a\\\\u98de\\\\u884c\\\\uff0c\\\\u65e5\\\\u524d\\\\uff0c\\\\u4e2d\\\\u56fd\\\\u4e2d\\\\u592e\\\\u7535\\\\u89c6\\\\u53f0\\\\u64ad\\\\u653e\\\\u4e86\\\\u6839\\\\u636e\\\\u62cd\\\\u6444\\\\u89c6\\\\u9891\\\\u7f16\\\\u8f91\\\\u800c\\\\u6210\\\\u7684\\\\u7279\\\\u522b\\\\u8282\\\\u76ee\\\\uff0c\\\\u8fd9\\\\u4f53\\\\u73b0\\\\u4e86\\\\u4e2d\\\\u65b9\\\\u5728\\\\u56fd\\\\u5185\\\\u5916\\\\u52a0\\\\u5f3a\\\\u9493\\\\u9c7c\\\\u5c9b\\\\u7684\\\\u4e3b\\\\u6743\\\\u58f0\\\\u7d22\\\\uff0c\\\\u4e3a\\\\u5f62\\\\u6210\\\\u8206\\\\u8bba\\\\u652f\\\\u6301\\\\u800c\\\\u5f00\\\\u5c55\\\\u60c5\\\\u62a5\\\\u6218\\\\u7684\\\\u60c5\\\\u51b5\\\\u3002\\\\u2026\",\"old_level\":\"1\",\"media_type\":\"\",\"media_name\":\"\\\\u53c2\\\\u8003\\\\u6d88\\\\u606f\"},{\"id\":\"1-1-34567372\",\"column\":\"gdxw1\",\"title\":\"\\\\u80e1\\\\u6da6\\\\u8d22\\\\u5bcc\\\\u62a5\\\\u544a:\\\\u4e2d\\\\u56fd\\\\u5927\\\\u9646\\\\u6bcf940\\\\u4eba\\\\u67091\\\\u4f4d\\\\u5343\\\\u4e07\\\\u5bcc\\\\u8c6a\",\"url\":\"http:\\\\/\\\\/news.sina.com.cn\\\\/o\\\\/2017-09-06\\\\/doc-ifyktzim8240366.shtml\",\"keywords\":\"\\\\u80e1\\\\u6da6,\\\\u8d22\\\\u5bcc,\\\\u51c0\\\\u503c\",\"comment_channel\":\"\",\"img\":\"\",\"level\":\"1\",\"createtime\":\"1504668724\",\"ext1\":\"\",\"ext2\":\"gn:comos-fyktzim8240366:0\",\"ext3\":\"\",\"ext4\":\"gn:comos-fyktzim8240366:0\",\"ext5\":\"\\\\u539f\\\\u6807\\\\u9898\\\\uff1a\\\\u80e1\\\\u6da6\\\\u8d22\\\\u5bcc\\\\u62a5\\\\u544a\\\\uff1a\\\\u4e2d\\\\u56fd\\\\u5927\\\\u9646\\\\u6bcf940\\\\u4eba\\\\u4e2d\\\\u5c31\\\\u67091\\\\u4f4d\\\\u5343\\\\u4e07\\\\u5bcc\\\\u8c6a\\\\n[\\\\u73af\\\\u7403\\\\u7f51\\\\u7efc\\\\u5408\\\\u62a5\\\\u9053]5\\\\u65e5\\\\uff0c\\\\u80e1\\\\u6da6\\\\u7814\\\\u7a76\\\\u9662\\\\u53d1\\\\u5e03\\\\u300a2017\\\\u80e1\\\\u6da6\\\\u8d22\\\\u5bcc\\\\u62a5\\\\u544a\\\\u300b\\\\uff0c\\\\u7edf\\\\u8ba1\\\\u4e2d\\\\u56fd\\\\u62e5\\\\u6709600\\\\u4e07\\\\u8d44\\\\u4ea7\\\\u3001\\\\u5343\\\\u4e07\\\\u8d44\\\\u4ea7\\\\u3001\\\\u4ebf\\\\u4e07\\\\u8d44\\\\u4ea7\\\\u548c3000\\\\u4e07\\\\u7f8e\\\\u91d1\\\\u8d44\\\\u4ea7\\\\u56fd\\\\u9645\\\\u8d85\\\\u9ad8\\\\u51c0\\\\u503c\\\\u7684\\\\u5bb6\\\\u5ead\\\\u6570\\\\u91cf\\\\u548c\\\\u5730\\\\u57df\\\\u5206\\\\u5e03\\\\u60c5\\\\u51b5\\\\u3002\\\\u8fd9\\\\u662f\\\\u80e1\\\\u6da6\\\\u7814\\\\u7a76\\\\u9662\\\\u8fde\\\\u7eed\\\\u7b2c\\\\u4e5d\\\\u5e74\\\\u53d1\\\\u5e03\\\\u300a\\\\u80e1\\\\u6da6\\\\u8d22\\\\u5bcc\\\\u62a5\\\\u544a\\\\u300b\\\\uff0c\\\\u800c\\\\u4e14\\\\u9996\\\\u6b21\\\\u5305\\\\u62ec\\\\u4e86\\\\u6e2f\\\\u6fb3\\\\u53f0\\\\u2026\",\"old_level\":\"1\",\"media_type\":\"\",\"media_name\":\"\\\\u73af\\\\u7403\\\\u7f51\"},{\"id\":\"1-1-34567415\",\"column\":\"gdxw1\",\"title\":\"\\\\u5e38\\\\u53bb\\\\u7f51\\\\u5427\\\\u5b66\\\\u751f\\\\u4e0d\\\\u80fd\\\\u8ba4\\\\u5b9a\\\\u4e3a\\\\u8d2b\\\\u56f0\\\\u751f\\\\uff1f\\\\u6559\\\\u80b2\\\\u90e8\\\\u56de\\\\u5e94\",\"url\":\"http:\\\\/\\\\/news.sina.com.cn\\\\/c\\\\/nd\\\\/2017-09-06\\\\/doc-ifyktzim8240053.shtml\",\"keywords\":\"\\\\u8d2b\\\\u56f0\\\\u751f,\\\\u539f\\\\u5219\\\\u6027,\\\\u6559\\\\u80b2\\\\u90e8\",\"comment_channel\":\"gn\",\"img\":\"\",\"level\":\"1\",\"createtime\":\"1504668678\",\"ext1\":\"\",\"ext2\":\"gn:comos-fyktzim8240053:0\",\"ext3\":\"\",\"ext4\":\"gn:comos-fyktzim8240053:0\",\"ext5\":\"\\\\u539f\\\\u6807\\\\u9898\\\\uff1a\\\\u5e38\\\\u53bb\\\\u7f51\\\\u5427\\\\u5b66\\\\u751f\\\\u4e0d\\\\u80fd\\\\u8ba4\\\\u5b9a\\\\u4e3a\\\\u8d2b\\\\u56f0\\\\u751f\\\\uff1f\\\\u6559\\\\u80b2\\\\u90e8\\\\uff1a\\\\u5730\\\\u65b9\\\\u539f\\\\u5219\\\\u6027\\\\u610f\\\\u89c1\\\\n\\\\u4e2d\\\\u65b0\\\\u7f51\\\\u5ba2\\\\u6237\\\\u7aef9\\\\u67086\\\\u65e5\\\\u6d88\\\\u606f\\\\uff0c\\\\u8fd1\\\\u65e5\\\\uff0c\\\\u9655\\\\u897f\\\\u7701\\\\u6559\\\\u80b2\\\\u5385\\\\u4e00\\\\u5219\\\\u201c\\\\u5e38\\\\u53bb\\\\u7f51\\\\u5427\\\\u7684\\\\u5b66\\\\u751f\\\\u4e0d\\\\u80fd\\\\u88ab\\\\u8ba4\\\\u5b9a\\\\u4e3a\\\\u8d2b\\\\u56f0\\\\u751f\\\\u201d\\\\u7684\\\\u89c4\\\\u5b9a\\\\u5f15\\\\u53d1\\\\u70ed\\\\u8bae\\\\uff0c\\\\u6559\\\\u80b2\\\\u90e89\\\\u67086\\\\u65e5\\\\u4e0a\\\\u5348\\\\u56de\\\\u5e94\\\\u79f0\\\\uff0c\\\\u6559\\\\u80b2\\\\u90e8\\\\u5df2\\\\u8ddf\\\\u9655\\\\u897f\\\\u7701\\\\u6559\\\\u80b2\\\\u5385\\\\u8fdb\\\\u884c\\\\u4e86\\\\u6838\\\\u5b9e\\\\uff0c\\\\u8fd9\\\\u6761\\\\u89c4\\\\u5b9a\\\\u53ea\\\\u662f\\\\u9655\\\\u897f\\\\u7701\\\\u8ba4\\\\u5b9a\\\\u5bb6\\\\u5ead\\\\u7ecf\\\\u6d4e\\\\u56f0\\\\u96be\\\\u5b66\\\\u751f\\\\u7684\\\\u539f\\\\u5219\\\\u6027\\\\u610f\\\\u89c1\\\\uff0c\\\\u8fd8\\\\u8981\\\\u2026\",\"old_level\":\"1\",\"media_type\":\"\",\"media_name\":\"\\\\u4e2d\\\\u56fd\\\\u65b0\\\\u95fb\\\\u7f51\"},{\"id\":\"1-1-34567366\",\"column\":\"gdxw1\",\"title\":\"\\\\u4e2d\\\\u56fd\\\\u793e\\\\u4f1a\\\\u79d1\\\\u5b66\\\\u9662\\\\u5927\\\\u5b66\\\\u6210\\\\u7acb\\\\u5927\\\\u4f1a\\\\u5c06\\\\u4e8e9\\\\u670812\\\\u65e5\\\\u4e3e\\\\u884c\",\"url\":\"http:\\\\/\\\\/news.sina.com.cn\\\\/o\\\\/2017-09-06\\\\/doc-ifykpzey4699820.shtml\",\"keywords\":\"\\\\u65b0\\\\u751f,\\\\u5927\\\\u4f1a,\\\\u5927\\\\u5b66\",\"comment_channel\":\"\",\"img\":\"\",\"level\":\"0\",\"createtime\":\"1504668077\",\"ext1\":\"\",\"ext2\":\"gn:comos-fykpzey4699820:0\",\"ext3\":\"\",\"ext4\":\"gn:comos-fykpzey4699820:0\",\"ext5\":\"\\\\u539f\\\\u6807\\\\u9898\\\\uff1a\\\\u4e2d\\\\u56fd\\\\u793e\\\\u4f1a\\\\u79d1\\\\u5b66\\\\u9662\\\\u5927\\\\u5b66\\\\u6210\\\\u7acb\\\\u5927\\\\u4f1a\\\\u5c06\\\\u4e8e9\\\\u670812\\\\u65e5\\\\u4e3e\\\\u884c\\\\n\\\\u4e3a\\\\u6df1\\\\u5165\\\\u8d2f\\\\u5f7b\\\\u4e60\\\\u8fd1\\\\u5e73\\\\u603b\\\\u4e66\\\\u8bb0\\\\u7cfb\\\\u5217\\\\u91cd\\\\u8981\\\\u8bb2\\\\u8bdd\\\\u7cbe\\\\u795e\\\\uff0c\\\\u7e41\\\\u8363\\\\u53d1\\\\u5c55\\\\u4e2d\\\\u56fd\\\\u54f2\\\\u5b66\\\\u793e\\\\u4f1a\\\\u79d1\\\\u5b66\\\\uff0c\\\\u4eca\\\\u5e745\\\\u6708\\\\uff0c\\\\u4e2d\\\\u56fd\\\\u793e\\\\u4f1a\\\\u79d1\\\\u5b66\\\\u9662\\\\u5927\\\\u6b63\\\\u5f0f\\\\u6210\\\\u7acb\\\\u3002\\\\u6f8e\\\\u6e43\\\\u65b0\\\\u95fb\\\\u8bb0\\\\u80059\\\\u67086\\\\u65e5\\\\u4ece\\\\u6821\\\\u65b9\\\\u83b7\\\\u6089\\\\uff0c\\\\u76ee\\\\u524d\\\\u5404\\\\u9879\\\\u5de5\\\\u4f5c\\\\u63a8\\\\u8fdb\\\\u987a\\\\u5229\\\\uff0c2017\\\\u5e74\\\\u62db\\\\u751f\\\\u5de5\\\\u4f5c\\\\u5df2\\\\u5706\\\\u6ee1\\\\u7ed3\\\\u675f\\\\uff0c2017\\\\u7ea7\\\\u65b0\\\\u751f\\\\u5c06\\\\u4e8e9\\\\u6708\\\\u4efd\\\\u5165\\\\u5b66\\\\uff0c\\\\u5179\\\\u5b9a\\\\u4e8e9\\\\u670812\\\\u65e5\\\\u4e0a\\\\u5348\\\\u4e3e\\\\u2026\",\"old_level\":\"2\",\"media_type\":\"\",\"media_name\":\"\\\\u6f8e\\\\u6e43\\\\u65b0\\\\u95fb\"},{\"id\":\"1-1-34567296\",\"column\":\"gdxw1\",\"title\":\"\\\\u56db\\\\u5ddd\\\\u73af\\\\u4fdd\\\\u7763\\\\u5bdf\\\\u4e0b\\\\u6c891994\\\\u4e2a\\\\u70b9\\\\u4f4d \\\\u5904\\\\u7f5a\\\\u91d1\\\\u989d\\\\u903e\\\\u4ebf\\\\u5143\",\"url\":\"http:\\\\/\\\\/news.sina.com.cn\\\\/o\\\\/2017-09-06\\\\/doc-ifyktzim8235569.shtml\",\"keywords\":\"\\\\u73af\\\\u4fdd,\\\\u7763\\\\u5bdf,\\\\u56db\\\\u5ddd\\\\u7701\",\"comment_channel\":\"\",\"img\":\"\",\"level\":\"0\",\"createtime\":\"1504668011\",\"ext1\":\"\",\"ext2\":\"gn:comos-fyktzim8235569:0\",\"ext3\":\"\",\"ext4\":\"gn:comos-fyktzim8235569:0\",\"ext5\":\"\\\\u539f\\\\u6807\\\\u9898\\\\uff1a\\\\u56db\\\\u5ddd\\\\u73af\\\\u4fdd\\\\u7763\\\\u5bdf\\\\u98ce\\\\u66b4\\\\uff1a\\\\u4e0b\\\\u6c891994\\\\u4e2a\\\\u70b9\\\\u4f4d\\\\u7763\\\\u5bdf \\\\u5904\\\\u7f5a\\\\u91d1\\\\u989d\\\\u903e\\\\u4ebf\\\\u5143\\\\n\\\\u4e2d\\\\u65b0\\\\u7f51\\\\u6210\\\\u90fd9\\\\u67086\\\\u65e5\\\\u7535 \\\\uff08\\\\u6768\\\\u73fa\\\\uff096\\\\u65e5\\\\uff0c\\\\u8bb0\\\\u8005\\\\u4ece\\\\u56db\\\\u5ddd\\\\u7701\\\\u73af\\\\u4fdd\\\\u5385\\\\u83b7\\\\u6089\\\\uff0c\\\\u4e3a\\\\u57282018\\\\u5e74\\\\u524d\\\\u5b8c\\\\u6210\\\\u539f\\\\u5b9a\\\\u4e09\\\\u5e74\\\\u5b8c\\\\u6210\\\\u7684\\\\u73af\\\\u4fdd\\\\u7763\\\\u5bdf\\\\u5de5\\\\u4f5c\\\\uff0c\\\\u56db\\\\u5ddd\\\\u7701\\\\u5df2\\\\u53d1\\\\u52a820\\\\u4f59\\\\u4e2a\\\\u7701\\\\u7ea7\\\\u90e8\\\\u95e8\\\\u3001300\\\\u4f59\\\\u4eba\\\\u6b21\\\\u5bf91994\\\\u4e2a\\\\u70b9\\\\u4f4d\\\\u8fdb\\\\u884c\\\\u4e86\\\\u4e0b\\\\u6c89\\\\u7763\\\\u5bdf\\\\u3002\",\"old_level\":\"2\",\"media_type\":\"\",\"media_name\":\"\\\\u4e2d\\\\u56fd\\\\u65b0\\\\u95fb\\\\u7f51\"},{\"id\":\"1-1-34567263\",\"column\":\"gdxw1\",\"title\":\"\\\\u9648\\\\u96f7\\\\u8c08\\\\u300a\\\\u4e60\\\\u8fd1\\\\u5e73\\\\u7684\\\\u4e03\\\\u5e74\\\\u77e5\\\\u9752\\\\u5c81\\\\u6708\\\\u300b\\\\u5b66\\\\u4e60\\\\u4f53\\\\u4f1a\",\"url\":\"http:\\\\/\\\\/news.sina.com.cn\\\\/c\\\\/nd\\\\/2017-09-06\\\\/doc-ifykpysa3614519.shtml\",\"keywords\":\"\\\\u9648\\\\u96f7,\\\\u4e60\\\\u8fd1\\\\u5e73\\\\u7684\\\\u4e03\\\\u5e74\\\\u77e5\\\\u9752\\\\u5c81\\\\u6708,\\\\u6c34\\\\u5229\\\\u90e8\",\"comment_channel\":\"gn\",\"img\":\"\",\"level\":\"0\",\"createtime\":\"1504667851\",\"ext1\":\"\",\"ext2\":\"gn:comos-fykpysa3614519:0\",\"ext3\":\"\",\"ext4\":\"gn:comos-fykpysa3614519:0\",\"ext5\":\"\\\\u539f\\\\u6807\\\\u9898\\\\uff1a\\\\u6c34\\\\u5229\\\\u90e8\\\\u515a\\\\u7ec4\\\\u4e2d\\\\u5fc3\\\\u7ec4\\\\u4e13\\\\u9898\\\\u5b66\\\\u4e60\\\\u300a\\\\u4e60\\\\u8fd1\\\\u5e73\\\\u7684\\\\u4e03\\\\u5e74\\\\u77e5\\\\u9752\\\\u5c81\\\\u6708\\\\u300b\\\\n\\\\u8fd1\\\\u65e5\\\\u6c34\\\\u5229\\\\u90e8\\\\u515a\\\\u7ec4\\\\u4e66\\\\u8bb0\\\\u3001\\\\u90e8\\\\u957f\\\\u9648\\\\u96f7\\\\u4e3b\\\\u6301\\\\u515a\\\\u7ec4\\\\u4e2d\\\\u5fc3\\\\u7ec4\\\\uff08\\\\u6269\\\\u5927\\\\uff09\\\\u5b66\\\\u4e60\\\\uff0c\\\\u4e13\\\\u9898\\\\u5b66\\\\u4e60\\\\u7814\\\\u8ba8\\\\u300a\\\\u4e60\\\\u8fd1\\\\u5e73\\\\u7684\\\\u4e03\\\\u5e74\\\\u77e5\\\\u9752\\\\u5c81\\\\u6708\\\\u300b\\\\u3002\\\\u4ed6\\\\u5f3a\\\\u8c03\\\\uff0c\\\\u6c34\\\\u5229\\\\u7cfb\\\\u7edf\\\\u5e7f\\\\u5927\\\\u515a\\\\u5458\\\\u5e72\\\\u90e8\\\\u8981\\\\u4ece\\\\u4e60\\\\u8fd1\\\\u5e73\\\\u603b\\\\u4e66\\\\u8bb0\\\\u7684\\\\u6210\\\\u957f\\\\u7ecf\\\\u5386\\\\u4e2d\\\\u6c72\\\\u53d6\\\\u4e30\\\\u539a\\\\u517b\\\\u5206\\\\uff0c\\\\u8fdb\\\\u4e00\\\\u6b65\\\\u589e\\\\u5f3a\\\\u201c\\\\u56db\\\\u4e2a\\\\u610f\\\\u8bc6\\\\u201d\\\\uff0c\\\\u66f4\\\\u52a0\\\\u7d27\\\\u5bc6\\\\u5730\\\\u56e2\\\\u7ed3\\\\u5728\\\\u4ee5\\\\u4e60\\\\u8fd1\\\\u5e73\\\\u540c\\\\u5fd7\\\\u2026\",\"old_level\":\"2\",\"media_type\":\"\",\"media_name\":\"\\\\u6f8e\\\\u6e43\\\\u65b0\\\\u95fb\"},{\"id\":\"1-1-34567262\",\"column\":\"gdxw1\",\"title\":\"\\\\u660e\\\\u6625\\\\u5fb7\\\\u4efb\\\\u5c71\\\\u4e1c\\\\u7701\\\\u9884\\\\u9632\\\\u8150\\\\u8d25\\\\u5c40\\\\u5c40\\\\u957f \\\\u9a6c\\\\u660e\\\\u751f\\\\u4e0d\\\\u518d\\\\u62c5\\\\u4efb\",\"url\":\"http:\\\\/\\\\/news.sina.com.cn\\\\/o\\\\/2017-09-06\\\\/doc-ifyktzim8234636.shtml\",\"keywords\":\"\\\\u94c1\\\\u77ff,\\\\u5c71\\\\u4e1c\\\\u7701,\\\\u660e\\\\u6625\\\\u5fb7\",\"comment_channel\":\"\",\"img\":\"\",\"level\":\"0\",\"createtime\":\"1504667837\",\"ext1\":\"\",\"ext2\":\"gn:comos-fyktzim8234636:0\",\"ext3\":\"\",\"ext4\":\"gn:comos-fyktzim8234636:0\",\"ext5\":\"\\\\u7ecf\\\\u6d4e\\\\u65e5\\\\u62a5-\\\\u4e2d\\\\u56fd\\\\u7ecf\\\\u6d4e\\\\u7f51\\\\u5317\\\\u4eac9\\\\u67086\\\\u65e5\\\\u8baf \\\\u8fd1\\\\u65e5\\\\uff0c\\\\u5c71\\\\u4e1c\\\\u7701\\\\u4eba\\\\u6c11\\\\u653f\\\\u5e9c\\\\u51b3\\\\u5b9a\\\\uff0c\\\\u4efb\\\\u547d\\\\uff1a\\\\u660e\\\\u6625\\\\u5fb7\\\\u4e3a\\\\u5c71\\\\u4e1c\\\\u7701\\\\u9884\\\\u9632\\\\u8150\\\\u8d25\\\\u5c40\\\\u5c40\\\\u957f\\\\uff1b\\\\u5b5f\\\\u7965\\\\u5409\\\\u4e3a\\\\u5c71\\\\u4e1c\\\\u7701\\\\u76d1\\\\u5bdf\\\\u5385\\\\u526f\\\\u5385\\\\u957f\\\\uff1b\\\\u738b\\\\u658c\\\\u4e3a\\\\u5c71\\\\u4e1c\\\\u7701\\\\u76d1\\\\u5bdf\\\\u5385\\\\u526f\\\\u5385\\\\u957f\\\\u3002\\\\u514d\\\\u53bb\\\\uff1a\\\\u9a6c\\\\u660e\\\\u751f\\\\u7684\\\\u5c71\\\\u4e1c\\\\u7701\\\\u9884\\\\u9632\\\\u8150\\\\u8d25\\\\u5c40\\\\u5c40\\\\u957f\\\\u804c\\\\u52a1\\\\uff1b\\\\u5b59\\\\u4e30\\\\u534e\\\\u7684\\\\u5c71\\\\u4e1c\\\\u7701\\\\u76d1\\\\u5bdf\\\\u5385\\\\u526f\\\\u5385\\\\u957f\\\\u804c\\\\u52a1\\\\uff1b\\\\u5218\\\\u94c1\\\\u751f\\\\u7684\\\\u5c71\\\\u4e1c\\\\u7701\\\\u76d1\\\\u5bdf\\\\u5385\\\\u526f\\\\u5385\\\\u957f\\\\u804c\\\\u52a1\\\\u3002\",\"old_level\":\"2\",\"media_type\":\"\",\"media_name\":\"\\\\u4e2d\\\\u56fd\\\\u7ecf\\\\u6d4e\\\\u7f51\"},{\"id\":\"1-1-34567208\",\"column\":\"gatxw\",\"title\":\"\\\\u53f0\\\\u5a92:\\\\u8d56\\\\u6e05\\\\u5fb7\\\\u4efb\\\\u53f0\\\\u201c\\\\u884c\\\\u653f\\\\u9662\\\\u957f\\\\u201d \\\\u4e24\\\\u5cb8\\\\u5173\\\\u7cfb\\\\u96be\\\\u4e50\\\\u89c2\",\"url\":\"http:\\\\/\\\\/news.sina.com.cn\\\\/o\\\\/2017-09-06\\\\/doc-ifyktzim8232522.shtml\",\"keywords\":\"\\\\u8521\\\\u82f1\\\\u6587,\\\\u8d56\\\\u6e05\\\\u5fb7,\\\\u6797\\\\u5168\",\"comment_channel\":\"\",\"img\":\"\",\"level\":\"0\",\"createtime\":\"1504667373\",\"ext1\":\"\",\"ext2\":\"gn:comos-fyktzim8232522:0\",\"ext3\":\"\",\"ext4\":\"gn:comos-fyktzim8232522:0\",\"ext5\":\"\\\\u539f\\\\u6807\\\\u9898\\\\uff1a\\\\u53f0\\\\u5a92\\\\uff1a\\\\u201c\\\\u72ec\\\\u6d3e\\\\u201d\\\\u8d56\\\\u6e05\\\\u5fb7\\\\u63a5\\\\u4efb\\\\u53f0\\\\u884c\\\\u653f\\\\u673a\\\\u6784\\\\u8d1f\\\\u8d23\\\\u4eba \\\\u4e24\\\\u5cb8\\\\u5173\\\\u7cfb\\\\u6050\\\\u96be\\\\u4e50\\\\u89c2\\\\n\\\\u53c2\\\\u8003\\\\u6d88\\\\u606f\\\\u7f519\\\\u67086\\\\u65e5\\\\u62a5\\\\u9053 \\\\u53f0\\\\u5a92\\\\u79f0\\\\uff0c\\\\u53f0\\\\u6e7e\\\\u5f53\\\\u5c40\\\\u9886\\\\u5bfc\\\\u4eba\\\\u8521\\\\u82f1\\\\u65879\\\\u67085\\\\u65e5\\\\u4e0a\\\\u5348\\\\u4e3e\\\\u884c\\\\u8bb0\\\\u8005\\\\u4f1a\\\\uff0c\\\\u5ba3\\\\u5e03\\\\u53f0\\\\u5357\\\\u5e02\\\\u957f\\\\u8d56\\\\u6e05\\\\u5fb7\\\\u63a5\\\\u4efb\\\\u53f0\\\\u5f53\\\\u5c40\\\\u884c\\\\u653f\\\\u4e3b\\\\u7ba1\\\\u90e8\\\\u95e8\\\\u8d1f\\\\u8d23\\\\u4eba\\\\u3002\",\"old_level\":\"2\",\"media_type\":\"\",\"media_name\":\"\\\\u53c2\\\\u8003\\\\u6d88\\\\u606f\"},{\"id\":\"1-1-34567201\",\"column\":\"gdxw1\",\"title\":\"\\\\u6559\\\\u80b2\\\\u90e8\\\\uff1a\\\\u4e94\\\\u5e74\\\\u6765\\\\u5168\\\\u56fd\\\\u53d1\\\\u653e\\\\u56fd\\\\u5bb6\\\\u52a9\\\\u5b66\\\\u8d37\\\\u6b3e\\\\u8d85900\\\\u4ebf\\\\u5143\",\"url\":\"http:\\\\/\\\\/news.sina.com.cn\\\\/o\\\\/2017-09-06\\\\/doc-ifykpzey4695378.shtml\",\"keywords\":\"\\\\u52a9\\\\u5b66\\\\u8d37\\\\u6b3e,\\\\u6559\\\\u80b2\\\\u90e8,\\\\u5b66\\\\u751f\",\"comment_channel\":\"\",\"img\":\"\",\"level\":\"0\",\"createtime\":\"1504667251\",\"ext1\":\"\",\"ext2\":\"gn:comos-fykpzey4695378:0\",\"ext3\":\"\",\"ext4\":\"gn:comos-fykpzey4695378:0\",\"ext5\":\"\\\\u539f\\\\u6807\\\\u9898\\\\uff1a\\\\u6559\\\\u80b2\\\\u90e8\\\\uff1a\\\\u4e94\\\\u5e74\\\\u6765\\\\u5168\\\\u56fd\\\\u53d1\\\\u653e\\\\u56fd\\\\u5bb6\\\\u52a9\\\\u5b66\\\\u8d37\\\\u6b3e\\\\u8d85900\\\\u4ebf\\\\u5143\\\\n\\\\u4e2d\\\\u65b0\\\\u7f51\\\\u5317\\\\u4eac9\\\\u67086\\\\u65e5\\\\u7535\\\\uff08\\\\u6c64\\\\u742a\\\\uff09\\\\u8bb0\\\\u80056\\\\u65e5\\\\u4ece\\\\u6559\\\\u80b2\\\\u90e8\\\\u83b7\\\\u6089\\\\uff0c2012\\\\u5e74\\\\u81f32016\\\\u5e74\\\\uff0c\\\\u5168\\\\u56fd\\\\u7d2f\\\\u8ba1\\\\u8d44\\\\u52a9\\\\u5b66\\\\u524d\\\\u6559\\\\u80b2\\\\u3001\\\\u4e49\\\\u52a1\\\\u6559\\\\u80b2\\\\u3001\\\\u666e\\\\u901a\\\\u9ad8\\\\u4e2d\\\\u3001\\\\u4e2d\\\\u804c\\\\u6559\\\\u80b2\\\\u3001\\\\u9ad8\\\\u7b49\\\\u6559\\\\u80b2\\\\u7b49\\\\u4e2a\\\\u9636\\\\u6bb5\\\\u5b66\\\\u751f\\\\uff08\\\\u5e7c\\\\u513f\\\\uff094.25\\\\u4ebf\\\\u4eba\\\\u6b21\\\\uff0c\\\\u8d44\\\\u52a9\\\\u603b\\\\u91d1\\\\u989d\\\\u7d2f\\\\u8ba1\\\\u8fd17000\\\\u4ebf\\\\u5143\\\\u3002\\\\u5176\\\\u4e2d\\\\uff0c\\\\u5168\\\\u56fd\\\\u7d2f\\\\u8ba1\\\\u53d1\\\\u653e\\\\u56fd\\\\u5bb6\\\\u52a9\\\\u5b66\\\\u8d37\\\\u6b3e948.93\\\\u4ebf\\\\u5143\\\\u2026\",\"old_level\":\"2\",\"media_type\":\"\",\"media_name\":\"\\\\u4e2d\\\\u56fd\\\\u65b0\\\\u95fb\\\\u7f51\"},{\"id\":\"1-1-34567191\",\"column\":\"gatxw\",\"title\":\"\\\\u53f0\\\\u79ef\\\\u7535\\\\u906d\\\\u53cd\\\\u5784\\\\u65ad\\\\u8c03\\\\u67e5\\\\uff1f\\\\u516c\\\\u53f8\\\\u56de\\\\u5e94\\\\u79f0\\\\u672a\\\\u83b7\\\\u901a\\\\u77e5\",\"url\":\"http:\\\\/\\\\/news.sina.com.cn\\\\/o\\\\/2017-09-06\\\\/doc-ifyktzim8231259.shtml\",\"keywords\":\"\\\\u53f0\\\\u79ef\\\\u7535,\\\\u6b27\\\\u76df,\\\\u5b59\\\\u53c8\\\\u6587\",\"comment_channel\":\"\",\"img\":\"\",\"level\":\"0\",\"createtime\":\"1504667114\",\"ext1\":\"\",\"ext2\":\"gn:comos-fyktzim8231259:0\",\"ext3\":\"\",\"ext4\":\"gn:comos-fyktzim8231259:0\",\"ext5\":\"\\\\u539f\\\\u6807\\\\u9898\\\\uff1a\\\\u53f0\\\\u79ef\\\\u7535\\\\u906d\\\\u53cd\\\\u5784\\\\u65ad\\\\u8c03\\\\u67e5\\\\uff1f \\\\u516c\\\\u53f8\\\\u56de\\\\u5e94\\\\u79f0\\\\u672a\\\\u83b7\\\\u901a\\\\u77e5\\\\n\\\\u4e2d\\\\u65b0\\\\u7f519\\\\u67086\\\\u65e5\\\\u7535 \\\\u636e\\\\u201c\\\\u4e2d\\\\u592e\\\\u793e\\\\u201d\\\\u62a5\\\\u9053\\\\uff0c\\\\u6709\\\\u5a92\\\\u4f53\\\\u62a5\\\\u9053\\\\u79f0\\\\uff0c\\\\u6676\\\\u5706\\\\u4ee3\\\\u5de5\\\\u5382\\\\u53f0\\\\u79ef\\\\u7535\\\\u6b63\\\\u9762\\\\u4e34\\\\u6b27\\\\u76df\\\\u4e0e\\\\u7f8e\\\\u56fd\\\\u53cd\\\\u5784\\\\u65ad\\\\u8c03\\\\u67e5\\\\u3002\\\\u53f0\\\\u79ef\\\\u7535\\\\u4ee3\\\\u7406\\\\u53d1\\\\u8a00\\\\u4eba\\\\u5b59\\\\u53c8\\\\u6587\\\\u8868\\\\u793a\\\\uff0c\\\\u5c1a\\\\u672a\\\\u63a5\\\\u83b7\\\\u6b63\\\\u5f0f\\\\u884c\\\\u6587\\\\u901a\\\\u77e5\\\\uff0c\\\\u4e5f\\\\u672a\\\\u88ab\\\\u8981\\\\u6c42\\\\u63d0\\\\u4f9b\\\\u8d44\\\\u6599\\\\uff0c\\\\u516c\\\\u53f8\\\\u4e00\\\\u5411\\\\u9075\\\\u5faa\\\\u6cd5\\\\u89c4\\\\u3002\",\"old_level\":\"2\",\"media_type\":\"\",\"media_name\":\"\\\\u4e2d\\\\u56fd\\\\u65b0\\\\u95fb\\\\u7f51\"},{\"id\":\"1-1-34567176\",\"column\":\"gatxw\",\"title\":\"\\\\u6e2f\\\\u5a92\\\\uff1a\\\\u8d56\\\\u6e05\\\\u5fb7\\\\u201c\\\\u4e0a\\\\u4f4d\\\\u201d \\\\u684c\\\\u9762\\\\u4e0a\\\\u540c\\\\u6837\\\\u6709\\\\u4e00\\\\u4efd\\\\u8003\\\\u5377\",\"url\":\"http:\\\\/\\\\/news.sina.com.cn\\\\/c\\\\/2017-09-06\\\\/doc-ifyktzim8231078.shtml\",\"keywords\":\"\\\\u8521\\\\u82f1\\\\u6587,\\\\u8d56\\\\u6e05\\\\u5fb7,\\\\u8003\\\\u5377\",\"comment_channel\":\"gn\",\"img\":\"\",\"level\":\"0\",\"createtime\":\"1504667066\",\"ext1\":\"\",\"ext2\":\"gn:comos-fyktzim8231078:0\",\"ext3\":\"\",\"ext4\":\"gn:comos-fyktzim8231078:0\",\"ext5\":\"\\\\u539f\\\\u6807\\\\u9898\\\\uff1a\\\\u6e2f\\\\u5a92\\\\uff1a\\\\u8d56\\\\u6e05\\\\u5fb7\\\\u201c\\\\u4e0a\\\\u4f4d\\\\u201d \\\\u684c\\\\u9762\\\\u4e0a\\\\u540c\\\\u6837\\\\u6709\\\\u4e00\\\\u4efd\\\\u8003\\\\u5377\\\\n\\\\u53f0\\\\u6e7e\\\\u5730\\\\u533a\\\\u9886\\\\u5bfc\\\\u4eba\\\\u8521\\\\u82f1\\\\u65875\\\\u65e5\\\\u4e0a\\\\u5348\\\\u4e3e\\\\u884c\\\\u8bb0\\\\u8005\\\\u4f1a\\\\uff0c\\\\u5ba3\\\\u5e03\\\\u65b0\\\\u4efb\\\\u201c\\\\u884c\\\\u653f\\\\u9662\\\\u957f\\\\u201d\\\\u7531\\\\u8d56\\\\u6e05\\\\u5fb7\\\\u63a5\\\\u4efb\\\\u3002\\\\u5bf9\\\\u6b64\\\\uff0c\\\\u9999\\\\u6e2f\\\\u4e2d\\\\u8bc4\\\\u793e6\\\\u65e5\\\\u53d1\\\\u8868\\\\u5feb\\\\u8bc4\\\\u6587\\\\u7ae0\\\\u79f0\\\\uff0c\\\\u8d56\\\\u6e05\\\\u5fb7\\\\u662f\\\\u4e00\\\\u4f4d\\\\u201c\\\\u94c1\\\\u6746\\\\u53f0\\\\u72ec\\\\u201d\\\\uff0c\\\\u4ed6\\\\u7684\\\\u4e0a\\\\u4f4d\\\\uff0c\\\\u610f\\\\u5473\\\\u7740\\\\u201c\\\\u72ec\\\\u6d3e\\\\u201d\\\\u5b9e\\\\u73b0\\\\u4e86\\\\u201c\\\\u7ec4\\\\u9601\\\\u201d\\\\u76ee\\\\u6807\\\\uff0c\\\\u4e24\\\\u5cb8\\\\u5173\\\\u7cfb\\\\u672a\\\\u6765\\\\u662f\\\\u5426\\\\u66f4\\\\u52a8\\\\u8361\\\\uff0c\\\\u89c6\\\\u8d56\\\\u6e05\\\\u5fb7\\\\u65b0\\\\u7684\\\\u4e24\\\\u5cb8\\\\u7acb\\\\u573a\\\\u2026\",\"old_level\":\"2\",\"media_type\":\"\",\"media_name\":\"\\\\u73af\\\\u7403\\\\u7f51\"}]}}'"
      ]
     },
     "execution_count": 100,
     "metadata": {},
     "output_type": "execute_result"
    }
   ],
   "source": [
    "res = requests.get('http://api.roll.news.sina.com.cn/zt_list?channel=news&cat_1=gnxw&cat_2==gdxw1||=gatxw||=zs-pl||=mtjj&level==1||=2&show_ext=1&show_all=1&show_num=22&tag=1&format=json&page=1&callback=newsloadercallback&_=1504674843015')\n",
    "res.text.lstrip('  newsloadercallback(').rstrip(');')"
   ]
  },
  {
   "cell_type": "code",
   "execution_count": 101,
   "metadata": {
    "collapsed": false
   },
   "outputs": [
    {
     "data": {
      "text/plain": [
       "[{'column': 'gdxw1',\n",
       "  'comment_channel': 'gn',\n",
       "  'createtime': '1504675745',\n",
       "  'ext1': '',\n",
       "  'ext2': 'gn:comos-fyktzim8287748:0',\n",
       "  'ext3': '',\n",
       "  'ext4': 'gn:comos-fyktzim8287748:0',\n",
       "  'ext5': '原标题：重大突破！我国首次钻获温度最高的干热岩 或将改写传统能源版图！\\n记者从国土资源部中国地质调查局了解到，日前我国科学家在青海共和盆地3705米深处钻获236℃的高温干热岩体。这是我国首次钻获温度最高的干热岩体，实现了我国干热岩勘查的重大突破。专家认为，地热资源已成为新能源中的…',\n",
       "  'id': '1-1-34568023',\n",
       "  'img': '',\n",
       "  'keywords': '干热岩,能源,调查局',\n",
       "  'level': '0',\n",
       "  'media_name': '央视新闻',\n",
       "  'media_type': 'zwsp',\n",
       "  'old_level': '2',\n",
       "  'title': '中国首次钻获温度最高干热岩 或改写能源版图',\n",
       "  'url': 'http://news.sina.com.cn/c/nd/2017-09-06/doc-ifyktzim8287748.shtml'},\n",
       " {'column': 'gdxw1',\n",
       "  'comment_channel': '',\n",
       "  'createtime': '1504675596',\n",
       "  'ext1': '',\n",
       "  'ext2': 'gn:comos-fyktzim8287499:0',\n",
       "  'ext3': '',\n",
       "  'ext4': 'gn:comos-fyktzim8287499:0',\n",
       "  'ext5': '原标题：湖北蕲春通报：豪赌视频6人中3人系党员干部，警方纪委介入\\n针对微信朋友圈疯传湖北黄冈市蕲春县赌徒挥金如土、赌资数万的赌博视频，蕲春警方按图索骥，发现6名参赌人员竟有三名党员干部。澎湃新闻（www.thepaper.cn）9月5日从蕲春县相关部门了解到，蕲春县纪委已对三名党员干部作出处分…',\n",
       "  'id': '1-1-34567935',\n",
       "  'img': '',\n",
       "  'keywords': '蕲春县,蕲春,管窑镇',\n",
       "  'level': '0',\n",
       "  'media_name': '澎湃新闻',\n",
       "  'media_type': '',\n",
       "  'old_level': '2',\n",
       "  'title': '湖北蕲春通报:豪赌视频中3人系干部 纪委已介入',\n",
       "  'url': 'http://news.sina.com.cn/o/2017-09-06/doc-ifyktzim8287499.shtml'},\n",
       " {'column': 'gdxw1',\n",
       "  'comment_channel': 'gn',\n",
       "  'createtime': '1504674729',\n",
       "  'ext1': '',\n",
       "  'ext2': 'gn:comos-fykqmrw1044766:0',\n",
       "  'ext3': '',\n",
       "  'ext4': 'gn:comos-fykqmrw1044766:0',\n",
       "  'ext5': '原标题：突发，这类人可“无条件落户”！2.8亿人沸腾了\\n户口簿，平时似乎一直躺抽屉，如果一旦涉及到买房、结婚、出国等大事，就必不可少了，甚至还决定你是否“拥有资格”。',\n",
       "  'id': '1-1-34567891',\n",
       "  'img': '',\n",
       "  'keywords': '农民工,浙江,落户,政策',\n",
       "  'level': '0',\n",
       "  'media_name': '央视财经',\n",
       "  'media_type': '',\n",
       "  'old_level': '2',\n",
       "  'title': '浙江出台户口迁移政策:优秀农民工可无条件落户',\n",
       "  'url': 'http://news.sina.com.cn/c/nd/2017-09-06/doc-ifykqmrw1044766.shtml'},\n",
       " {'column': 'gdxw1',\n",
       "  'comment_channel': '',\n",
       "  'createtime': '1504674672',\n",
       "  'ext1': '',\n",
       "  'ext2': 'gn:comos-fyktzim8284282:0',\n",
       "  'ext3': '',\n",
       "  'ext4': 'gn:comos-fyktzim8284282:0',\n",
       "  'ext5': '中新网9月6日电 据中国气象局网站消息，中央气象台9月6日10时发布台风蓝色预警。今年第17台风“古超”今天晚上将移入台湾海峡南部海面，以后趋向福建南部沿海。\\n据悉，今年第17台风“古超”（热带风暴级，英文名：Guchol；名字来源：密克罗尼西亚；名字意义：一种香料）今天（6日，下同）上午8…',\n",
       "  'id': '1-1-34567890',\n",
       "  'img': '',\n",
       "  'keywords': '台湾海峡,台风,蓝色预警',\n",
       "  'level': '0',\n",
       "  'media_name': '中国新闻网',\n",
       "  'media_type': '',\n",
       "  'old_level': '2',\n",
       "  'title': '台风蓝色预警：“古超”将移入台湾海峡南部',\n",
       "  'url': 'http://news.sina.com.cn/o/2017-09-06/doc-ifyktzim8284282.shtml'},\n",
       " {'column': 'gdxw1',\n",
       "  'comment_channel': 'gn',\n",
       "  'createtime': '1504674606',\n",
       "  'ext1': '',\n",
       "  'ext2': 'gn:comos-fykpysa3650406:0',\n",
       "  'ext3': '',\n",
       "  'ext4': 'gn:comos-fykpysa3650406:0',\n",
       "  'ext5': '原标题：江苏省人民检察院依法对吴志刚（正厅级）以涉嫌受贿罪立案侦查\\n江苏检察在线消息，日前，江苏省人民检察院经决定，依法对徐州矿务集团原董事长吴志刚（正厅级）以涉嫌受贿罪立案侦查，并采取强制措施。案件侦查工作正在进行中。',\n",
       "  'id': '1-1-34567887',\n",
       "  'img': '',\n",
       "  'keywords': '吴志刚,矿务,徐州',\n",
       "  'level': '0',\n",
       "  'media_name': '澎湃新闻',\n",
       "  'media_type': '',\n",
       "  'old_level': '2',\n",
       "  'title': '江苏徐州矿务集团原董事长吴志刚被立案侦查',\n",
       "  'url': 'http://news.sina.com.cn/c/nd/2017-09-06/doc-ifykpysa3650406.shtml'},\n",
       " {'column': 'gatxw',\n",
       "  'comment_channel': 'gn',\n",
       "  'createtime': '1504673942',\n",
       "  'ext1': '',\n",
       "  'ext2': 'gn:comos-fyktzim8281718:0',\n",
       "  'ext3': '',\n",
       "  'ext4': 'gn:comos-fyktzim8281718:0',\n",
       "  'ext5': '原标题：台名校女高中生跳楼身亡 留下遗书：不用找了 就是我\\n据台湾“中时电子报”9月6日报道，家住新北市永和区的15岁吴姓北一女（编者注：台北第一女子高级中学，全台湾首屈一指的女子高中）学生，今日（6日）上午7时30分许，向家人表示出门上学后，竟然登上自家大楼14楼顶，纵身跳下，造成全…',\n",
       "  'id': '1-1-34567848',\n",
       "  'img': '',\n",
       "  'keywords': '永和,警方,北一',\n",
       "  'level': '0',\n",
       "  'media_name': '环球网',\n",
       "  'media_type': '',\n",
       "  'old_level': '2',\n",
       "  'title': '台名校女高中生跳楼身亡留遗书:不用找了就是我',\n",
       "  'url': 'http://news.sina.com.cn/c/2017-09-06/doc-ifyktzim8281718.shtml'},\n",
       " {'column': 'gdxw1',\n",
       "  'comment_channel': 'gn',\n",
       "  'createtime': '1504673838',\n",
       "  'ext1': '',\n",
       "  'ext2': 'gn:comos-fykpzey4744740:0',\n",
       "  'ext3': '',\n",
       "  'ext4': 'gn:comos-fykpzey4744740:0',\n",
       "  'ext5': '近期，西藏自治区各级纪检监察机关严肃查处了一批扶贫领域违纪问题，维护群众切身利益。自治区纪委通报其中3起典型问题，分别是：\\n1。拉萨市墨竹工卡县尼玛江热乡帮达村党支部副书记、村委会主任次旺仁增套取扶贫培训资金问题。2015年，次旺仁增在担任村党支部副书记、村委会主任、慈路功博藏式…',\n",
       "  'id': '1-1-34567854',\n",
       "  'img': '',\n",
       "  'keywords': '西藏自治区,扶贫,违纪,纪委',\n",
       "  'level': '0',\n",
       "  'media_name': '中央纪委监察部网站',\n",
       "  'media_type': '',\n",
       "  'old_level': '2',\n",
       "  'title': '西藏自治区纪委通报3起扶贫领域违纪典型问题',\n",
       "  'url': 'http://news.sina.com.cn/c/nd/2017-09-06/doc-ifykpzey4744740.shtml'},\n",
       " {'column': 'gdxw1',\n",
       "  'comment_channel': 'gn',\n",
       "  'createtime': '1504670781',\n",
       "  'ext1': '',\n",
       "  'ext2': 'gn:comos-fyktzim8259210:0',\n",
       "  'ext3': '',\n",
       "  'ext4': 'gn:comos-fyktzim8259210:0',\n",
       "  'ext5': '原标题：好消息！全区文物景点向区内干部群众实行免费参观，包括布达拉宫、大昭寺哦！\\n小编从西藏自治区文物局了解到，从2017年9月1日起，全区文物景点向区内干部群众实行免费参观啦！鉴于旅游旺季布达拉宫、大昭寺等景点接待压力过大的实际，每年5月1日至10月1日，除农牧民群众外，其他区内人…',\n",
       "  'id': '1-1-34567680',\n",
       "  'img': '',\n",
       "  'keywords': '布达拉宫,西藏,大昭寺',\n",
       "  'level': '0',\n",
       "  'media_name': '澎湃新闻',\n",
       "  'media_type': '',\n",
       "  'old_level': '2',\n",
       "  'title': '西藏全区文物景点向区内干部群众实行免费参观',\n",
       "  'url': 'http://news.sina.com.cn/c/nd/2017-09-06/doc-ifyktzim8259210.shtml'},\n",
       " {'column': 'gdxw1',\n",
       "  'comment_channel': 'gn',\n",
       "  'createtime': '1504670776',\n",
       "  'ext1': '',\n",
       "  'ext2': 'gn:comos-fykpzey4722498:0',\n",
       "  'ext3': '',\n",
       "  'ext4': 'gn:comos-fykpzey4722498:0',\n",
       "  'ext5': '原标题：你干过什么，战场最清楚\\n现在，部队选拔任用干部，尤其是配备主官，任职经历是一条重要参考标准。一些同志能力素质不错，却因为经历单一而被挡在门槛之外，感到条件过于苛刻。应当看到，每一段经历都是为打仗蓄底气、做准备。',\n",
       "  'id': '1-1-34567671',\n",
       "  'img': '',\n",
       "  'keywords': '干部,部队,选拔',\n",
       "  'level': '1',\n",
       "  'media_name': '澎湃新闻',\n",
       "  'media_type': '',\n",
       "  'old_level': '1',\n",
       "  'title': '军报谈部队干部选拔：你干过什么 战场最清楚',\n",
       "  'url': 'http://news.sina.com.cn/c/nd/2017-09-06/doc-ifykpzey4722498.shtml'},\n",
       " {'column': 'gdxw1',\n",
       "  'comment_channel': '',\n",
       "  'createtime': '1504669705',\n",
       "  'ext1': '',\n",
       "  'ext2': 'gn:comos-fyktzim8248760:0',\n",
       "  'ext3': '',\n",
       "  'ext4': 'gn:comos-fyktzim8248760:0',\n",
       "  'ext5': '原标题：动图：吉林松原地区北部突现龙卷风\\n2017年9月5日16时左右，位于吉林省松原地区北部的扶余市工棚子镇更新乡新红村九间房屯突现龙卷风。狂风导致当地部分房屋受损严重，截止至6日09时，受灾地区暂无人员伤亡。',\n",
       "  'id': '1-1-34567578',\n",
       "  'img': '',\n",
       "  'keywords': '龙卷风,松原,地区',\n",
       "  'level': '0',\n",
       "  'media_name': '央视新闻',\n",
       "  'media_type': '',\n",
       "  'old_level': '2',\n",
       "  'title': '吉林松原北部现龙卷风 部分房屋受损严重(图)',\n",
       "  'url': 'http://news.sina.com.cn/o/2017-09-06/doc-ifyktzim8248760.shtml'},\n",
       " {'column': 'gdxw1',\n",
       "  'comment_channel': '',\n",
       "  'createtime': '1504669515',\n",
       "  'ext1': '',\n",
       "  'ext2': 'gn:comos-fyktzim8247054:0',\n",
       "  'ext3': '',\n",
       "  'ext4': 'gn:comos-fyktzim8247054:0',\n",
       "  'ext5': '原标题：海外高层次人才走进河北：愿参与雄安新区发展\\n中新网雄安9月6日电 （记者 李茜）来自14个国家和地区的约80位海外高层次人才5日走进河北雄安新区，寻找自己与雄安新区未来发展的契合点。',\n",
       "  'id': '1-1-34567553',\n",
       "  'img': '',\n",
       "  'keywords': '京津冀,雄安新区,归国华侨',\n",
       "  'level': '0',\n",
       "  'media_name': '中国新闻网',\n",
       "  'media_type': '',\n",
       "  'old_level': '2',\n",
       "  'title': '海外高层次人才走进河北：愿参与雄安新区发展',\n",
       "  'url': 'http://news.sina.com.cn/o/2017-09-06/doc-ifyktzim8247054.shtml'},\n",
       " {'column': 'gdxw1',\n",
       "  'comment_channel': '',\n",
       "  'createtime': '1504669486',\n",
       "  'ext1': '',\n",
       "  'ext2': 'gn:comos-fyktzim8246781:0',\n",
       "  'ext3': '',\n",
       "  'ext4': 'gn:comos-fyktzim8246781:0',\n",
       "  'ext5': '原标题： 中国罕见公开无人机拍摄钓鱼岛视频 海警局用日语喊话——\\n日媒称，今年5月，行驶在钓鱼岛周边的中国海警局公务船上空曾有小型无人机飞行，日前，中国中央电视台播放了根据拍摄视频编辑而成的特别节目，这体现了中方在国内外加强钓鱼岛的主权声索，为形成舆论支持而开展情报战的情况。…',\n",
       "  'id': '1-1-34567541',\n",
       "  'img': '',\n",
       "  'keywords': '钓鱼岛,无人机,公务船',\n",
       "  'level': '1',\n",
       "  'media_name': '参考消息',\n",
       "  'media_type': '',\n",
       "  'old_level': '1',\n",
       "  'title': '中国公开无人机拍摄钓岛视频 海警局用日语喊话',\n",
       "  'url': 'http://news.sina.com.cn/o/2017-09-06/doc-ifyktzim8246781.shtml'},\n",
       " {'column': 'gdxw1',\n",
       "  'comment_channel': '',\n",
       "  'createtime': '1504668724',\n",
       "  'ext1': '',\n",
       "  'ext2': 'gn:comos-fyktzim8240366:0',\n",
       "  'ext3': '',\n",
       "  'ext4': 'gn:comos-fyktzim8240366:0',\n",
       "  'ext5': '原标题：胡润财富报告：中国大陆每940人中就有1位千万富豪\\n[环球网综合报道]5日，胡润研究院发布《2017胡润财富报告》，统计中国拥有600万资产、千万资产、亿万资产和3000万美金资产国际超高净值的家庭数量和地域分布情况。这是胡润研究院连续第九年发布《胡润财富报告》，而且首次包括了港澳台…',\n",
       "  'id': '1-1-34567372',\n",
       "  'img': '',\n",
       "  'keywords': '胡润,财富,净值',\n",
       "  'level': '1',\n",
       "  'media_name': '环球网',\n",
       "  'media_type': '',\n",
       "  'old_level': '1',\n",
       "  'title': '胡润财富报告:中国大陆每940人有1位千万富豪',\n",
       "  'url': 'http://news.sina.com.cn/o/2017-09-06/doc-ifyktzim8240366.shtml'},\n",
       " {'column': 'gdxw1',\n",
       "  'comment_channel': 'gn',\n",
       "  'createtime': '1504668678',\n",
       "  'ext1': '',\n",
       "  'ext2': 'gn:comos-fyktzim8240053:0',\n",
       "  'ext3': '',\n",
       "  'ext4': 'gn:comos-fyktzim8240053:0',\n",
       "  'ext5': '原标题：常去网吧学生不能认定为贫困生？教育部：地方原则性意见\\n中新网客户端9月6日消息，近日，陕西省教育厅一则“常去网吧的学生不能被认定为贫困生”的规定引发热议，教育部9月6日上午回应称，教育部已跟陕西省教育厅进行了核实，这条规定只是陕西省认定家庭经济困难学生的原则性意见，还要…',\n",
       "  'id': '1-1-34567415',\n",
       "  'img': '',\n",
       "  'keywords': '贫困生,原则性,教育部',\n",
       "  'level': '1',\n",
       "  'media_name': '中国新闻网',\n",
       "  'media_type': '',\n",
       "  'old_level': '1',\n",
       "  'title': '常去网吧学生不能认定为贫困生？教育部回应',\n",
       "  'url': 'http://news.sina.com.cn/c/nd/2017-09-06/doc-ifyktzim8240053.shtml'},\n",
       " {'column': 'gdxw1',\n",
       "  'comment_channel': '',\n",
       "  'createtime': '1504668077',\n",
       "  'ext1': '',\n",
       "  'ext2': 'gn:comos-fykpzey4699820:0',\n",
       "  'ext3': '',\n",
       "  'ext4': 'gn:comos-fykpzey4699820:0',\n",
       "  'ext5': '原标题：中国社会科学院大学成立大会将于9月12日举行\\n为深入贯彻习近平总书记系列重要讲话精神，繁荣发展中国哲学社会科学，今年5月，中国社会科学院大正式成立。澎湃新闻记者9月6日从校方获悉，目前各项工作推进顺利，2017年招生工作已圆满结束，2017级新生将于9月份入学，兹定于9月12日上午举…',\n",
       "  'id': '1-1-34567366',\n",
       "  'img': '',\n",
       "  'keywords': '新生,大会,大学',\n",
       "  'level': '0',\n",
       "  'media_name': '澎湃新闻',\n",
       "  'media_type': '',\n",
       "  'old_level': '2',\n",
       "  'title': '中国社会科学院大学成立大会将于9月12日举行',\n",
       "  'url': 'http://news.sina.com.cn/o/2017-09-06/doc-ifykpzey4699820.shtml'},\n",
       " {'column': 'gdxw1',\n",
       "  'comment_channel': '',\n",
       "  'createtime': '1504668011',\n",
       "  'ext1': '',\n",
       "  'ext2': 'gn:comos-fyktzim8235569:0',\n",
       "  'ext3': '',\n",
       "  'ext4': 'gn:comos-fyktzim8235569:0',\n",
       "  'ext5': '原标题：四川环保督察风暴：下沉1994个点位督察 处罚金额逾亿元\\n中新网成都9月6日电 （杨珺）6日，记者从四川省环保厅获悉，为在2018年前完成原定三年完成的环保督察工作，四川省已发动20余个省级部门、300余人次对1994个点位进行了下沉督察。',\n",
       "  'id': '1-1-34567296',\n",
       "  'img': '',\n",
       "  'keywords': '环保,督察,四川省',\n",
       "  'level': '0',\n",
       "  'media_name': '中国新闻网',\n",
       "  'media_type': '',\n",
       "  'old_level': '2',\n",
       "  'title': '四川环保督察下沉1994个点位 处罚金额逾亿元',\n",
       "  'url': 'http://news.sina.com.cn/o/2017-09-06/doc-ifyktzim8235569.shtml'},\n",
       " {'column': 'gdxw1',\n",
       "  'comment_channel': 'gn',\n",
       "  'createtime': '1504667851',\n",
       "  'ext1': '',\n",
       "  'ext2': 'gn:comos-fykpysa3614519:0',\n",
       "  'ext3': '',\n",
       "  'ext4': 'gn:comos-fykpysa3614519:0',\n",
       "  'ext5': '原标题：水利部党组中心组专题学习《习近平的七年知青岁月》\\n近日水利部党组书记、部长陈雷主持党组中心组（扩大）学习，专题学习研讨《习近平的七年知青岁月》。他强调，水利系统广大党员干部要从习近平总书记的成长经历中汲取丰厚养分，进一步增强“四个意识”，更加紧密地团结在以习近平同志…',\n",
       "  'id': '1-1-34567263',\n",
       "  'img': '',\n",
       "  'keywords': '陈雷,习近平的七年知青岁月,水利部',\n",
       "  'level': '0',\n",
       "  'media_name': '澎湃新闻',\n",
       "  'media_type': '',\n",
       "  'old_level': '2',\n",
       "  'title': '陈雷谈《习近平的七年知青岁月》学习体会',\n",
       "  'url': 'http://news.sina.com.cn/c/nd/2017-09-06/doc-ifykpysa3614519.shtml'},\n",
       " {'column': 'gdxw1',\n",
       "  'comment_channel': '',\n",
       "  'createtime': '1504667837',\n",
       "  'ext1': '',\n",
       "  'ext2': 'gn:comos-fyktzim8234636:0',\n",
       "  'ext3': '',\n",
       "  'ext4': 'gn:comos-fyktzim8234636:0',\n",
       "  'ext5': '经济日报-中国经济网北京9月6日讯 近日，山东省人民政府决定，任命：明春德为山东省预防腐败局局长；孟祥吉为山东省监察厅副厅长；王斌为山东省监察厅副厅长。免去：马明生的山东省预防腐败局局长职务；孙丰华的山东省监察厅副厅长职务；刘铁生的山东省监察厅副厅长职务。',\n",
       "  'id': '1-1-34567262',\n",
       "  'img': '',\n",
       "  'keywords': '铁矿,山东省,明春德',\n",
       "  'level': '0',\n",
       "  'media_name': '中国经济网',\n",
       "  'media_type': '',\n",
       "  'old_level': '2',\n",
       "  'title': '明春德任山东省预防腐败局局长 马明生不再担任',\n",
       "  'url': 'http://news.sina.com.cn/o/2017-09-06/doc-ifyktzim8234636.shtml'},\n",
       " {'column': 'gatxw',\n",
       "  'comment_channel': '',\n",
       "  'createtime': '1504667373',\n",
       "  'ext1': '',\n",
       "  'ext2': 'gn:comos-fyktzim8232522:0',\n",
       "  'ext3': '',\n",
       "  'ext4': 'gn:comos-fyktzim8232522:0',\n",
       "  'ext5': '原标题：台媒：“独派”赖清德接任台行政机构负责人 两岸关系恐难乐观\\n参考消息网9月6日报道 台媒称，台湾当局领导人蔡英文9月5日上午举行记者会，宣布台南市长赖清德接任台当局行政主管部门负责人。',\n",
       "  'id': '1-1-34567208',\n",
       "  'img': '',\n",
       "  'keywords': '蔡英文,赖清德,林全',\n",
       "  'level': '0',\n",
       "  'media_name': '参考消息',\n",
       "  'media_type': '',\n",
       "  'old_level': '2',\n",
       "  'title': '台媒:赖清德任台“行政院长” 两岸关系难乐观',\n",
       "  'url': 'http://news.sina.com.cn/o/2017-09-06/doc-ifyktzim8232522.shtml'},\n",
       " {'column': 'gdxw1',\n",
       "  'comment_channel': '',\n",
       "  'createtime': '1504667251',\n",
       "  'ext1': '',\n",
       "  'ext2': 'gn:comos-fykpzey4695378:0',\n",
       "  'ext3': '',\n",
       "  'ext4': 'gn:comos-fykpzey4695378:0',\n",
       "  'ext5': '原标题：教育部：五年来全国发放国家助学贷款超900亿元\\n中新网北京9月6日电（汤琪）记者6日从教育部获悉，2012年至2016年，全国累计资助学前教育、义务教育、普通高中、中职教育、高等教育等个阶段学生（幼儿）4.25亿人次，资助总金额累计近7000亿元。其中，全国累计发放国家助学贷款948.93亿元…',\n",
       "  'id': '1-1-34567201',\n",
       "  'img': '',\n",
       "  'keywords': '助学贷款,教育部,学生',\n",
       "  'level': '0',\n",
       "  'media_name': '中国新闻网',\n",
       "  'media_type': '',\n",
       "  'old_level': '2',\n",
       "  'title': '教育部：五年来全国发放国家助学贷款超900亿元',\n",
       "  'url': 'http://news.sina.com.cn/o/2017-09-06/doc-ifykpzey4695378.shtml'},\n",
       " {'column': 'gatxw',\n",
       "  'comment_channel': '',\n",
       "  'createtime': '1504667114',\n",
       "  'ext1': '',\n",
       "  'ext2': 'gn:comos-fyktzim8231259:0',\n",
       "  'ext3': '',\n",
       "  'ext4': 'gn:comos-fyktzim8231259:0',\n",
       "  'ext5': '原标题：台积电遭反垄断调查？ 公司回应称未获通知\\n中新网9月6日电 据“中央社”报道，有媒体报道称，晶圆代工厂台积电正面临欧盟与美国反垄断调查。台积电代理发言人孙又文表示，尚未接获正式行文通知，也未被要求提供资料，公司一向遵循法规。',\n",
       "  'id': '1-1-34567191',\n",
       "  'img': '',\n",
       "  'keywords': '台积电,欧盟,孙又文',\n",
       "  'level': '0',\n",
       "  'media_name': '中国新闻网',\n",
       "  'media_type': '',\n",
       "  'old_level': '2',\n",
       "  'title': '台积电遭反垄断调查？公司回应称未获通知',\n",
       "  'url': 'http://news.sina.com.cn/o/2017-09-06/doc-ifyktzim8231259.shtml'},\n",
       " {'column': 'gatxw',\n",
       "  'comment_channel': 'gn',\n",
       "  'createtime': '1504667066',\n",
       "  'ext1': '',\n",
       "  'ext2': 'gn:comos-fyktzim8231078:0',\n",
       "  'ext3': '',\n",
       "  'ext4': 'gn:comos-fyktzim8231078:0',\n",
       "  'ext5': '原标题：港媒：赖清德“上位” 桌面上同样有一份考卷\\n台湾地区领导人蔡英文5日上午举行记者会，宣布新任“行政院长”由赖清德接任。对此，香港中评社6日发表快评文章称，赖清德是一位“铁杆台独”，他的上位，意味着“独派”实现了“组阁”目标，两岸关系未来是否更动荡，视赖清德新的两岸立场…',\n",
       "  'id': '1-1-34567176',\n",
       "  'img': '',\n",
       "  'keywords': '蔡英文,赖清德,考卷',\n",
       "  'level': '0',\n",
       "  'media_name': '环球网',\n",
       "  'media_type': '',\n",
       "  'old_level': '2',\n",
       "  'title': '港媒：赖清德“上位” 桌面上同样有一份考卷',\n",
       "  'url': 'http://news.sina.com.cn/c/2017-09-06/doc-ifyktzim8231078.shtml'}]"
      ]
     },
     "execution_count": 101,
     "metadata": {},
     "output_type": "execute_result"
    }
   ],
   "source": [
    "import json\n",
    "jd = json.loads(res.text.lstrip('  newsloadercallback(').rstrip(');'))\n",
    "jd['result']['data']"
   ]
  },
  {
   "cell_type": "code",
   "execution_count": 104,
   "metadata": {
    "collapsed": false
   },
   "outputs": [
    {
     "name": "stdout",
     "output_type": "stream",
     "text": [
      "http://news.sina.com.cn/c/nd/2017-09-06/doc-ifyktzim8287748.shtml\n",
      "http://news.sina.com.cn/o/2017-09-06/doc-ifyktzim8287499.shtml\n",
      "http://news.sina.com.cn/c/nd/2017-09-06/doc-ifykqmrw1044766.shtml\n",
      "http://news.sina.com.cn/o/2017-09-06/doc-ifyktzim8284282.shtml\n",
      "http://news.sina.com.cn/c/nd/2017-09-06/doc-ifykpysa3650406.shtml\n",
      "http://news.sina.com.cn/c/2017-09-06/doc-ifyktzim8281718.shtml\n",
      "http://news.sina.com.cn/c/nd/2017-09-06/doc-ifykpzey4744740.shtml\n",
      "http://news.sina.com.cn/c/nd/2017-09-06/doc-ifyktzim8259210.shtml\n",
      "http://news.sina.com.cn/c/nd/2017-09-06/doc-ifykpzey4722498.shtml\n",
      "http://news.sina.com.cn/o/2017-09-06/doc-ifyktzim8248760.shtml\n",
      "http://news.sina.com.cn/o/2017-09-06/doc-ifyktzim8247054.shtml\n",
      "http://news.sina.com.cn/o/2017-09-06/doc-ifyktzim8246781.shtml\n",
      "http://news.sina.com.cn/o/2017-09-06/doc-ifyktzim8240366.shtml\n",
      "http://news.sina.com.cn/c/nd/2017-09-06/doc-ifyktzim8240053.shtml\n",
      "http://news.sina.com.cn/o/2017-09-06/doc-ifykpzey4699820.shtml\n",
      "http://news.sina.com.cn/o/2017-09-06/doc-ifyktzim8235569.shtml\n",
      "http://news.sina.com.cn/c/nd/2017-09-06/doc-ifykpysa3614519.shtml\n",
      "http://news.sina.com.cn/o/2017-09-06/doc-ifyktzim8234636.shtml\n",
      "http://news.sina.com.cn/o/2017-09-06/doc-ifyktzim8232522.shtml\n",
      "http://news.sina.com.cn/o/2017-09-06/doc-ifykpzey4695378.shtml\n",
      "http://news.sina.com.cn/o/2017-09-06/doc-ifyktzim8231259.shtml\n",
      "http://news.sina.com.cn/c/2017-09-06/doc-ifyktzim8231078.shtml\n"
     ]
    }
   ],
   "source": [
    "for ent in jd['result']['data']:\n",
    "    print(ent['url'])"
   ]
  },
  {
   "cell_type": "code",
   "execution_count": null,
   "metadata": {
    "collapsed": true
   },
   "outputs": [],
   "source": []
  },
  {
   "cell_type": "code",
   "execution_count": null,
   "metadata": {
    "collapsed": true
   },
   "outputs": [],
   "source": []
  }
 ],
 "metadata": {
  "kernelspec": {
   "display_name": "Python 3",
   "language": "python",
   "name": "python3"
  },
  "language_info": {
   "codemirror_mode": {
    "name": "ipython",
    "version": 3
   },
   "file_extension": ".py",
   "mimetype": "text/x-python",
   "name": "python",
   "nbconvert_exporter": "python",
   "pygments_lexer": "ipython3",
   "version": "3.6.0"
  }
 },
 "nbformat": 4,
 "nbformat_minor": 2
}
